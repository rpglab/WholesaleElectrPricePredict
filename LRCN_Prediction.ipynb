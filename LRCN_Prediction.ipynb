{
 "cells": [
  {
   "cell_type": "code",
   "execution_count": 1,
   "id": "c7bf6878",
   "metadata": {},
   "outputs": [
    {
     "data": {
      "text/plain": [
       "datetime.datetime(2022, 4, 5, 16, 25, 55, 879252)"
      ]
     },
     "execution_count": 1,
     "metadata": {},
     "output_type": "execute_result"
    }
   ],
   "source": [
    "#  LRCN-based LMP prediction program \n",
    "#  by Vasudharini Sridharan and Mingjian Tuo \n",
    "#  ebsite: https://rpglab.github.io/\n",
    "\n",
    "\n",
    "import datetime\n",
    "start = datetime.datetime.now()\n",
    "start"
   ]
  },
  {
   "cell_type": "code",
   "execution_count": 2,
   "id": "e32cda3f",
   "metadata": {},
   "outputs": [
    {
     "name": "stderr",
     "output_type": "stream",
     "text": [
      "Using TensorFlow backend.\n",
      "D:\\Visual Studio2019\\Shared\\Anaconda3_64\\lib\\site-packages\\tensorflow\\python\\framework\\dtypes.py:526: FutureWarning: Passing (type, 1) or '1type' as a synonym of type is deprecated; in a future version of numpy, it will be understood as (type, (1,)) / '(1,)type'.\n",
      "  _np_qint8 = np.dtype([(\"qint8\", np.int8, 1)])\n",
      "D:\\Visual Studio2019\\Shared\\Anaconda3_64\\lib\\site-packages\\tensorflow\\python\\framework\\dtypes.py:527: FutureWarning: Passing (type, 1) or '1type' as a synonym of type is deprecated; in a future version of numpy, it will be understood as (type, (1,)) / '(1,)type'.\n",
      "  _np_quint8 = np.dtype([(\"quint8\", np.uint8, 1)])\n",
      "D:\\Visual Studio2019\\Shared\\Anaconda3_64\\lib\\site-packages\\tensorflow\\python\\framework\\dtypes.py:528: FutureWarning: Passing (type, 1) or '1type' as a synonym of type is deprecated; in a future version of numpy, it will be understood as (type, (1,)) / '(1,)type'.\n",
      "  _np_qint16 = np.dtype([(\"qint16\", np.int16, 1)])\n",
      "D:\\Visual Studio2019\\Shared\\Anaconda3_64\\lib\\site-packages\\tensorflow\\python\\framework\\dtypes.py:529: FutureWarning: Passing (type, 1) or '1type' as a synonym of type is deprecated; in a future version of numpy, it will be understood as (type, (1,)) / '(1,)type'.\n",
      "  _np_quint16 = np.dtype([(\"quint16\", np.uint16, 1)])\n",
      "D:\\Visual Studio2019\\Shared\\Anaconda3_64\\lib\\site-packages\\tensorflow\\python\\framework\\dtypes.py:530: FutureWarning: Passing (type, 1) or '1type' as a synonym of type is deprecated; in a future version of numpy, it will be understood as (type, (1,)) / '(1,)type'.\n",
      "  _np_qint32 = np.dtype([(\"qint32\", np.int32, 1)])\n",
      "D:\\Visual Studio2019\\Shared\\Anaconda3_64\\lib\\site-packages\\tensorflow\\python\\framework\\dtypes.py:535: FutureWarning: Passing (type, 1) or '1type' as a synonym of type is deprecated; in a future version of numpy, it will be understood as (type, (1,)) / '(1,)type'.\n",
      "  np_resource = np.dtype([(\"resource\", np.ubyte, 1)])\n"
     ]
    }
   ],
   "source": [
    "from keras.models import Sequential\n",
    "from keras.layers import Dense\n",
    "from keras.layers.convolutional import Conv1D\n",
    "from keras.layers import MaxPooling1D\n",
    "from keras.layers import Flatten\n",
    "from keras import optimizers\n",
    "from keras.layers import Dense\n",
    "from keras.layers import Dropout\n",
    "from keras.layers.recurrent import LSTM\n",
    "from keras.layers import TimeDistributed\n",
    "from keras.layers.normalization import BatchNormalization"
   ]
  },
  {
   "cell_type": "code",
   "execution_count": 3,
   "id": "c7ba5945",
   "metadata": {},
   "outputs": [
    {
     "name": "stdout",
     "output_type": "stream",
     "text": [
      "C:\\Users\\tmj89\\Desktop\\LRCN-Codes - Copy\n"
     ]
    }
   ],
   "source": [
    "import os\n",
    "cwd = os.getcwd()\n",
    "print(cwd)"
   ]
  },
  {
   "cell_type": "code",
   "execution_count": 5,
   "id": "bf2fe7f6",
   "metadata": {},
   "outputs": [],
   "source": [
    "# -*- coding: utf-8 -*-\n",
    "import pandas as pd\n",
    "load = pd.read_csv(os.path.join(cwd,'dataset_train_4_0to200.csv'))"
   ]
  },
  {
   "cell_type": "code",
   "execution_count": 5,
   "id": "3290e2e2",
   "metadata": {},
   "outputs": [
    {
     "data": {
      "text/plain": [
       "<bound method NDFrame.head of       Delivery Date  Delivery Hour Repeated Hour Flag Settlement Point Name  \\\n",
       "0          1/1/2015              1                  N            LZ_HOUSTON   \n",
       "1          1/1/2015              2                  N            LZ_HOUSTON   \n",
       "2          1/1/2015              3                  N            LZ_HOUSTON   \n",
       "3          1/1/2015              4                  N            LZ_HOUSTON   \n",
       "4          1/1/2015              5                  N            LZ_HOUSTON   \n",
       "...             ...            ...                ...                   ...   \n",
       "34633    12/31/2018             20                  N            LZ_HOUSTON   \n",
       "34634    12/31/2018             21                  N            LZ_HOUSTON   \n",
       "34635    12/31/2018             22                  N            LZ_HOUSTON   \n",
       "34636    12/31/2018             23                  N            LZ_HOUSTON   \n",
       "34637    12/31/2018             24                  N            LZ_HOUSTON   \n",
       "\n",
       "      Settlement Point Type       DayStatus  Temperature in F  \\\n",
       "0                        LZ  Public Holiday                44   \n",
       "1                        LZ  Public Holiday                44   \n",
       "2                        LZ  Public Holiday                44   \n",
       "3                        LZ  Public Holiday                44   \n",
       "4                        LZ  Public Holiday                44   \n",
       "...                     ...             ...               ...   \n",
       "34633                    LZ         Weekday                54   \n",
       "34634                    LZ         Weekday                55   \n",
       "34635                    LZ         Weekday                55   \n",
       "34636                    LZ         Weekday                55   \n",
       "34637                    LZ         Weekday                55   \n",
       "\n",
       "       Load in Houston  Settlement Point Price  \n",
       "0              9844.20                   22.47  \n",
       "1              9653.46                   22.31  \n",
       "2              9502.30                   22.20  \n",
       "3              9474.48                   22.13  \n",
       "4              9554.37                   22.16  \n",
       "...                ...                     ...  \n",
       "34633         10846.18                   21.45  \n",
       "34634         10574.06                   18.50  \n",
       "34635         10389.92                   16.04  \n",
       "34636         10179.72                   16.39  \n",
       "34637         10008.27                   15.38  \n",
       "\n",
       "[34638 rows x 9 columns]>"
      ]
     },
     "execution_count": 5,
     "metadata": {},
     "output_type": "execute_result"
    }
   ],
   "source": [
    "load.head"
   ]
  },
  {
   "cell_type": "code",
   "execution_count": 6,
   "id": "5fc5738d",
   "metadata": {},
   "outputs": [
    {
     "data": {
      "text/plain": [
       "0        3\n",
       "1        3\n",
       "2        3\n",
       "3        3\n",
       "4        3\n",
       "        ..\n",
       "34633    0\n",
       "34634    0\n",
       "34635    0\n",
       "34636    0\n",
       "34637    0\n",
       "Name: dayofweek, Length: 34638, dtype: int64"
      ]
     },
     "execution_count": 6,
     "metadata": {},
     "output_type": "execute_result"
    }
   ],
   "source": [
    "load.dtypes\n",
    "\n",
    "import datetime\n",
    "load['year'] = pd.DatetimeIndex(load['Delivery Date']).year\n",
    "load['day'] = pd.DatetimeIndex(load['Delivery Date']).day# Extracting Day from \"Delivery Date\"\n",
    "load['month'] = pd.DatetimeIndex(load['Delivery Date']).month   # Extracting Month from \"Delivery Date\"\n",
    "\n",
    "\n",
    "a = load['Delivery Date']\n",
    "a= pd.to_datetime(a)\n",
    "\n",
    "load['dayofweek'] = a.dt.dayofweek\n",
    "load['dayofweek']"
   ]
  },
  {
   "cell_type": "code",
   "execution_count": 7,
   "id": "1529a54b",
   "metadata": {},
   "outputs": [
    {
     "data": {
      "text/html": [
       "<div>\n",
       "<style scoped>\n",
       "    .dataframe tbody tr th:only-of-type {\n",
       "        vertical-align: middle;\n",
       "    }\n",
       "\n",
       "    .dataframe tbody tr th {\n",
       "        vertical-align: top;\n",
       "    }\n",
       "\n",
       "    .dataframe thead th {\n",
       "        text-align: right;\n",
       "    }\n",
       "</style>\n",
       "<table border=\"1\" class=\"dataframe\">\n",
       "  <thead>\n",
       "    <tr style=\"text-align: right;\">\n",
       "      <th></th>\n",
       "      <th>dayofweek</th>\n",
       "      <th>month</th>\n",
       "      <th>Delivery Hour</th>\n",
       "      <th>Temperature in F</th>\n",
       "      <th>Load in Houston</th>\n",
       "      <th>Settlement Point Price</th>\n",
       "    </tr>\n",
       "    <tr>\n",
       "      <th>Delivery Date</th>\n",
       "      <th></th>\n",
       "      <th></th>\n",
       "      <th></th>\n",
       "      <th></th>\n",
       "      <th></th>\n",
       "      <th></th>\n",
       "    </tr>\n",
       "  </thead>\n",
       "  <tbody>\n",
       "    <tr>\n",
       "      <th>1/1/2015</th>\n",
       "      <td>3</td>\n",
       "      <td>1</td>\n",
       "      <td>1</td>\n",
       "      <td>44</td>\n",
       "      <td>9844.20</td>\n",
       "      <td>22.47</td>\n",
       "    </tr>\n",
       "    <tr>\n",
       "      <th>1/1/2015</th>\n",
       "      <td>3</td>\n",
       "      <td>1</td>\n",
       "      <td>2</td>\n",
       "      <td>44</td>\n",
       "      <td>9653.46</td>\n",
       "      <td>22.31</td>\n",
       "    </tr>\n",
       "    <tr>\n",
       "      <th>1/1/2015</th>\n",
       "      <td>3</td>\n",
       "      <td>1</td>\n",
       "      <td>3</td>\n",
       "      <td>44</td>\n",
       "      <td>9502.30</td>\n",
       "      <td>22.20</td>\n",
       "    </tr>\n",
       "    <tr>\n",
       "      <th>1/1/2015</th>\n",
       "      <td>3</td>\n",
       "      <td>1</td>\n",
       "      <td>4</td>\n",
       "      <td>44</td>\n",
       "      <td>9474.48</td>\n",
       "      <td>22.13</td>\n",
       "    </tr>\n",
       "    <tr>\n",
       "      <th>1/1/2015</th>\n",
       "      <td>3</td>\n",
       "      <td>1</td>\n",
       "      <td>5</td>\n",
       "      <td>44</td>\n",
       "      <td>9554.37</td>\n",
       "      <td>22.16</td>\n",
       "    </tr>\n",
       "  </tbody>\n",
       "</table>\n",
       "</div>"
      ],
      "text/plain": [
       "               dayofweek  month  Delivery Hour  Temperature in F  \\\n",
       "Delivery Date                                                      \n",
       "1/1/2015               3      1              1                44   \n",
       "1/1/2015               3      1              2                44   \n",
       "1/1/2015               3      1              3                44   \n",
       "1/1/2015               3      1              4                44   \n",
       "1/1/2015               3      1              5                44   \n",
       "\n",
       "               Load in Houston  Settlement Point Price  \n",
       "Delivery Date                                           \n",
       "1/1/2015               9844.20                   22.47  \n",
       "1/1/2015               9653.46                   22.31  \n",
       "1/1/2015               9502.30                   22.20  \n",
       "1/1/2015               9474.48                   22.13  \n",
       "1/1/2015               9554.37                   22.16  "
      ]
     },
     "execution_count": 7,
     "metadata": {},
     "output_type": "execute_result"
    }
   ],
   "source": [
    "load = load.set_index(['Delivery Date']) \n",
    "load = load.drop(columns=['year','day','Settlement Point Name','Settlement Point Type'], axis=1)  \n",
    "# Re-arranging Columns\n",
    "load = load[['dayofweek','month','Delivery Hour','Temperature in F','Load in Houston', 'Settlement Point Price']]\n",
    "load.head()"
   ]
  },
  {
   "cell_type": "code",
   "execution_count": 8,
   "id": "320823df",
   "metadata": {},
   "outputs": [
    {
     "data": {
      "text/html": [
       "<div>\n",
       "<style scoped>\n",
       "    .dataframe tbody tr th:only-of-type {\n",
       "        vertical-align: middle;\n",
       "    }\n",
       "\n",
       "    .dataframe tbody tr th {\n",
       "        vertical-align: top;\n",
       "    }\n",
       "\n",
       "    .dataframe thead th {\n",
       "        text-align: right;\n",
       "    }\n",
       "</style>\n",
       "<table border=\"1\" class=\"dataframe\">\n",
       "  <thead>\n",
       "    <tr style=\"text-align: right;\">\n",
       "      <th></th>\n",
       "      <th>dayofweek</th>\n",
       "      <th>month</th>\n",
       "      <th>Delivery Hour</th>\n",
       "      <th>Temperature in F</th>\n",
       "      <th>Load in Houston</th>\n",
       "      <th>Settlement Point Price</th>\n",
       "    </tr>\n",
       "    <tr>\n",
       "      <th>Delivery Date</th>\n",
       "      <th></th>\n",
       "      <th></th>\n",
       "      <th></th>\n",
       "      <th></th>\n",
       "      <th></th>\n",
       "      <th></th>\n",
       "    </tr>\n",
       "  </thead>\n",
       "  <tbody>\n",
       "    <tr>\n",
       "      <th>1/1/2015</th>\n",
       "      <td>3</td>\n",
       "      <td>1</td>\n",
       "      <td>1</td>\n",
       "      <td>44</td>\n",
       "      <td>9844.2</td>\n",
       "      <td>22.47</td>\n",
       "    </tr>\n",
       "    <tr>\n",
       "      <th>1/1/2015</th>\n",
       "      <td>3</td>\n",
       "      <td>1</td>\n",
       "      <td>2</td>\n",
       "      <td>44</td>\n",
       "      <td>9653.46</td>\n",
       "      <td>22.31</td>\n",
       "    </tr>\n",
       "    <tr>\n",
       "      <th>1/1/2015</th>\n",
       "      <td>3</td>\n",
       "      <td>1</td>\n",
       "      <td>3</td>\n",
       "      <td>44</td>\n",
       "      <td>9502.3</td>\n",
       "      <td>22.2</td>\n",
       "    </tr>\n",
       "    <tr>\n",
       "      <th>1/1/2015</th>\n",
       "      <td>3</td>\n",
       "      <td>1</td>\n",
       "      <td>4</td>\n",
       "      <td>44</td>\n",
       "      <td>9474.48</td>\n",
       "      <td>22.13</td>\n",
       "    </tr>\n",
       "    <tr>\n",
       "      <th>1/1/2015</th>\n",
       "      <td>3</td>\n",
       "      <td>1</td>\n",
       "      <td>5</td>\n",
       "      <td>44</td>\n",
       "      <td>9554.37</td>\n",
       "      <td>22.16</td>\n",
       "    </tr>\n",
       "  </tbody>\n",
       "</table>\n",
       "</div>"
      ],
      "text/plain": [
       "               dayofweek  month  Delivery Hour  Temperature in F  \\\n",
       "Delivery Date                                                      \n",
       "1/1/2015               3      1              1                44   \n",
       "1/1/2015               3      1              2                44   \n",
       "1/1/2015               3      1              3                44   \n",
       "1/1/2015               3      1              4                44   \n",
       "1/1/2015               3      1              5                44   \n",
       "\n",
       "              Load in Houston Settlement Point Price  \n",
       "Delivery Date                                         \n",
       "1/1/2015               9844.2                  22.47  \n",
       "1/1/2015              9653.46                  22.31  \n",
       "1/1/2015               9502.3                   22.2  \n",
       "1/1/2015              9474.48                  22.13  \n",
       "1/1/2015              9554.37                  22.16  "
      ]
     },
     "execution_count": 8,
     "metadata": {},
     "output_type": "execute_result"
    }
   ],
   "source": [
    "# Removing \",\" from columns \"Load in Houston\" , \"Ercot Load\" and \"Settlement Point Price\"\n",
    "load['Load in Houston'] = load['Load in Houston'].astype(str).str.replace(r',', '')\n",
    "#load['Ercot Load'] = load['Ercot Load'].astype(str).str.replace(r',', '')\n",
    "load['Settlement Point Price'] = load['Settlement Point Price'].astype(str).str.replace(r',', '')\n",
    "load.head()"
   ]
  },
  {
   "cell_type": "code",
   "execution_count": 9,
   "id": "2ffcdc4a",
   "metadata": {},
   "outputs": [
    {
     "data": {
      "text/plain": [
       "dayofweek                   int64\n",
       "month                       int64\n",
       "Delivery Hour               int64\n",
       "Temperature in F          float64\n",
       "Load in Houston           float64\n",
       "Settlement Point Price    float64\n",
       "dtype: object"
      ]
     },
     "execution_count": 9,
     "metadata": {},
     "output_type": "execute_result"
    }
   ],
   "source": [
    "load['Settlement Point Price'] = load['Settlement Point Price'].astype(float)\n",
    "load['Temperature in F'] = load['Temperature in F'].astype(float)\n",
    "load['Load in Houston'] = load['Load in Houston'].astype(float)\n",
    "#load['Ercot Load'] = load['Ercot Load'].astype(float)\n",
    "load['Settlement Point Price'] = round(load['Settlement Point Price'],2)\n",
    "load.dtypes\n",
    "#dataset = load.values"
   ]
  },
  {
   "cell_type": "code",
   "execution_count": 10,
   "id": "cc88d3c9",
   "metadata": {},
   "outputs": [],
   "source": [
    "# setting bin size\n",
    "past_days = p_d\n",
    "n_steps = past_days*24\n",
    "next_days = n_d\n",
    "next_steps = next_days*24\n"
   ]
  },
  {
   "cell_type": "code",
   "execution_count": 11,
   "id": "4b715de5",
   "metadata": {},
   "outputs": [],
   "source": [
    "# Data Normalization\n",
    "import numpy as np\n",
    "from sklearn.preprocessing import StandardScaler, OneHotEncoder, QuantileTransformer, PowerTransformer\n",
    "from sklearn.compose import make_column_transformer\n",
    "from sklearn.compose import make_column_selector\n",
    "from sklearn.compose import ColumnTransformer\n",
    "\n",
    "ct = ColumnTransformer([(\"1\",OneHotEncoder(sparse=False),make_column_selector(pattern = 'month')),\n",
    "                             (\"2\",OneHotEncoder(sparse=False),make_column_selector(pattern = 'dayofweek')),\n",
    "                             (\"3\",OneHotEncoder(sparse=False),make_column_selector(pattern = 'Delivery Hour')),\n",
    "                             #(\"4\",OneHotEncoder(sparse=False),make_column_selector(pattern = 'Delivery Interval')),\n",
    "                             #(\"6\",OneHotEncoder(sparse=False),make_column_selector(pattern = 'DayStatus')),\n",
    "                             (\"7\",StandardScaler(copy=True), make_column_selector(pattern = 'Temperature in F')),\n",
    "                             (\"8\",StandardScaler(copy=True), make_column_selector(pattern = 'Load in Houston')),\n",
    "                             #(\"9\",StandardScaler(copy=True), make_column_selector(pattern = 'Ercot Load')),\n",
    "                             #(\"10\",StandardScaler(copy=True),make_column_selector(pattern = 'Rise')),\n",
    "                             (\"y\",StandardScaler(copy=True), make_column_selector(pattern = 'Settlement Point Price'))])"
   ]
  },
  {
   "cell_type": "code",
   "execution_count": 12,
   "id": "26101db6",
   "metadata": {},
   "outputs": [],
   "source": [
    "import numpy\n",
    "dataset=load.values"
   ]
  },
  {
   "cell_type": "code",
   "execution_count": 13,
   "id": "c3185925",
   "metadata": {},
   "outputs": [
    {
     "name": "stdout",
     "output_type": "stream",
     "text": [
      "(34638, 46)\n"
     ]
    }
   ],
   "source": [
    "normed_data = ct.fit_transform(load)\n",
    "print(normed_data.shape)"
   ]
  },
  {
   "cell_type": "code",
   "execution_count": 14,
   "id": "c05c14f8",
   "metadata": {},
   "outputs": [
    {
     "data": {
      "text/plain": [
       "array([[ 1.     ,  0.     ,  0.     , ..., -1.74483, -0.75033, -0.06364],\n",
       "       [ 1.     ,  0.     ,  0.     , ..., -1.74483, -0.82378, -0.07058],\n",
       "       [ 1.     ,  0.     ,  0.     , ..., -1.74483, -0.88198, -0.07535],\n",
       "       ...,\n",
       "       [ 0.     ,  0.     ,  0.     , ..., -0.98578, -0.5402 , -0.34257],\n",
       "       [ 0.     ,  0.     ,  0.     , ..., -0.98578, -0.62114, -0.32739],\n",
       "       [ 0.     ,  0.     ,  0.     , ..., -0.98578, -0.68715, -0.3712 ]])"
      ]
     },
     "execution_count": 14,
     "metadata": {},
     "output_type": "execute_result"
    }
   ],
   "source": [
    "normed_data = pd.DataFrame(normed_data)\n",
    "dataset = normed_data.values\n",
    "dataset=numpy.around(dataset, decimals=5, out=None)\n",
    "dataset"
   ]
  },
  {
   "cell_type": "code",
   "execution_count": 15,
   "id": "3fd4c76f",
   "metadata": {},
   "outputs": [
    {
     "data": {
      "text/plain": [
       "(34638, 46)"
      ]
     },
     "execution_count": 15,
     "metadata": {},
     "output_type": "execute_result"
    }
   ],
   "source": [
    "dataset.shape"
   ]
  },
  {
   "cell_type": "code",
   "execution_count": 16,
   "id": "93768b9e",
   "metadata": {},
   "outputs": [
    {
     "data": {
      "text/plain": [
       "array([[[ 1.     ,  0.     ,  0.     , ..., -1.74483, -0.75033,\n",
       "         -0.06364],\n",
       "        [ 1.     ,  0.     ,  0.     , ..., -1.74483, -0.82378,\n",
       "         -0.07058],\n",
       "        [ 1.     ,  0.     ,  0.     , ..., -1.74483, -0.88198,\n",
       "         -0.07535],\n",
       "        ...,\n",
       "        [ 1.     ,  0.     ,  0.     , ..., -1.88284, -0.27102,\n",
       "         -0.05149],\n",
       "        [ 1.     ,  0.     ,  0.     , ..., -1.95185, -0.40363,\n",
       "         -0.09834],\n",
       "        [ 1.     ,  0.     ,  0.     , ..., -2.02085, -0.55277,\n",
       "         -0.13348]],\n",
       "\n",
       "       [[ 1.     ,  0.     ,  0.     , ..., -1.74483, -0.82378,\n",
       "         -0.07058],\n",
       "        [ 1.     ,  0.     ,  0.     , ..., -1.74483, -0.88198,\n",
       "         -0.07535],\n",
       "        [ 1.     ,  0.     ,  0.     , ..., -1.74483, -0.89269,\n",
       "         -0.07839],\n",
       "        ...,\n",
       "        [ 1.     ,  0.     ,  0.     , ..., -1.95185, -0.40363,\n",
       "         -0.09834],\n",
       "        [ 1.     ,  0.     ,  0.     , ..., -2.02085, -0.55277,\n",
       "         -0.13348],\n",
       "        [ 1.     ,  0.     ,  0.     , ..., -2.08985, -0.61873,\n",
       "         -0.14476]],\n",
       "\n",
       "       [[ 1.     ,  0.     ,  0.     , ..., -1.74483, -0.88198,\n",
       "         -0.07535],\n",
       "        [ 1.     ,  0.     ,  0.     , ..., -1.74483, -0.89269,\n",
       "         -0.07839],\n",
       "        [ 1.     ,  0.     ,  0.     , ..., -1.74483, -0.86193,\n",
       "         -0.07709],\n",
       "        ...,\n",
       "        [ 1.     ,  0.     ,  0.     , ..., -2.02085, -0.55277,\n",
       "         -0.13348],\n",
       "        [ 1.     ,  0.     ,  0.     , ..., -2.08985, -0.61873,\n",
       "         -0.14476],\n",
       "        [ 1.     ,  0.     ,  0.     , ..., -2.15886, -0.64453,\n",
       "         -0.16124]],\n",
       "\n",
       "       ...,\n",
       "\n",
       "       [[ 0.     ,  0.     ,  0.     , ..., -0.15773, -0.64367,\n",
       "         -0.12567],\n",
       "        [ 0.     ,  0.     ,  0.     , ..., -0.29574, -0.80415,\n",
       "         -0.14259],\n",
       "        [ 0.     ,  0.     ,  0.     , ..., -0.29574, -0.96923,\n",
       "         -0.21634],\n",
       "        ...,\n",
       "        [ 0.     ,  0.     ,  0.     , ..., -1.12379, -0.27778,\n",
       "         -0.08706],\n",
       "        [ 0.     ,  0.     ,  0.     , ..., -1.05479, -0.36451,\n",
       "         -0.10789],\n",
       "        [ 0.     ,  0.     ,  0.     , ..., -0.98578, -0.46929,\n",
       "         -0.23586]],\n",
       "\n",
       "       [[ 0.     ,  0.     ,  0.     , ..., -0.29574, -0.80415,\n",
       "         -0.14259],\n",
       "        [ 0.     ,  0.     ,  0.     , ..., -0.29574, -0.96923,\n",
       "         -0.21634],\n",
       "        [ 0.     ,  0.     ,  0.     , ..., -1.12379, -1.11081,\n",
       "         -0.32132],\n",
       "        ...,\n",
       "        [ 0.     ,  0.     ,  0.     , ..., -1.05479, -0.36451,\n",
       "         -0.10789],\n",
       "        [ 0.     ,  0.     ,  0.     , ..., -0.98578, -0.46929,\n",
       "         -0.23586],\n",
       "        [ 0.     ,  0.     ,  0.     , ..., -0.98578, -0.5402 ,\n",
       "         -0.34257]],\n",
       "\n",
       "       [[ 0.     ,  0.     ,  0.     , ..., -0.29574, -0.96923,\n",
       "         -0.21634],\n",
       "        [ 0.     ,  0.     ,  0.     , ..., -1.12379, -1.11081,\n",
       "         -0.32132],\n",
       "        [ 0.     ,  0.     ,  0.     , ..., -1.33081, -1.1862 ,\n",
       "         -0.34734],\n",
       "        ...,\n",
       "        [ 0.     ,  0.     ,  0.     , ..., -0.98578, -0.46929,\n",
       "         -0.23586],\n",
       "        [ 0.     ,  0.     ,  0.     , ..., -0.98578, -0.5402 ,\n",
       "         -0.34257],\n",
       "        [ 0.     ,  0.     ,  0.     , ..., -0.98578, -0.62114,\n",
       "         -0.32739]]])"
      ]
     },
     "execution_count": 16,
     "metadata": {},
     "output_type": "execute_result"
    }
   ],
   "source": [
    "series_reshaped =  np.array([dataset[i:i + (n_steps+next_steps)].copy() for i in range((len(dataset) - (n_steps+next_steps)))])\n",
    "series_reshaped"
   ]
  },
  {
   "cell_type": "code",
   "execution_count": 17,
   "id": "7c216147",
   "metadata": {},
   "outputs": [
    {
     "data": {
      "text/plain": [
       "(34542, 96, 46)"
      ]
     },
     "execution_count": 17,
     "metadata": {},
     "output_type": "execute_result"
    }
   ],
   "source": [
    "series_reshaped.shape"
   ]
  },
  {
   "cell_type": "code",
   "execution_count": 18,
   "id": "e671d74f",
   "metadata": {},
   "outputs": [
    {
     "name": "stdout",
     "output_type": "stream",
     "text": [
      "(31087, 48, 46) (3455, 48, 46)\n"
     ]
    }
   ],
   "source": [
    "a = series_reshaped.shape[0]\n",
    "b = int(0.9*a)\n",
    "c = int(a-b)\n",
    "d = int(c/2)\n",
    "X_train = series_reshaped[:b, :n_steps]\n",
    "X_val = series_reshaped[b:, :n_steps]\n",
    "\n",
    "print(X_train.shape, X_val.shape)"
   ]
  },
  {
   "cell_type": "code",
   "execution_count": 19,
   "id": "7d1cedec",
   "metadata": {},
   "outputs": [
    {
     "data": {
      "text/plain": [
       "array([ 1.     ,  0.     ,  0.     ,  0.     ,  0.     ,  0.     ,\n",
       "        0.     ,  0.     ,  0.     ,  0.     ,  0.     ,  0.     ,\n",
       "        0.     ,  0.     ,  0.     ,  1.     ,  0.     ,  0.     ,\n",
       "        0.     ,  0.     ,  1.     ,  0.     ,  0.     ,  0.     ,\n",
       "        0.     ,  0.     ,  0.     ,  0.     ,  0.     ,  0.     ,\n",
       "        0.     ,  0.     ,  0.     ,  0.     ,  0.     ,  0.     ,\n",
       "        0.     ,  0.     ,  0.     ,  0.     ,  0.     ,  0.     ,\n",
       "        0.     , -1.74483, -0.82378])"
      ]
     },
     "execution_count": 19,
     "metadata": {},
     "output_type": "execute_result"
    }
   ],
   "source": [
    "dataset1 = dataset[1:,:normed_data.shape[1]-1]\n",
    "dataset1[0]"
   ]
  },
  {
   "cell_type": "code",
   "execution_count": 20,
   "id": "8200e663",
   "metadata": {},
   "outputs": [
    {
     "data": {
      "text/plain": [
       "(34637,)"
      ]
     },
     "execution_count": 20,
     "metadata": {},
     "output_type": "execute_result"
    }
   ],
   "source": [
    "price=np.array(dataset[:len(normed_data)-1,normed_data.shape[1]-1])\n",
    "price.shape"
   ]
  },
  {
   "cell_type": "code",
   "execution_count": 21,
   "id": "2df019c7",
   "metadata": {},
   "outputs": [
    {
     "data": {
      "text/plain": [
       "array([ 1.     ,  0.     ,  0.     ,  0.     ,  0.     ,  0.     ,\n",
       "        0.     ,  0.     ,  0.     ,  0.     ,  0.     ,  0.     ,\n",
       "        0.     ,  0.     ,  0.     ,  1.     ,  0.     ,  0.     ,\n",
       "        0.     ,  0.     ,  1.     ,  0.     ,  0.     ,  0.     ,\n",
       "        0.     ,  0.     ,  0.     ,  0.     ,  0.     ,  0.     ,\n",
       "        0.     ,  0.     ,  0.     ,  0.     ,  0.     ,  0.     ,\n",
       "        0.     ,  0.     ,  0.     ,  0.     ,  0.     ,  0.     ,\n",
       "        0.     , -1.74483, -0.82378, -0.06364])"
      ]
     },
     "execution_count": 21,
     "metadata": {},
     "output_type": "execute_result"
    }
   ],
   "source": [
    "dataset1 = np.column_stack((dataset1,price))\n",
    "dataset1[0]"
   ]
  },
  {
   "cell_type": "code",
   "execution_count": 22,
   "id": "f26094d8",
   "metadata": {},
   "outputs": [
    {
     "data": {
      "text/plain": [
       "(34542, 96, 46)"
      ]
     },
     "execution_count": 22,
     "metadata": {},
     "output_type": "execute_result"
    }
   ],
   "source": [
    "series_reshaped1 =  np.array([dataset1[i:i + (n_steps+next_steps)].copy() for i in range((len(dataset) - (n_steps+next_steps)))])\n",
    "series_reshaped1.shape"
   ]
  },
  {
   "cell_type": "code",
   "execution_count": 23,
   "id": "1e6c4a80",
   "metadata": {},
   "outputs": [
    {
     "name": "stdout",
     "output_type": "stream",
     "text": [
      "(31087, 24, 46) (3455, 24, 46)\n"
     ]
    }
   ],
   "source": [
    "a = series_reshaped1.shape[0]\n",
    "b = int(0.9*a)\n",
    "c = int(a-b)\n",
    "d = int(c/2)\n",
    "X1_train = series_reshaped1[:b, n_steps-24:n_steps]\n",
    "X1_val = series_reshaped1[b:, n_steps-24:n_steps]\n",
    "\n",
    "print(X1_train.shape,X1_val.shape)"
   ]
  },
  {
   "cell_type": "code",
   "execution_count": 24,
   "id": "99c64be2",
   "metadata": {},
   "outputs": [],
   "source": [
    "X2_train = np.empty((X_train.shape[0], next_steps+24, X_train.shape[2]))\n",
    "X2_val = np.empty((X_val.shape[0], next_steps+24, X_train.shape[2]))\n",
    "a= len(X_train)\n",
    "for i in range(0,a):\n",
    "    X2_train[i] = np.append(X_train[i],X1_train[i],axis=0)\n",
    "for i in range(0,len(X_val)):\n",
    "    X2_val[i] = np.append(X_val[i],X1_val[i],axis=0)"
   ]
  },
  {
   "cell_type": "code",
   "execution_count": 25,
   "id": "a0ccbe5c",
   "metadata": {},
   "outputs": [
    {
     "name": "stdout",
     "output_type": "stream",
     "text": [
      "(31087, 72, 46) (3455, 72, 46)\n"
     ]
    }
   ],
   "source": [
    "print(X2_train.shape, X2_val.shape)"
   ]
  },
  {
   "cell_type": "code",
   "execution_count": 26,
   "id": "580b5981",
   "metadata": {},
   "outputs": [
    {
     "data": {
      "text/plain": [
       "(34542, 48)"
      ]
     },
     "execution_count": 26,
     "metadata": {},
     "output_type": "execute_result"
    }
   ],
   "source": [
    "Y = np.empty((series_reshaped.shape[0], next_steps))\n",
    "Y.shape"
   ]
  },
  {
   "cell_type": "code",
   "execution_count": 27,
   "id": "f2040fe8",
   "metadata": {},
   "outputs": [],
   "source": [
    "for step_ahead in range(0, next_steps):\n",
    "    Y[..., step_ahead] = series_reshaped[..., step_ahead+n_steps-next_steps+24, (X_train.shape[2]-1)]"
   ]
  },
  {
   "cell_type": "code",
   "execution_count": 28,
   "id": "cba89415",
   "metadata": {},
   "outputs": [],
   "source": [
    "Y_train = Y[:b]\n",
    "Y_val = Y[b:]"
   ]
  },
  {
   "cell_type": "code",
   "execution_count": 29,
   "id": "021a0b1a",
   "metadata": {},
   "outputs": [
    {
     "name": "stdout",
     "output_type": "stream",
     "text": [
      "(31087, 48) (3455, 48)\n"
     ]
    }
   ],
   "source": [
    "print(Y_train.shape, Y_val.shape)"
   ]
  },
  {
   "cell_type": "code",
   "execution_count": 30,
   "id": "8a34890c",
   "metadata": {},
   "outputs": [
    {
     "data": {
      "text/plain": [
       "array([-0.19551, -0.21677, -0.1786 ,  0.07084,  0.17105,  0.26692,\n",
       "        0.32374,  0.48989,  1.05947,  0.22874,  0.11942,  0.06346,\n",
       "        0.0973 ,  0.00967, -0.10702, -0.20723, -0.20983, -0.23889,\n",
       "       -0.26709, -0.28965, -0.30787, -0.30873, -0.3057 , -0.29876,\n",
       "       -0.23889, -0.25451, -0.2159 , -0.1556 ,  0.01705,  0.10598,\n",
       "        0.17365,  0.23395,  0.30292,  0.25824,  0.18753,  0.18753,\n",
       "        0.09036, -0.01982, -0.15734, -0.18771, -0.19378, -0.22154,\n",
       "       -0.23325, -0.24453, -0.23672, -0.20332, -0.18857, -0.1786 ,\n",
       "       -0.23889, -0.25451, -0.2159 , -0.1556 ,  0.01705,  0.10598,\n",
       "        0.17365,  0.23395,  0.30292,  0.25824,  0.18753,  0.18753,\n",
       "        0.09036, -0.01982, -0.15734, -0.18771, -0.19378, -0.22154,\n",
       "       -0.23325, -0.24453, -0.23672, -0.20332, -0.18857, -0.1786 ])"
      ]
     },
     "execution_count": 30,
     "metadata": {},
     "output_type": "execute_result"
    }
   ],
   "source": [
    "X2_val[0,:,45]"
   ]
  },
  {
   "cell_type": "code",
   "execution_count": 31,
   "id": "cd555248",
   "metadata": {},
   "outputs": [
    {
     "data": {
      "text/plain": [
       "array([-0.23889, -0.25451, -0.2159 , -0.1556 ,  0.01705,  0.10598,\n",
       "        0.17365,  0.23395,  0.30292,  0.25824,  0.18753,  0.18753,\n",
       "        0.09036, -0.01982, -0.15734, -0.18771, -0.19378, -0.22154,\n",
       "       -0.23325, -0.24453, -0.23672, -0.20332, -0.18857, -0.1786 ,\n",
       "       -0.07405, -0.13305,  0.0999 ,  0.22614,  0.32201,  0.31594,\n",
       "        0.39575,  0.42178,  0.43436,  0.33893,  0.26301,  0.2218 ,\n",
       "        0.31897,  0.10815, -0.05843, -0.15647, -0.19942, -0.22892,\n",
       "       -0.2415 , -0.248  , -0.23933, -0.212  , -0.16341, -0.09314])"
      ]
     },
     "execution_count": 31,
     "metadata": {},
     "output_type": "execute_result"
    }
   ],
   "source": [
    "Y_val[0]"
   ]
  },
  {
   "cell_type": "code",
   "execution_count": 61,
   "id": "45b0599d",
   "metadata": {},
   "outputs": [],
   "source": [
    "model = Sequential([\n",
    "    Conv1D(filters=64, kernel_size=2,strides=2, padding=\"valid\", activation=\"relu\", input_shape=(X2_train.shape[1],X2_train.shape[2])),\n",
    "    Conv1D(filters=64, kernel_size=1, strides=1, padding=\"causal\", activation=\"relu\"),\n",
    "    LSTM(48, return_sequences=True),\n",
    "    LSTM(256, return_sequences=True),\n",
    "    #Flatten(),\n",
    "    Dense(256, activation = \"relu\"),\n",
    "    Dense(128, activation=\"relu\"),\n",
    "    Dense(64, activation=\"relu\"),\n",
    "    Dropout(0.1),\n",
    "    Dense(32, activation=\"relu\"),\n",
    "    Flatten(),\n",
    "    Dropout(0.1),\n",
    "    Dense(next_steps)\n",
    "])"
   ]
  },
  {
   "cell_type": "code",
   "execution_count": 62,
   "id": "83432ea7",
   "metadata": {},
   "outputs": [],
   "source": [
    "from tensorflow import keras\n",
    "#lr_schedule = keras.optimizers.schedules.ExponentialDecay(5e-4,\n",
    "#                                                decay_steps=1000000,\n",
    "#                                                decay_rate=0.98,\n",
    "#                                                  staircase=False)\n"
   ]
  },
  {
   "cell_type": "code",
   "execution_count": 63,
   "id": "e36f098e",
   "metadata": {},
   "outputs": [],
   "source": [
    "from keras import backend as K\n",
    "from keras.callbacks import ReduceLROnPlateau, TensorBoard, ModelCheckpoint\n",
    "#lr_schedule = keras.optimizers.schedules.ExponentialDecay(5e-4,\n",
    "#                                               decay_steps=1000000,\n",
    "#                                               decay_rate=0.98,\n",
    "#                                                  staircase=False)\n",
    "reduce_lr = ReduceLROnPlateau(monitor='val_loss',factor=0.2, patience=10, mode='auto')\n",
    "from tensorflow import keras\n",
    "optimizer = keras.optimizers.Adam(lr=0.01, beta_1=1e-6)"
   ]
  },
  {
   "cell_type": "code",
   "execution_count": 64,
   "id": "18b0ac21",
   "metadata": {},
   "outputs": [],
   "source": [
    "model.compile(loss='mse',\n",
    "                optimizer='adam',\n",
    "                metrics=['mae', 'mse'])"
   ]
  },
  {
   "cell_type": "code",
   "execution_count": 65,
   "id": "b033b4fc",
   "metadata": {},
   "outputs": [
    {
     "name": "stdout",
     "output_type": "stream",
     "text": [
      "_________________________________________________________________\n",
      "Layer (type)                 Output Shape              Param #   \n",
      "=================================================================\n",
      "lstm_46 (LSTM)               (None, 72, 48)            18240     \n",
      "_________________________________________________________________\n",
      "lstm_47 (LSTM)               (None, 72, 48)            18624     \n",
      "_________________________________________________________________\n",
      "lstm_48 (LSTM)               (None, 72, 256)           312320    \n",
      "_________________________________________________________________\n",
      "dense_97 (Dense)             (None, 72, 256)           65792     \n",
      "_________________________________________________________________\n",
      "dense_98 (Dense)             (None, 72, 128)           32896     \n",
      "_________________________________________________________________\n",
      "dense_99 (Dense)             (None, 72, 64)            8256      \n",
      "_________________________________________________________________\n",
      "dropout_38 (Dropout)         (None, 72, 64)            0         \n",
      "_________________________________________________________________\n",
      "dense_100 (Dense)            (None, 72, 32)            2080      \n",
      "_________________________________________________________________\n",
      "flatten_21 (Flatten)         (None, 2304)              0         \n",
      "_________________________________________________________________\n",
      "dropout_39 (Dropout)         (None, 2304)              0         \n",
      "_________________________________________________________________\n",
      "dense_101 (Dense)            (None, 48)                110640    \n",
      "=================================================================\n",
      "Total params: 568,848\n",
      "Trainable params: 568,848\n",
      "Non-trainable params: 0\n",
      "_________________________________________________________________\n"
     ]
    }
   ],
   "source": [
    "model.summary()"
   ]
  },
  {
   "cell_type": "code",
   "execution_count": 66,
   "id": "49cc76f5",
   "metadata": {},
   "outputs": [
    {
     "data": {
      "text/plain": [
       "(10, 72, 46)"
      ]
     },
     "execution_count": 66,
     "metadata": {},
     "output_type": "execute_result"
    }
   ],
   "source": [
    "example_batch= X2_val[0:10]\n",
    "example_batch.shape"
   ]
  },
  {
   "cell_type": "code",
   "execution_count": 67,
   "id": "c64957bc",
   "metadata": {},
   "outputs": [
    {
     "data": {
      "text/plain": [
       "(10, 48)"
      ]
     },
     "execution_count": 67,
     "metadata": {},
     "output_type": "execute_result"
    }
   ],
   "source": [
    "example_result = model.predict(example_batch)\n",
    "example_result.shape"
   ]
  },
  {
   "cell_type": "code",
   "execution_count": 68,
   "id": "eb0e8981",
   "metadata": {},
   "outputs": [
    {
     "data": {
      "text/plain": [
       "array([[ 1.21671846e-02, -5.28483186e-03, -1.87845435e-04,\n",
       "         2.12311335e-02, -2.48268177e-03, -1.47146704e-02,\n",
       "         5.13058389e-03,  7.64301699e-03,  1.67187080e-02,\n",
       "         6.17232174e-04,  1.47616239e-02, -8.68495833e-03,\n",
       "         4.13034577e-03, -1.07060894e-02,  3.84451635e-03,\n",
       "         4.74983361e-03, -3.54794692e-03, -9.19620041e-03,\n",
       "         6.98003918e-04,  7.45338807e-03,  1.55164674e-02,\n",
       "        -3.96160036e-03,  1.89155135e-02,  2.51811603e-03,\n",
       "         5.76634612e-03, -1.01473462e-02,  2.17409898e-03,\n",
       "         2.72665359e-03, -2.64699641e-03, -8.42061359e-03,\n",
       "         1.50139956e-03,  1.69325359e-02, -9.60679818e-03,\n",
       "        -1.30255688e-02, -5.74663887e-03,  2.18999246e-03,\n",
       "         1.86687391e-02, -1.55913318e-02, -2.32941005e-04,\n",
       "         2.87652411e-03, -3.62095423e-04, -8.71076994e-03,\n",
       "         3.48747801e-03,  1.64716095e-02, -1.07051004e-02,\n",
       "        -1.40468637e-03, -8.36211070e-03,  2.73392396e-03],\n",
       "       [ 1.21083381e-02, -3.97221232e-03, -6.24539331e-04,\n",
       "         2.23305151e-02, -1.12828217e-03, -1.58897564e-02,\n",
       "         4.59441682e-03,  8.40203650e-03,  1.71399377e-02,\n",
       "        -2.84519512e-04,  1.47771472e-02, -8.97441152e-03,\n",
       "         3.99041828e-03, -1.06510883e-02,  3.82352993e-03,\n",
       "         5.45586646e-03, -3.11640091e-03, -1.00209452e-02,\n",
       "         1.97429676e-04,  7.06977909e-03,  1.47931762e-02,\n",
       "        -3.45040299e-03,  1.86487846e-02,  2.43421155e-03,\n",
       "         6.35836646e-03, -8.29217210e-03,  2.14136438e-03,\n",
       "         4.11478989e-03, -2.41733249e-03, -7.73324538e-03,\n",
       "         3.40293685e-04,  1.72658619e-02, -1.04196649e-02,\n",
       "        -1.27852121e-02, -5.50700864e-03,  2.22323881e-03,\n",
       "         1.78805608e-02, -1.36593916e-02,  7.75570283e-04,\n",
       "         2.51583452e-03, -1.01610785e-03, -7.54698925e-03,\n",
       "         2.94341380e-03,  1.65422708e-02, -1.09472172e-02,\n",
       "        -8.12091865e-04, -9.03522596e-03,  3.00144451e-03],\n",
       "       [ 1.17785335e-02, -3.26907588e-03, -1.10155786e-03,\n",
       "         2.33549457e-02, -2.18713889e-04, -1.67321134e-02,\n",
       "         4.03717393e-03,  9.97020584e-03,  1.80518944e-02,\n",
       "        -4.89307567e-04,  1.42376414e-02, -9.00170486e-03,\n",
       "         3.92255699e-03, -1.05464626e-02,  3.66840605e-03,\n",
       "         5.39823156e-03, -2.42716074e-03, -1.08781988e-02,\n",
       "        -3.12264776e-04,  5.37972804e-03,  1.44820539e-02,\n",
       "        -4.02258476e-03,  1.74260270e-02,  1.51263364e-03,\n",
       "         6.77266950e-03, -7.71516003e-03,  1.76812336e-03,\n",
       "         3.73236393e-03, -2.45140819e-03, -7.55129708e-03,\n",
       "        -1.11677582e-04,  1.67758334e-02, -1.07328650e-02,\n",
       "        -1.30651426e-02, -5.18641202e-03,  2.88459752e-03,\n",
       "         1.68181583e-02, -1.10400822e-02,  1.02916779e-03,\n",
       "         2.91341729e-03, -1.84610707e-03, -6.80917315e-03,\n",
       "         1.54711213e-03,  1.60740726e-02, -1.07927844e-02,\n",
       "         3.74184456e-04, -9.38240252e-03,  2.37165857e-03],\n",
       "       [ 1.21723739e-02, -2.66442704e-03, -1.30830635e-03,\n",
       "         2.44145133e-02,  5.48385317e-04, -1.80629510e-02,\n",
       "         3.15929623e-03,  1.10176876e-02,  1.83071271e-02,\n",
       "        -9.68492357e-04,  1.38483811e-02, -9.50413756e-03,\n",
       "         3.61440005e-03, -1.09192058e-02,  4.46911436e-03,\n",
       "         4.53408109e-03, -2.31278082e-03, -1.14550330e-02,\n",
       "        -1.03713409e-03,  3.79862636e-03,  1.32937850e-02,\n",
       "        -4.93885623e-03,  1.70092229e-02,  1.73220783e-03,\n",
       "         6.74085319e-03, -6.84220856e-03,  1.87908858e-03,\n",
       "         5.20020211e-03, -1.40407449e-03, -8.26545712e-03,\n",
       "        -1.22632424e-03,  1.68850031e-02, -1.08610056e-02,\n",
       "        -1.29110357e-02, -4.96557308e-03,  2.38367007e-03,\n",
       "         1.54481540e-02, -8.82190932e-03,  1.26697659e-03,\n",
       "         2.57387897e-03, -3.39364260e-03, -6.47212984e-03,\n",
       "         1.86838547e-03,  1.58261992e-02, -1.08237192e-02,\n",
       "         3.44167463e-04, -9.19919740e-03,  1.43805239e-03],\n",
       "       [ 1.19861308e-02, -1.97989075e-03, -1.83003303e-03,\n",
       "         2.39465833e-02,  1.03041530e-03, -1.88115314e-02,\n",
       "         2.40258081e-03,  1.28837060e-02,  1.86602976e-02,\n",
       "        -1.47810671e-03,  1.28365858e-02, -9.97858867e-03,\n",
       "         3.04029952e-03, -9.53523163e-03,  4.33403440e-03,\n",
       "         3.55833489e-03, -2.29284028e-03, -1.22485692e-02,\n",
       "        -1.18951662e-03,  2.96849641e-03,  1.34731736e-02,\n",
       "        -5.60345314e-03,  1.63497161e-02,  1.04525406e-03,\n",
       "         6.15574513e-03, -5.67439478e-03,  5.85976522e-04,\n",
       "         6.30590739e-03, -3.91187496e-04, -8.84390902e-03,\n",
       "        -2.17477744e-03,  1.68891735e-02, -1.06384512e-02,\n",
       "        -1.23742893e-02, -4.49264422e-03,  2.93617113e-03,\n",
       "         1.54851973e-02, -6.26980560e-03,  1.02394319e-03,\n",
       "         2.51615793e-03, -3.29813804e-03, -7.83391669e-03,\n",
       "         1.30443135e-03,  1.53983906e-02, -1.04183806e-02,\n",
       "        -9.82396305e-05, -8.13362002e-03,  5.27025899e-04],\n",
       "       [ 1.20495046e-02, -2.30480870e-03, -1.34023209e-03,\n",
       "         2.31554713e-02,  1.01777329e-03, -1.87240783e-02,\n",
       "         1.25515438e-03,  1.42354807e-02,  1.85106881e-02,\n",
       "        -1.57290092e-03,  1.28267426e-02, -9.41559114e-03,\n",
       "         1.40405481e-03, -9.20465309e-03,  4.79260460e-03,\n",
       "         3.64646595e-03, -3.27398675e-03, -1.18094208e-02,\n",
       "        -8.27775104e-04,  2.41282932e-03,  1.33216940e-02,\n",
       "        -5.96825033e-03,  1.48208626e-02,  4.60120849e-04,\n",
       "         5.37442742e-03, -4.83850064e-03,  8.58208630e-04,\n",
       "         7.48392707e-03, -9.34732612e-04, -1.02827903e-02,\n",
       "        -1.65116810e-03,  1.65065378e-02, -1.10094333e-02,\n",
       "        -1.21432450e-02, -3.49380495e-03,  2.52900575e-03,\n",
       "         1.44874305e-02, -3.43447505e-03,  1.24698668e-03,\n",
       "         2.27720081e-03, -2.76414515e-03, -9.25632380e-03,\n",
       "         1.78065139e-03,  1.61175486e-02, -1.05333030e-02,\n",
       "        -1.09659508e-03, -7.16130249e-03, -5.07382443e-04],\n",
       "       [ 1.07655805e-02, -2.19062832e-03, -1.48978154e-03,\n",
       "         2.29167659e-02,  1.01254648e-03, -1.89348422e-02,\n",
       "         3.86097468e-04,  1.50540108e-02,  1.72984824e-02,\n",
       "        -1.86873192e-03,  1.39806289e-02, -9.16928984e-03,\n",
       "        -1.10413297e-04, -9.26485565e-03,  5.47590759e-03,\n",
       "         3.56907584e-03, -4.57897503e-03, -1.05736144e-02,\n",
       "        -5.89681789e-04,  1.63707440e-03,  1.33070881e-02,\n",
       "        -6.35111611e-03,  1.50208808e-02, -2.43707327e-04,\n",
       "         4.52835346e-03, -4.18567937e-03,  8.69276468e-04,\n",
       "         8.74061976e-03, -1.06190238e-03, -1.08317006e-02,\n",
       "        -3.34471260e-04,  1.68647747e-02, -1.16895735e-02,\n",
       "        -1.18109304e-02, -2.77008838e-03,  2.66035390e-03,\n",
       "         1.45922061e-02, -2.64338031e-03,  1.10270421e-03,\n",
       "         2.28443230e-03, -2.45416095e-03, -1.05701145e-02,\n",
       "         2.11794907e-03,  1.60885416e-02, -1.09814908e-02,\n",
       "        -1.82313332e-03, -6.96482835e-03, -1.37622212e-03],\n",
       "       [ 1.05994074e-02, -2.57481355e-03, -1.63831224e-03,\n",
       "         2.30470952e-02,  6.12407457e-04, -1.90769471e-02,\n",
       "         1.33068650e-03,  1.57994553e-02,  1.66663062e-02,\n",
       "        -1.31820829e-03,  1.55270593e-02, -8.86980630e-03,\n",
       "        -1.89739023e-03, -1.04249297e-02,  5.88790048e-03,\n",
       "         3.80169763e-03, -6.14616927e-03, -1.03149265e-02,\n",
       "         7.48143066e-05,  8.84207198e-04,  1.34518277e-02,\n",
       "        -6.91720378e-03,  1.44046824e-02, -5.97627717e-04,\n",
       "         4.08425974e-03, -3.55791557e-03,  8.60873144e-04,\n",
       "         1.00126136e-02, -1.13791297e-03, -1.17633082e-02,\n",
       "         7.85085722e-04,  1.77557059e-02, -1.25171533e-02,\n",
       "        -1.10670272e-02, -1.58292707e-03,  2.49547046e-03,\n",
       "         1.44790737e-02, -2.15063826e-03,  1.85335986e-03,\n",
       "         3.58357606e-03, -3.35755758e-03, -1.23425461e-02,\n",
       "         2.74025975e-03,  1.60881802e-02, -1.21040242e-02,\n",
       "        -3.19467275e-03, -7.12302933e-03, -2.09569209e-03],\n",
       "       [ 8.93421471e-03, -2.09479779e-03, -1.96299958e-03,\n",
       "         2.30484270e-02,  8.36458057e-05, -1.86085887e-02,\n",
       "         2.00208044e-03,  1.59423500e-02,  1.67074222e-02,\n",
       "        -7.18228985e-04,  1.61194112e-02, -8.82876478e-03,\n",
       "        -2.00402364e-03, -1.08241178e-02,  6.23850338e-03,\n",
       "         3.89952934e-03, -7.19525944e-03, -9.54049826e-03,\n",
       "         1.84779987e-04,  2.13494292e-04,  1.33575201e-02,\n",
       "        -7.83352368e-03,  1.47342235e-02, -1.54364761e-03,\n",
       "         3.67928226e-03, -3.67233553e-03,  1.30248442e-03,\n",
       "         1.00262119e-02, -8.91708303e-04, -1.27639053e-02,\n",
       "         1.53967249e-03,  1.82072781e-02, -1.24913398e-02,\n",
       "        -1.15040634e-02, -1.07765594e-03,  1.49700535e-03,\n",
       "         1.55226160e-02, -2.24911375e-03,  2.83384440e-03,\n",
       "         4.46840283e-03, -4.20228112e-03, -1.31127331e-02,\n",
       "         3.21861752e-03,  1.62243173e-02, -1.23810889e-02,\n",
       "        -4.10355069e-03, -7.07879663e-03, -1.83338462e-03],\n",
       "       [ 7.19840173e-03, -1.93050096e-03, -2.24957522e-03,\n",
       "         2.20290031e-02, -1.16143632e-03, -1.70483515e-02,\n",
       "         2.39214045e-03,  1.52937956e-02,  1.87718216e-02,\n",
       "         9.58797988e-04,  1.62134301e-02, -7.70137366e-03,\n",
       "        -2.33515864e-03, -1.04565313e-02,  6.13728398e-03,\n",
       "         3.54985776e-03, -8.32747109e-03, -9.89600550e-03,\n",
       "        -3.45640350e-04, -5.13033243e-04,  1.43790105e-02,\n",
       "        -8.43211636e-03,  1.43195111e-02, -1.82233145e-03,\n",
       "         3.38611752e-03, -3.73326102e-03,  3.34145501e-04,\n",
       "         1.01213660e-02, -1.05304923e-03, -1.28766624e-02,\n",
       "         2.41420208e-03,  1.74480695e-02, -1.25317592e-02,\n",
       "        -1.16513856e-02, -3.03101493e-04,  5.27672761e-04,\n",
       "         1.62177756e-02, -3.44917388e-03,  3.39790946e-03,\n",
       "         5.38763637e-03, -4.93480032e-03, -1.41894808e-02,\n",
       "         3.18897539e-03,  1.63648650e-02, -1.28033878e-02,\n",
       "        -5.63124567e-03, -6.50587073e-03, -1.35898637e-03]], dtype=float32)"
      ]
     },
     "execution_count": 68,
     "metadata": {},
     "output_type": "execute_result"
    }
   ],
   "source": [
    "example_result"
   ]
  },
  {
   "cell_type": "code",
   "execution_count": 69,
   "id": "f7bca33c",
   "metadata": {},
   "outputs": [
    {
     "data": {
      "text/plain": [
       "10"
      ]
     },
     "execution_count": 69,
     "metadata": {},
     "output_type": "execute_result"
    }
   ],
   "source": [
    "len(example_result)"
   ]
  },
  {
   "cell_type": "code",
   "execution_count": 70,
   "id": "7b5466c0",
   "metadata": {},
   "outputs": [
    {
     "data": {
      "text/plain": [
       "[0.002518116,\n",
       " 0.0024342116,\n",
       " 0.0015126336,\n",
       " 0.0017322078,\n",
       " 0.0010452541,\n",
       " 0.00046012085,\n",
       " -0.00024370733,\n",
       " -0.0005976277,\n",
       " -0.0015436476,\n",
       " -0.0018223315]"
      ]
     },
     "execution_count": 70,
     "metadata": {},
     "output_type": "execute_result"
    }
   ],
   "source": [
    "last_list=[]\n",
    "\n",
    "for i in range (0, len(example_result)):\n",
    "  last_list.append((example_result[i][23]))\n",
    "\n",
    "last_list"
   ]
  },
  {
   "cell_type": "code",
   "execution_count": 71,
   "id": "8ff60aad",
   "metadata": {},
   "outputs": [
    {
     "name": "stdout",
     "output_type": "stream",
     "text": [
      "2021-11-25 15:14:32.270410\n"
     ]
    }
   ],
   "source": [
    "import datetime\n",
    "print(datetime.datetime.now())"
   ]
  },
  {
   "cell_type": "code",
   "execution_count": 72,
   "id": "9dee0595",
   "metadata": {},
   "outputs": [
    {
     "name": "stdout",
     "output_type": "stream",
     "text": [
      "WARNING:tensorflow:From D:\\Visual Studio2019\\Shared\\Anaconda3_64\\lib\\site-packages\\tensorflow\\python\\ops\\math_ops.py:3066: to_int32 (from tensorflow.python.ops.math_ops) is deprecated and will be removed in a future version.\n",
      "Instructions for updating:\n",
      "Use tf.cast instead.\n",
      "Train on 31087 samples, validate on 3455 samples\n",
      "Epoch 1/200\n",
      "31087/31087 [==============================] - 149s 5ms/step - loss: 0.9683 - mean_absolute_error: 0.2642 - mean_squared_error: 0.9683 - val_loss: 0.2297 - val_mean_absolute_error: 0.2884 - val_mean_squared_error: 0.2297\n",
      "Epoch 2/200\n",
      "31087/31087 [==============================] - 168s 5ms/step - loss: 0.9488 - mean_absolute_error: 0.2529 - mean_squared_error: 0.9488 - val_loss: 0.2332 - val_mean_absolute_error: 0.3042 - val_mean_squared_error: 0.2332\n",
      "Epoch 3/200\n",
      "31087/31087 [==============================] - 176s 6ms/step - loss: 0.9100 - mean_absolute_error: 0.2455 - mean_squared_error: 0.9100 - val_loss: 0.2131 - val_mean_absolute_error: 0.3025 - val_mean_squared_error: 0.2131\n",
      "Epoch 4/200\n",
      "31087/31087 [==============================] - 175s 6ms/step - loss: 32.2112 - mean_absolute_error: 0.4619 - mean_squared_error: 32.2112 - val_loss: 0.3528 - val_mean_absolute_error: 0.3758 - val_mean_squared_error: 0.3528\n",
      "Epoch 5/200\n",
      "31087/31087 [==============================] - 174s 6ms/step - loss: 1.0243 - mean_absolute_error: 0.2845 - mean_squared_error: 1.0243 - val_loss: 0.5054 - val_mean_absolute_error: 0.5428 - val_mean_squared_error: 0.5054\n",
      "Epoch 6/200\n",
      "31087/31087 [==============================] - 173s 6ms/step - loss: 1.0144 - mean_absolute_error: 0.2848 - mean_squared_error: 1.0144 - val_loss: 0.4069 - val_mean_absolute_error: 0.5025 - val_mean_squared_error: 0.4069\n",
      "Epoch 7/200\n",
      "31087/31087 [==============================] - 171s 6ms/step - loss: 0.9654 - mean_absolute_error: 0.2730 - mean_squared_error: 0.9654 - val_loss: 0.3070 - val_mean_absolute_error: 0.3663 - val_mean_squared_error: 0.3070\n",
      "Epoch 8/200\n",
      "31087/31087 [==============================] - 172s 6ms/step - loss: 0.9051 - mean_absolute_error: 0.2729 - mean_squared_error: 0.9051 - val_loss: 0.2694 - val_mean_absolute_error: 0.3231 - val_mean_squared_error: 0.2694\n",
      "Epoch 9/200\n",
      "31087/31087 [==============================] - 171s 5ms/step - loss: 0.8736 - mean_absolute_error: 0.2690 - mean_squared_error: 0.8736 - val_loss: 0.2501 - val_mean_absolute_error: 0.3268 - val_mean_squared_error: 0.2501\n",
      "Epoch 10/200\n",
      "31087/31087 [==============================] - 172s 6ms/step - loss: 0.8099 - mean_absolute_error: 0.2517 - mean_squared_error: 0.8099 - val_loss: 0.2172 - val_mean_absolute_error: 0.2899 - val_mean_squared_error: 0.2172\n",
      "Epoch 11/200\n",
      "31087/31087 [==============================] - 170s 5ms/step - loss: 0.7544 - mean_absolute_error: 0.2493 - mean_squared_error: 0.7544 - val_loss: 0.2241 - val_mean_absolute_error: 0.3029 - val_mean_squared_error: 0.2241\n",
      "Epoch 12/200\n",
      "31087/31087 [==============================] - 171s 5ms/step - loss: 0.8386 - mean_absolute_error: 0.2501 - mean_squared_error: 0.8386 - val_loss: 0.1980 - val_mean_absolute_error: 0.2697 - val_mean_squared_error: 0.1980\n",
      "Epoch 13/200\n",
      "31087/31087 [==============================] - 171s 6ms/step - loss: 1.2932 - mean_absolute_error: 0.3237 - mean_squared_error: 1.2932 - val_loss: 0.3800 - val_mean_absolute_error: 0.4392 - val_mean_squared_error: 0.3800\n",
      "Epoch 14/200\n",
      "31087/31087 [==============================] - 169s 5ms/step - loss: 1.0256 - mean_absolute_error: 0.3027 - mean_squared_error: 1.0256 - val_loss: 0.3221 - val_mean_absolute_error: 0.4218 - val_mean_squared_error: 0.3221\n",
      "Epoch 15/200\n",
      "31087/31087 [==============================] - 169s 5ms/step - loss: 0.9875 - mean_absolute_error: 0.2848 - mean_squared_error: 0.9875 - val_loss: 0.2428 - val_mean_absolute_error: 0.3342 - val_mean_squared_error: 0.2428\n",
      "Epoch 16/200\n",
      "31087/31087 [==============================] - 168s 5ms/step - loss: 0.8635 - mean_absolute_error: 0.2745 - mean_squared_error: 0.8635 - val_loss: 0.2485 - val_mean_absolute_error: 0.3231 - val_mean_squared_error: 0.2485\n",
      "Epoch 17/200\n",
      "31087/31087 [==============================] - 167s 5ms/step - loss: 0.7333 - mean_absolute_error: 0.2529 - mean_squared_error: 0.7333 - val_loss: 0.2148 - val_mean_absolute_error: 0.2973 - val_mean_squared_error: 0.2148\n",
      "Epoch 18/200\n",
      "31087/31087 [==============================] - 167s 5ms/step - loss: 0.8922 - mean_absolute_error: 0.2707 - mean_squared_error: 0.8922 - val_loss: 0.2233 - val_mean_absolute_error: 0.2988 - val_mean_squared_error: 0.2233\n",
      "Epoch 19/200\n",
      "31087/31087 [==============================] - 166s 5ms/step - loss: 0.9832 - mean_absolute_error: 0.3013 - mean_squared_error: 0.9832 - val_loss: 0.2447 - val_mean_absolute_error: 0.2914 - val_mean_squared_error: 0.2447\n",
      "Epoch 20/200\n",
      "31087/31087 [==============================] - 166s 5ms/step - loss: 0.9300 - mean_absolute_error: 0.2920 - mean_squared_error: 0.9300 - val_loss: 0.2568 - val_mean_absolute_error: 0.3004 - val_mean_squared_error: 0.2568\n",
      "Epoch 21/200\n",
      "31087/31087 [==============================] - 169s 5ms/step - loss: 0.8111 - mean_absolute_error: 0.2728 - mean_squared_error: 0.8111 - val_loss: 0.2401 - val_mean_absolute_error: 0.2997 - val_mean_squared_error: 0.2401\n",
      "Epoch 22/200\n",
      "31087/31087 [==============================] - 169s 5ms/step - loss: 0.9337 - mean_absolute_error: 0.2653 - mean_squared_error: 0.9337 - val_loss: 0.2102 - val_mean_absolute_error: 0.2742 - val_mean_squared_error: 0.2102\n",
      "Epoch 23/200\n",
      "31087/31087 [==============================] - 187s 6ms/step - loss: 0.8017 - mean_absolute_error: 0.2531 - mean_squared_error: 0.8017 - val_loss: 0.2197 - val_mean_absolute_error: 0.2625 - val_mean_squared_error: 0.2197\n",
      "Epoch 24/200\n",
      "31087/31087 [==============================] - 188s 6ms/step - loss: 0.7744 - mean_absolute_error: 0.2433 - mean_squared_error: 0.7744 - val_loss: 0.2072 - val_mean_absolute_error: 0.2533 - val_mean_squared_error: 0.2072\n",
      "Epoch 25/200\n",
      "31087/31087 [==============================] - 193s 6ms/step - loss: 0.7423 - mean_absolute_error: 0.2379 - mean_squared_error: 0.7423 - val_loss: 0.1980 - val_mean_absolute_error: 0.2463 - val_mean_squared_error: 0.1980\n",
      "Epoch 26/200\n",
      "31087/31087 [==============================] - 189s 6ms/step - loss: 0.7124 - mean_absolute_error: 0.2316 - mean_squared_error: 0.7124 - val_loss: 0.1895 - val_mean_absolute_error: 0.2414 - val_mean_squared_error: 0.1895\n",
      "Epoch 27/200\n",
      "31087/31087 [==============================] - 188s 6ms/step - loss: 0.7076 - mean_absolute_error: 0.2306 - mean_squared_error: 0.7076 - val_loss: 0.1801 - val_mean_absolute_error: 0.2349 - val_mean_squared_error: 0.1801\n",
      "Epoch 28/200\n",
      "31087/31087 [==============================] - 189s 6ms/step - loss: 0.7139 - mean_absolute_error: 0.2299 - mean_squared_error: 0.7139 - val_loss: 0.1799 - val_mean_absolute_error: 0.2348 - val_mean_squared_error: 0.1799\n",
      "Epoch 29/200\n",
      "31087/31087 [==============================] - 187s 6ms/step - loss: 0.6880 - mean_absolute_error: 0.2252 - mean_squared_error: 0.6880 - val_loss: 0.1734 - val_mean_absolute_error: 0.2294 - val_mean_squared_error: 0.1734\n",
      "Epoch 30/200\n",
      "31087/31087 [==============================] - 189s 6ms/step - loss: 0.6556 - mean_absolute_error: 0.2215 - mean_squared_error: 0.6556 - val_loss: 0.1735 - val_mean_absolute_error: 0.2285 - val_mean_squared_error: 0.1735\n",
      "Epoch 31/200\n",
      "31087/31087 [==============================] - 189s 6ms/step - loss: 0.6440 - mean_absolute_error: 0.2194 - mean_squared_error: 0.6440 - val_loss: 0.1729 - val_mean_absolute_error: 0.2263 - val_mean_squared_error: 0.1729\n",
      "Epoch 32/200\n",
      "31087/31087 [==============================] - 189s 6ms/step - loss: 0.6159 - mean_absolute_error: 0.2144 - mean_squared_error: 0.6159 - val_loss: 0.1705 - val_mean_absolute_error: 0.2233 - val_mean_squared_error: 0.1705\n",
      "Epoch 33/200\n",
      "31087/31087 [==============================] - 192s 6ms/step - loss: 0.6217 - mean_absolute_error: 0.2149 - mean_squared_error: 0.6217 - val_loss: 0.1712 - val_mean_absolute_error: 0.2230 - val_mean_squared_error: 0.1712\n",
      "Epoch 34/200\n",
      "31087/31087 [==============================] - 191s 6ms/step - loss: 0.6142 - mean_absolute_error: 0.2122 - mean_squared_error: 0.6142 - val_loss: 0.1764 - val_mean_absolute_error: 0.2299 - val_mean_squared_error: 0.1764\n"
     ]
    },
    {
     "name": "stdout",
     "output_type": "stream",
     "text": [
      "Epoch 35/200\n",
      "31087/31087 [==============================] - 188s 6ms/step - loss: 0.6055 - mean_absolute_error: 0.2110 - mean_squared_error: 0.6055 - val_loss: 0.1872 - val_mean_absolute_error: 0.2437 - val_mean_squared_error: 0.1872\n",
      "Epoch 36/200\n",
      "31087/31087 [==============================] - 190s 6ms/step - loss: 0.6221 - mean_absolute_error: 0.2131 - mean_squared_error: 0.6221 - val_loss: 0.1935 - val_mean_absolute_error: 0.2475 - val_mean_squared_error: 0.1935\n",
      "Epoch 37/200\n",
      "31087/31087 [==============================] - 192s 6ms/step - loss: 0.5935 - mean_absolute_error: 0.2134 - mean_squared_error: 0.5935 - val_loss: 0.1917 - val_mean_absolute_error: 0.2501 - val_mean_squared_error: 0.1917\n",
      "Epoch 38/200\n",
      "31087/31087 [==============================] - 189s 6ms/step - loss: 0.5896 - mean_absolute_error: 0.2109 - mean_squared_error: 0.5896 - val_loss: 0.1909 - val_mean_absolute_error: 0.2505 - val_mean_squared_error: 0.1909\n",
      "Epoch 39/200\n",
      "31087/31087 [==============================] - 194s 6ms/step - loss: 0.5838 - mean_absolute_error: 0.2100 - mean_squared_error: 0.5838 - val_loss: 0.1837 - val_mean_absolute_error: 0.2419 - val_mean_squared_error: 0.1837\n",
      "Epoch 40/200\n",
      "31087/31087 [==============================] - 193s 6ms/step - loss: 0.5898 - mean_absolute_error: 0.2129 - mean_squared_error: 0.5898 - val_loss: 0.1885 - val_mean_absolute_error: 0.2502 - val_mean_squared_error: 0.1885\n",
      "Epoch 41/200\n",
      "31087/31087 [==============================] - 189s 6ms/step - loss: 0.5909 - mean_absolute_error: 0.2126 - mean_squared_error: 0.5909 - val_loss: 0.1809 - val_mean_absolute_error: 0.2432 - val_mean_squared_error: 0.1809\n",
      "Epoch 42/200\n",
      "31087/31087 [==============================] - 189s 6ms/step - loss: 0.5851 - mean_absolute_error: 0.2093 - mean_squared_error: 0.5851 - val_loss: 0.1814 - val_mean_absolute_error: 0.2429 - val_mean_squared_error: 0.1814\n",
      "Epoch 43/200\n",
      "31087/31087 [==============================] - 188s 6ms/step - loss: 0.5713 - mean_absolute_error: 0.2103 - mean_squared_error: 0.5713 - val_loss: 0.1907 - val_mean_absolute_error: 0.2446 - val_mean_squared_error: 0.1907\n",
      "Epoch 44/200\n",
      "31087/31087 [==============================] - 189s 6ms/step - loss: 0.5631 - mean_absolute_error: 0.2061 - mean_squared_error: 0.5631 - val_loss: 0.1846 - val_mean_absolute_error: 0.2366 - val_mean_squared_error: 0.1846\n",
      "Epoch 45/200\n",
      "31087/31087 [==============================] - 193s 6ms/step - loss: 0.5620 - mean_absolute_error: 0.2045 - mean_squared_error: 0.5620 - val_loss: 0.1802 - val_mean_absolute_error: 0.2308 - val_mean_squared_error: 0.1802\n",
      "Epoch 46/200\n",
      "31087/31087 [==============================] - 192s 6ms/step - loss: 0.5616 - mean_absolute_error: 0.2037 - mean_squared_error: 0.5616 - val_loss: 0.1758 - val_mean_absolute_error: 0.2255 - val_mean_squared_error: 0.1758\n",
      "Epoch 47/200\n",
      "31087/31087 [==============================] - 190s 6ms/step - loss: 0.5565 - mean_absolute_error: 0.2020 - mean_squared_error: 0.5565 - val_loss: 0.1731 - val_mean_absolute_error: 0.2224 - val_mean_squared_error: 0.1731\n",
      "Epoch 48/200\n",
      "31087/31087 [==============================] - 188s 6ms/step - loss: 0.5577 - mean_absolute_error: 0.2020 - mean_squared_error: 0.5577 - val_loss: 0.1699 - val_mean_absolute_error: 0.2191 - val_mean_squared_error: 0.1699\n",
      "Epoch 49/200\n",
      "31087/31087 [==============================] - 187s 6ms/step - loss: 0.5544 - mean_absolute_error: 0.2012 - mean_squared_error: 0.5544 - val_loss: 0.1685 - val_mean_absolute_error: 0.2177 - val_mean_squared_error: 0.1685\n",
      "Epoch 50/200\n",
      "31087/31087 [==============================] - 187s 6ms/step - loss: 0.5540 - mean_absolute_error: 0.2001 - mean_squared_error: 0.5540 - val_loss: 0.1666 - val_mean_absolute_error: 0.2158 - val_mean_squared_error: 0.1666\n",
      "Epoch 51/200\n",
      "31087/31087 [==============================] - 186s 6ms/step - loss: 0.5518 - mean_absolute_error: 0.1998 - mean_squared_error: 0.5518 - val_loss: 0.1658 - val_mean_absolute_error: 0.2154 - val_mean_squared_error: 0.1658\n",
      "Epoch 52/200\n",
      "31087/31087 [==============================] - 186s 6ms/step - loss: 0.5518 - mean_absolute_error: 0.1992 - mean_squared_error: 0.5518 - val_loss: 0.1653 - val_mean_absolute_error: 0.2148 - val_mean_squared_error: 0.1653\n",
      "Epoch 53/200\n",
      "31087/31087 [==============================] - 187s 6ms/step - loss: 0.5513 - mean_absolute_error: 0.1993 - mean_squared_error: 0.5513 - val_loss: 0.1642 - val_mean_absolute_error: 0.2144 - val_mean_squared_error: 0.1642\n",
      "Epoch 54/200\n",
      "31087/31087 [==============================] - 187s 6ms/step - loss: 0.5501 - mean_absolute_error: 0.1986 - mean_squared_error: 0.5501 - val_loss: 0.1642 - val_mean_absolute_error: 0.2141 - val_mean_squared_error: 0.1642\n",
      "Epoch 55/200\n",
      "31087/31087 [==============================] - 187s 6ms/step - loss: 0.5485 - mean_absolute_error: 0.1983 - mean_squared_error: 0.5485 - val_loss: 0.1640 - val_mean_absolute_error: 0.2141 - val_mean_squared_error: 0.1640\n",
      "Epoch 56/200\n",
      "31087/31087 [==============================] - 186s 6ms/step - loss: 0.5481 - mean_absolute_error: 0.1977 - mean_squared_error: 0.5481 - val_loss: 0.1645 - val_mean_absolute_error: 0.2136 - val_mean_squared_error: 0.1645\n",
      "Epoch 57/200\n",
      "31087/31087 [==============================] - 182s 6ms/step - loss: 0.5471 - mean_absolute_error: 0.1977 - mean_squared_error: 0.5471 - val_loss: 0.1632 - val_mean_absolute_error: 0.2133 - val_mean_squared_error: 0.1632\n",
      "Epoch 58/200\n",
      "31087/31087 [==============================] - 183s 6ms/step - loss: 0.5477 - mean_absolute_error: 0.1977 - mean_squared_error: 0.5477 - val_loss: 0.1634 - val_mean_absolute_error: 0.2134 - val_mean_squared_error: 0.1634\n",
      "Epoch 59/200\n",
      "31087/31087 [==============================] - 183s 6ms/step - loss: 0.5456 - mean_absolute_error: 0.1965 - mean_squared_error: 0.5456 - val_loss: 0.1629 - val_mean_absolute_error: 0.2131 - val_mean_squared_error: 0.1629\n",
      "Epoch 60/200\n",
      "31087/31087 [==============================] - 183s 6ms/step - loss: 0.5459 - mean_absolute_error: 0.1971 - mean_squared_error: 0.5459 - val_loss: 0.1631 - val_mean_absolute_error: 0.2130 - val_mean_squared_error: 0.1631\n",
      "Epoch 61/200\n",
      "31087/31087 [==============================] - 185s 6ms/step - loss: 0.5442 - mean_absolute_error: 0.1965 - mean_squared_error: 0.5442 - val_loss: 0.1628 - val_mean_absolute_error: 0.2130 - val_mean_squared_error: 0.1628\n",
      "Epoch 62/200\n",
      "31087/31087 [==============================] - 186s 6ms/step - loss: 0.5440 - mean_absolute_error: 0.1963 - mean_squared_error: 0.5440 - val_loss: 0.1624 - val_mean_absolute_error: 0.2126 - val_mean_squared_error: 0.1624\n",
      "Epoch 63/200\n",
      "31087/31087 [==============================] - 187s 6ms/step - loss: 0.5434 - mean_absolute_error: 0.1960 - mean_squared_error: 0.5434 - val_loss: 0.1620 - val_mean_absolute_error: 0.2130 - val_mean_squared_error: 0.1620\n",
      "Epoch 64/200\n",
      "31087/31087 [==============================] - 187s 6ms/step - loss: 0.5429 - mean_absolute_error: 0.1960 - mean_squared_error: 0.5429 - val_loss: 0.1619 - val_mean_absolute_error: 0.2127 - val_mean_squared_error: 0.1619\n",
      "Epoch 65/200\n",
      "31087/31087 [==============================] - 187s 6ms/step - loss: 0.5418 - mean_absolute_error: 0.1958 - mean_squared_error: 0.5418 - val_loss: 0.1615 - val_mean_absolute_error: 0.2127 - val_mean_squared_error: 0.1615\n",
      "Epoch 66/200\n",
      "31087/31087 [==============================] - 186s 6ms/step - loss: 0.5415 - mean_absolute_error: 0.1960 - mean_squared_error: 0.5415 - val_loss: 0.1611 - val_mean_absolute_error: 0.2129 - val_mean_squared_error: 0.1611\n",
      "Epoch 67/200\n",
      "31087/31087 [==============================] - 186s 6ms/step - loss: 0.5425 - mean_absolute_error: 0.1953 - mean_squared_error: 0.5425 - val_loss: 0.1613 - val_mean_absolute_error: 0.2123 - val_mean_squared_error: 0.1613\n",
      "Epoch 68/200\n",
      "31087/31087 [==============================] - 186s 6ms/step - loss: 0.5405 - mean_absolute_error: 0.1954 - mean_squared_error: 0.5405 - val_loss: 0.1613 - val_mean_absolute_error: 0.2123 - val_mean_squared_error: 0.1613\n",
      "Epoch 69/200\n",
      "31087/31087 [==============================] - 187s 6ms/step - loss: 0.5393 - mean_absolute_error: 0.1947 - mean_squared_error: 0.5393 - val_loss: 0.1603 - val_mean_absolute_error: 0.2127 - val_mean_squared_error: 0.1603\n",
      "Epoch 70/200\n"
     ]
    },
    {
     "name": "stdout",
     "output_type": "stream",
     "text": [
      "31087/31087 [==============================] - 182s 6ms/step - loss: 0.5378 - mean_absolute_error: 0.1949 - mean_squared_error: 0.5378 - val_loss: 0.1601 - val_mean_absolute_error: 0.2121 - val_mean_squared_error: 0.1601\n",
      "Epoch 71/200\n",
      "31087/31087 [==============================] - 182s 6ms/step - loss: 0.5372 - mean_absolute_error: 0.1949 - mean_squared_error: 0.5372 - val_loss: 0.1597 - val_mean_absolute_error: 0.2122 - val_mean_squared_error: 0.1597\n",
      "Epoch 72/200\n",
      "31087/31087 [==============================] - 182s 6ms/step - loss: 0.5378 - mean_absolute_error: 0.1946 - mean_squared_error: 0.5378 - val_loss: 0.1602 - val_mean_absolute_error: 0.2121 - val_mean_squared_error: 0.1602\n",
      "Epoch 73/200\n",
      "31087/31087 [==============================] - 183s 6ms/step - loss: 0.5377 - mean_absolute_error: 0.1939 - mean_squared_error: 0.5377 - val_loss: 0.1598 - val_mean_absolute_error: 0.2121 - val_mean_squared_error: 0.1598\n",
      "Epoch 74/200\n",
      "31087/31087 [==============================] - 182s 6ms/step - loss: 0.5342 - mean_absolute_error: 0.1939 - mean_squared_error: 0.5342 - val_loss: 0.1593 - val_mean_absolute_error: 0.2117 - val_mean_squared_error: 0.1593\n",
      "Epoch 75/200\n",
      "31087/31087 [==============================] - 182s 6ms/step - loss: 0.5324 - mean_absolute_error: 0.1931 - mean_squared_error: 0.5324 - val_loss: 0.1587 - val_mean_absolute_error: 0.2120 - val_mean_squared_error: 0.1587\n",
      "Epoch 76/200\n",
      "31087/31087 [==============================] - 183s 6ms/step - loss: 0.5344 - mean_absolute_error: 0.1943 - mean_squared_error: 0.5344 - val_loss: 0.1584 - val_mean_absolute_error: 0.2122 - val_mean_squared_error: 0.1584\n",
      "Epoch 77/200\n",
      "31087/31087 [==============================] - 186s 6ms/step - loss: 0.5320 - mean_absolute_error: 0.1925 - mean_squared_error: 0.5320 - val_loss: 0.1579 - val_mean_absolute_error: 0.2120 - val_mean_squared_error: 0.1579\n",
      "Epoch 78/200\n",
      "31087/31087 [==============================] - 186s 6ms/step - loss: 0.5336 - mean_absolute_error: 0.1937 - mean_squared_error: 0.5336 - val_loss: 0.1584 - val_mean_absolute_error: 0.2117 - val_mean_squared_error: 0.1584\n",
      "Epoch 79/200\n",
      "31087/31087 [==============================] - 188s 6ms/step - loss: 0.5326 - mean_absolute_error: 0.1930 - mean_squared_error: 0.5326 - val_loss: 0.1572 - val_mean_absolute_error: 0.2120 - val_mean_squared_error: 0.1572\n",
      "Epoch 80/200\n",
      "31087/31087 [==============================] - 186s 6ms/step - loss: 0.5296 - mean_absolute_error: 0.1924 - mean_squared_error: 0.5296 - val_loss: 0.1568 - val_mean_absolute_error: 0.2120 - val_mean_squared_error: 0.1568\n",
      "Epoch 81/200\n",
      "31087/31087 [==============================] - 187s 6ms/step - loss: 0.5328 - mean_absolute_error: 0.1930 - mean_squared_error: 0.5328 - val_loss: 0.1575 - val_mean_absolute_error: 0.2114 - val_mean_squared_error: 0.1575\n",
      "Epoch 82/200\n",
      "31087/31087 [==============================] - 186s 6ms/step - loss: 0.5303 - mean_absolute_error: 0.1921 - mean_squared_error: 0.5303 - val_loss: 0.1563 - val_mean_absolute_error: 0.2122 - val_mean_squared_error: 0.1563\n",
      "Epoch 83/200\n",
      "31087/31087 [==============================] - 186s 6ms/step - loss: 0.5284 - mean_absolute_error: 0.1916 - mean_squared_error: 0.5284 - val_loss: 0.1557 - val_mean_absolute_error: 0.2121 - val_mean_squared_error: 0.1557\n",
      "Epoch 84/200\n",
      "31087/31087 [==============================] - 186s 6ms/step - loss: 0.5272 - mean_absolute_error: 0.1915 - mean_squared_error: 0.5272 - val_loss: 0.1560 - val_mean_absolute_error: 0.2114 - val_mean_squared_error: 0.1560\n",
      "Epoch 85/200\n",
      "31087/31087 [==============================] - 186s 6ms/step - loss: 0.5301 - mean_absolute_error: 0.1926 - mean_squared_error: 0.5301 - val_loss: 0.1561 - val_mean_absolute_error: 0.2113 - val_mean_squared_error: 0.1561\n",
      "Epoch 86/200\n",
      "31087/31087 [==============================] - 187s 6ms/step - loss: 0.5272 - mean_absolute_error: 0.1911 - mean_squared_error: 0.5272 - val_loss: 0.1557 - val_mean_absolute_error: 0.2115 - val_mean_squared_error: 0.1557\n",
      "Epoch 87/200\n",
      "31087/31087 [==============================] - 187s 6ms/step - loss: 0.5291 - mean_absolute_error: 0.1923 - mean_squared_error: 0.5291 - val_loss: 0.1552 - val_mean_absolute_error: 0.2110 - val_mean_squared_error: 0.1552\n",
      "Epoch 88/200\n",
      "31087/31087 [==============================] - 187s 6ms/step - loss: 0.5257 - mean_absolute_error: 0.1928 - mean_squared_error: 0.5257 - val_loss: 0.1551 - val_mean_absolute_error: 0.2110 - val_mean_squared_error: 0.1551\n",
      "Epoch 89/200\n",
      "31087/31087 [==============================] - 187s 6ms/step - loss: 0.5247 - mean_absolute_error: 0.1913 - mean_squared_error: 0.5247 - val_loss: 0.1544 - val_mean_absolute_error: 0.2124 - val_mean_squared_error: 0.1544\n",
      "Epoch 90/200\n",
      "31087/31087 [==============================] - 187s 6ms/step - loss: 0.5253 - mean_absolute_error: 0.1910 - mean_squared_error: 0.5253 - val_loss: 0.1543 - val_mean_absolute_error: 0.2131 - val_mean_squared_error: 0.1543\n",
      "Epoch 91/200\n",
      "31087/31087 [==============================] - 187s 6ms/step - loss: 0.5261 - mean_absolute_error: 0.1919 - mean_squared_error: 0.5261 - val_loss: 0.1542 - val_mean_absolute_error: 0.2118 - val_mean_squared_error: 0.1542\n",
      "Epoch 92/200\n",
      "31087/31087 [==============================] - 187s 6ms/step - loss: 0.5239 - mean_absolute_error: 0.1904 - mean_squared_error: 0.5239 - val_loss: 0.1537 - val_mean_absolute_error: 0.2121 - val_mean_squared_error: 0.1537\n",
      "Epoch 93/200\n",
      "31087/31087 [==============================] - 187s 6ms/step - loss: 0.5222 - mean_absolute_error: 0.1902 - mean_squared_error: 0.5222 - val_loss: 0.1536 - val_mean_absolute_error: 0.2119 - val_mean_squared_error: 0.1536\n",
      "Epoch 94/200\n",
      "31087/31087 [==============================] - 187s 6ms/step - loss: 0.5226 - mean_absolute_error: 0.1916 - mean_squared_error: 0.5226 - val_loss: 0.1537 - val_mean_absolute_error: 0.2109 - val_mean_squared_error: 0.1537\n",
      "Epoch 95/200\n",
      "31087/31087 [==============================] - 187s 6ms/step - loss: 0.5214 - mean_absolute_error: 0.1903 - mean_squared_error: 0.5214 - val_loss: 0.1531 - val_mean_absolute_error: 0.2122 - val_mean_squared_error: 0.1531\n",
      "Epoch 96/200\n",
      "31087/31087 [==============================] - 186s 6ms/step - loss: 0.5214 - mean_absolute_error: 0.1897 - mean_squared_error: 0.5214 - val_loss: 0.1526 - val_mean_absolute_error: 0.2127 - val_mean_squared_error: 0.1526\n",
      "Epoch 97/200\n",
      "31087/31087 [==============================] - 186s 6ms/step - loss: 0.5231 - mean_absolute_error: 0.1905 - mean_squared_error: 0.5231 - val_loss: 0.1529 - val_mean_absolute_error: 0.2114 - val_mean_squared_error: 0.1529\n",
      "Epoch 98/200\n",
      "31087/31087 [==============================] - 186s 6ms/step - loss: 0.5208 - mean_absolute_error: 0.1893 - mean_squared_error: 0.5208 - val_loss: 0.1525 - val_mean_absolute_error: 0.2117 - val_mean_squared_error: 0.1525\n",
      "Epoch 99/200\n",
      "31087/31087 [==============================] - 187s 6ms/step - loss: 0.5195 - mean_absolute_error: 0.1907 - mean_squared_error: 0.5195 - val_loss: 0.1526 - val_mean_absolute_error: 0.2105 - val_mean_squared_error: 0.1526\n",
      "Epoch 100/200\n",
      "31087/31087 [==============================] - 187s 6ms/step - loss: 0.5203 - mean_absolute_error: 0.1895 - mean_squared_error: 0.5203 - val_loss: 0.1521 - val_mean_absolute_error: 0.2118 - val_mean_squared_error: 0.1521\n",
      "Epoch 101/200\n",
      "31087/31087 [==============================] - 187s 6ms/step - loss: 0.5173 - mean_absolute_error: 0.1895 - mean_squared_error: 0.5173 - val_loss: 0.1521 - val_mean_absolute_error: 0.2109 - val_mean_squared_error: 0.1521\n",
      "Epoch 102/200\n",
      "31087/31087 [==============================] - 186s 6ms/step - loss: 0.5192 - mean_absolute_error: 0.1908 - mean_squared_error: 0.5192 - val_loss: 0.1526 - val_mean_absolute_error: 0.2109 - val_mean_squared_error: 0.1526\n",
      "Epoch 103/200\n",
      "31087/31087 [==============================] - 187s 6ms/step - loss: 0.5170 - mean_absolute_error: 0.1881 - mean_squared_error: 0.5170 - val_loss: 0.1522 - val_mean_absolute_error: 0.2101 - val_mean_squared_error: 0.1522\n",
      "Epoch 104/200\n",
      "31087/31087 [==============================] - 187s 6ms/step - loss: 0.5197 - mean_absolute_error: 0.1901 - mean_squared_error: 0.5197 - val_loss: 0.1521 - val_mean_absolute_error: 0.2103 - val_mean_squared_error: 0.1521\n",
      "Epoch 105/200\n"
     ]
    },
    {
     "name": "stdout",
     "output_type": "stream",
     "text": [
      "31087/31087 [==============================] - 186s 6ms/step - loss: 0.5169 - mean_absolute_error: 0.1881 - mean_squared_error: 0.5169 - val_loss: 0.1515 - val_mean_absolute_error: 0.2118 - val_mean_squared_error: 0.1515\n",
      "Epoch 106/200\n",
      "31087/31087 [==============================] - 187s 6ms/step - loss: 0.5146 - mean_absolute_error: 0.1890 - mean_squared_error: 0.5146 - val_loss: 0.1514 - val_mean_absolute_error: 0.2099 - val_mean_squared_error: 0.1514\n",
      "Epoch 107/200\n",
      "31087/31087 [==============================] - 187s 6ms/step - loss: 0.5156 - mean_absolute_error: 0.1892 - mean_squared_error: 0.5156 - val_loss: 0.1512 - val_mean_absolute_error: 0.2116 - val_mean_squared_error: 0.1512\n",
      "Epoch 108/200\n",
      "31087/31087 [==============================] - 186s 6ms/step - loss: 0.5144 - mean_absolute_error: 0.1881 - mean_squared_error: 0.5144 - val_loss: 0.1512 - val_mean_absolute_error: 0.2108 - val_mean_squared_error: 0.1512\n",
      "Epoch 109/200\n",
      "31087/31087 [==============================] - 186s 6ms/step - loss: 0.5152 - mean_absolute_error: 0.1891 - mean_squared_error: 0.5152 - val_loss: 0.1512 - val_mean_absolute_error: 0.2119 - val_mean_squared_error: 0.1512\n",
      "Epoch 110/200\n",
      "31087/31087 [==============================] - 186s 6ms/step - loss: 0.5126 - mean_absolute_error: 0.1875 - mean_squared_error: 0.5126 - val_loss: 0.1512 - val_mean_absolute_error: 0.2108 - val_mean_squared_error: 0.1512\n",
      "Epoch 111/200\n",
      "31087/31087 [==============================] - 186s 6ms/step - loss: 0.5113 - mean_absolute_error: 0.1887 - mean_squared_error: 0.5113 - val_loss: 0.1510 - val_mean_absolute_error: 0.2114 - val_mean_squared_error: 0.1510\n",
      "Epoch 112/200\n",
      "31087/31087 [==============================] - 187s 6ms/step - loss: 0.5117 - mean_absolute_error: 0.1883 - mean_squared_error: 0.5117 - val_loss: 0.1507 - val_mean_absolute_error: 0.2113 - val_mean_squared_error: 0.1507\n",
      "Epoch 113/200\n",
      "31087/31087 [==============================] - 186s 6ms/step - loss: 0.5111 - mean_absolute_error: 0.1871 - mean_squared_error: 0.5111 - val_loss: 0.1507 - val_mean_absolute_error: 0.2113 - val_mean_squared_error: 0.1507\n",
      "Epoch 114/200\n",
      "31087/31087 [==============================] - 186s 6ms/step - loss: 0.5117 - mean_absolute_error: 0.1890 - mean_squared_error: 0.5117 - val_loss: 0.1506 - val_mean_absolute_error: 0.2117 - val_mean_squared_error: 0.1506\n",
      "Epoch 115/200\n",
      "31087/31087 [==============================] - 186s 6ms/step - loss: 0.5093 - mean_absolute_error: 0.1871 - mean_squared_error: 0.5093 - val_loss: 0.1505 - val_mean_absolute_error: 0.2107 - val_mean_squared_error: 0.1505\n",
      "Epoch 116/200\n",
      "31087/31087 [==============================] - 186s 6ms/step - loss: 0.5101 - mean_absolute_error: 0.1869 - mean_squared_error: 0.5101 - val_loss: 0.1502 - val_mean_absolute_error: 0.2110 - val_mean_squared_error: 0.1502\n",
      "Epoch 117/200\n",
      "31087/31087 [==============================] - 186s 6ms/step - loss: 0.5083 - mean_absolute_error: 0.1874 - mean_squared_error: 0.5083 - val_loss: 0.1501 - val_mean_absolute_error: 0.2121 - val_mean_squared_error: 0.1501\n",
      "Epoch 118/200\n",
      "31087/31087 [==============================] - 185s 6ms/step - loss: 0.5091 - mean_absolute_error: 0.1869 - mean_squared_error: 0.5091 - val_loss: 0.1501 - val_mean_absolute_error: 0.2120 - val_mean_squared_error: 0.1501\n",
      "Epoch 119/200\n",
      "31087/31087 [==============================] - 186s 6ms/step - loss: 0.5077 - mean_absolute_error: 0.1869 - mean_squared_error: 0.5077 - val_loss: 0.1502 - val_mean_absolute_error: 0.2121 - val_mean_squared_error: 0.1502\n",
      "Epoch 120/200\n",
      "31087/31087 [==============================] - 187s 6ms/step - loss: 0.5084 - mean_absolute_error: 0.1880 - mean_squared_error: 0.5084 - val_loss: 0.1502 - val_mean_absolute_error: 0.2111 - val_mean_squared_error: 0.1502\n",
      "Epoch 121/200\n",
      "31087/31087 [==============================] - 186s 6ms/step - loss: 0.5078 - mean_absolute_error: 0.1865 - mean_squared_error: 0.5078 - val_loss: 0.1501 - val_mean_absolute_error: 0.2112 - val_mean_squared_error: 0.1501\n",
      "Epoch 122/200\n",
      "31087/31087 [==============================] - 186s 6ms/step - loss: 0.5069 - mean_absolute_error: 0.1872 - mean_squared_error: 0.5069 - val_loss: 0.1501 - val_mean_absolute_error: 0.2106 - val_mean_squared_error: 0.1501\n",
      "Epoch 123/200\n",
      "31087/31087 [==============================] - 186s 6ms/step - loss: 0.5048 - mean_absolute_error: 0.1858 - mean_squared_error: 0.5048 - val_loss: 0.1499 - val_mean_absolute_error: 0.2111 - val_mean_squared_error: 0.1499\n",
      "Epoch 124/200\n",
      "31087/31087 [==============================] - 186s 6ms/step - loss: 0.5061 - mean_absolute_error: 0.1870 - mean_squared_error: 0.5061 - val_loss: 0.1499 - val_mean_absolute_error: 0.2104 - val_mean_squared_error: 0.1499\n",
      "Epoch 125/200\n",
      "31087/31087 [==============================] - 186s 6ms/step - loss: 0.5056 - mean_absolute_error: 0.1859 - mean_squared_error: 0.5056 - val_loss: 0.1497 - val_mean_absolute_error: 0.2114 - val_mean_squared_error: 0.1497\n",
      "Epoch 126/200\n",
      "31087/31087 [==============================] - 186s 6ms/step - loss: 0.5049 - mean_absolute_error: 0.1865 - mean_squared_error: 0.5049 - val_loss: 0.1498 - val_mean_absolute_error: 0.2113 - val_mean_squared_error: 0.1498\n",
      "Epoch 127/200\n",
      "31087/31087 [==============================] - 185s 6ms/step - loss: 0.5049 - mean_absolute_error: 0.1864 - mean_squared_error: 0.5049 - val_loss: 0.1495 - val_mean_absolute_error: 0.2109 - val_mean_squared_error: 0.1495\n",
      "Epoch 128/200\n",
      "31087/31087 [==============================] - 186s 6ms/step - loss: 0.5038 - mean_absolute_error: 0.1862 - mean_squared_error: 0.5038 - val_loss: 0.1496 - val_mean_absolute_error: 0.2105 - val_mean_squared_error: 0.1496\n",
      "Epoch 129/200\n",
      "31087/31087 [==============================] - 187s 6ms/step - loss: 0.5032 - mean_absolute_error: 0.1847 - mean_squared_error: 0.5032 - val_loss: 0.1492 - val_mean_absolute_error: 0.2108 - val_mean_squared_error: 0.1492\n",
      "Epoch 130/200\n",
      "31087/31087 [==============================] - 186s 6ms/step - loss: 0.5027 - mean_absolute_error: 0.1861 - mean_squared_error: 0.5027 - val_loss: 0.1493 - val_mean_absolute_error: 0.2102 - val_mean_squared_error: 0.1493\n",
      "Epoch 131/200\n",
      "31087/31087 [==============================] - 187s 6ms/step - loss: 0.5008 - mean_absolute_error: 0.1859 - mean_squared_error: 0.5008 - val_loss: 0.1493 - val_mean_absolute_error: 0.2110 - val_mean_squared_error: 0.1493\n",
      "Epoch 132/200\n",
      "31087/31087 [==============================] - 186s 6ms/step - loss: 0.5010 - mean_absolute_error: 0.1867 - mean_squared_error: 0.5010 - val_loss: 0.1493 - val_mean_absolute_error: 0.2099 - val_mean_squared_error: 0.1493\n",
      "Epoch 133/200\n",
      "31087/31087 [==============================] - 186s 6ms/step - loss: 0.4992 - mean_absolute_error: 0.1845 - mean_squared_error: 0.4992 - val_loss: 0.1489 - val_mean_absolute_error: 0.2091 - val_mean_squared_error: 0.1489\n",
      "Epoch 134/200\n",
      "31087/31087 [==============================] - 186s 6ms/step - loss: 0.5003 - mean_absolute_error: 0.1860 - mean_squared_error: 0.5003 - val_loss: 0.1489 - val_mean_absolute_error: 0.2086 - val_mean_squared_error: 0.1489\n",
      "Epoch 135/200\n",
      "31087/31087 [==============================] - 186s 6ms/step - loss: 0.4986 - mean_absolute_error: 0.1850 - mean_squared_error: 0.4986 - val_loss: 0.1490 - val_mean_absolute_error: 0.2101 - val_mean_squared_error: 0.1490\n",
      "Epoch 136/200\n",
      "31087/31087 [==============================] - 186s 6ms/step - loss: 0.4982 - mean_absolute_error: 0.1845 - mean_squared_error: 0.4982 - val_loss: 0.1488 - val_mean_absolute_error: 0.2078 - val_mean_squared_error: 0.1488\n",
      "Epoch 137/200\n",
      "31087/31087 [==============================] - 186s 6ms/step - loss: 0.4998 - mean_absolute_error: 0.1865 - mean_squared_error: 0.4998 - val_loss: 0.1490 - val_mean_absolute_error: 0.2071 - val_mean_squared_error: 0.1490\n",
      "Epoch 138/200\n",
      "31087/31087 [==============================] - 186s 6ms/step - loss: 0.4960 - mean_absolute_error: 0.1848 - mean_squared_error: 0.4960 - val_loss: 0.1490 - val_mean_absolute_error: 0.2089 - val_mean_squared_error: 0.1490\n",
      "Epoch 139/200\n",
      "31087/31087 [==============================] - 186s 6ms/step - loss: 0.4995 - mean_absolute_error: 0.1845 - mean_squared_error: 0.4995 - val_loss: 0.1490 - val_mean_absolute_error: 0.2065 - val_mean_squared_error: 0.1490\n"
     ]
    },
    {
     "name": "stdout",
     "output_type": "stream",
     "text": [
      "Epoch 140/200\n",
      "31087/31087 [==============================] - 186s 6ms/step - loss: 0.4992 - mean_absolute_error: 0.1863 - mean_squared_error: 0.4992 - val_loss: 0.1490 - val_mean_absolute_error: 0.2077 - val_mean_squared_error: 0.1490\n",
      "Epoch 141/200\n",
      "31087/31087 [==============================] - 186s 6ms/step - loss: 0.4943 - mean_absolute_error: 0.1840 - mean_squared_error: 0.4943 - val_loss: 0.1488 - val_mean_absolute_error: 0.2073 - val_mean_squared_error: 0.1488\n",
      "Epoch 142/200\n",
      "31087/31087 [==============================] - 186s 6ms/step - loss: 0.4959 - mean_absolute_error: 0.1845 - mean_squared_error: 0.4959 - val_loss: 0.1485 - val_mean_absolute_error: 0.2079 - val_mean_squared_error: 0.1485\n",
      "Epoch 143/200\n",
      "31087/31087 [==============================] - 186s 6ms/step - loss: 0.4937 - mean_absolute_error: 0.1841 - mean_squared_error: 0.4937 - val_loss: 0.1485 - val_mean_absolute_error: 0.2074 - val_mean_squared_error: 0.1485\n",
      "Epoch 144/200\n",
      "31087/31087 [==============================] - 186s 6ms/step - loss: 0.4952 - mean_absolute_error: 0.1840 - mean_squared_error: 0.4952 - val_loss: 0.1480 - val_mean_absolute_error: 0.2086 - val_mean_squared_error: 0.1480\n",
      "Epoch 145/200\n",
      "31087/31087 [==============================] - 186s 6ms/step - loss: 0.4942 - mean_absolute_error: 0.1849 - mean_squared_error: 0.4942 - val_loss: 0.1484 - val_mean_absolute_error: 0.2071 - val_mean_squared_error: 0.1484\n",
      "Epoch 146/200\n",
      "31087/31087 [==============================] - 186s 6ms/step - loss: 0.4934 - mean_absolute_error: 0.1844 - mean_squared_error: 0.4934 - val_loss: 0.1486 - val_mean_absolute_error: 0.2062 - val_mean_squared_error: 0.1486\n",
      "Epoch 147/200\n",
      "31087/31087 [==============================] - 186s 6ms/step - loss: 0.4924 - mean_absolute_error: 0.1846 - mean_squared_error: 0.4924 - val_loss: 0.1482 - val_mean_absolute_error: 0.2074 - val_mean_squared_error: 0.1482\n",
      "Epoch 148/200\n",
      "31087/31087 [==============================] - 186s 6ms/step - loss: 0.4933 - mean_absolute_error: 0.1838 - mean_squared_error: 0.4933 - val_loss: 0.1480 - val_mean_absolute_error: 0.2068 - val_mean_squared_error: 0.1480\n",
      "Epoch 149/200\n",
      "31087/31087 [==============================] - 186s 6ms/step - loss: 0.4928 - mean_absolute_error: 0.1852 - mean_squared_error: 0.4928 - val_loss: 0.1484 - val_mean_absolute_error: 0.2072 - val_mean_squared_error: 0.1484\n",
      "Epoch 150/200\n",
      "31087/31087 [==============================] - 187s 6ms/step - loss: 0.4905 - mean_absolute_error: 0.1835 - mean_squared_error: 0.4905 - val_loss: 0.1480 - val_mean_absolute_error: 0.2063 - val_mean_squared_error: 0.1480\n",
      "Epoch 151/200\n",
      "31087/31087 [==============================] - 186s 6ms/step - loss: 0.4922 - mean_absolute_error: 0.1846 - mean_squared_error: 0.4922 - val_loss: 0.1485 - val_mean_absolute_error: 0.2057 - val_mean_squared_error: 0.1485\n",
      "Epoch 152/200\n",
      "31087/31087 [==============================] - 186s 6ms/step - loss: 0.4918 - mean_absolute_error: 0.1841 - mean_squared_error: 0.4918 - val_loss: 0.1482 - val_mean_absolute_error: 0.2062 - val_mean_squared_error: 0.1482\n",
      "Epoch 153/200\n",
      "31087/31087 [==============================] - 186s 6ms/step - loss: 0.4897 - mean_absolute_error: 0.1839 - mean_squared_error: 0.4897 - val_loss: 0.1481 - val_mean_absolute_error: 0.2063 - val_mean_squared_error: 0.1481\n",
      "Epoch 154/200\n",
      "31087/31087 [==============================] - 186s 6ms/step - loss: 0.4892 - mean_absolute_error: 0.1838 - mean_squared_error: 0.4892 - val_loss: 0.1483 - val_mean_absolute_error: 0.2054 - val_mean_squared_error: 0.1483\n",
      "Epoch 155/200\n",
      "31087/31087 [==============================] - 186s 6ms/step - loss: 0.4916 - mean_absolute_error: 0.1844 - mean_squared_error: 0.4916 - val_loss: 0.1511 - val_mean_absolute_error: 0.2032 - val_mean_squared_error: 0.1511\n",
      "Epoch 156/200\n",
      "31087/31087 [==============================] - 186s 6ms/step - loss: 0.4892 - mean_absolute_error: 0.1839 - mean_squared_error: 0.4892 - val_loss: 0.1508 - val_mean_absolute_error: 0.2028 - val_mean_squared_error: 0.1508\n",
      "Epoch 157/200\n",
      "31087/31087 [==============================] - 186s 6ms/step - loss: 0.4886 - mean_absolute_error: 0.1838 - mean_squared_error: 0.4886 - val_loss: 0.1508 - val_mean_absolute_error: 0.2029 - val_mean_squared_error: 0.1508\n",
      "Epoch 158/200\n",
      "31087/31087 [==============================] - 187s 6ms/step - loss: 0.4858 - mean_absolute_error: 0.1833 - mean_squared_error: 0.4858 - val_loss: 0.1510 - val_mean_absolute_error: 0.2030 - val_mean_squared_error: 0.1510\n",
      "Epoch 159/200\n",
      "31087/31087 [==============================] - 186s 6ms/step - loss: 0.4870 - mean_absolute_error: 0.1832 - mean_squared_error: 0.4870 - val_loss: 0.1509 - val_mean_absolute_error: 0.2031 - val_mean_squared_error: 0.1509\n",
      "Epoch 160/200\n",
      "31087/31087 [==============================] - 186s 6ms/step - loss: 0.4875 - mean_absolute_error: 0.1831 - mean_squared_error: 0.4875 - val_loss: 0.1507 - val_mean_absolute_error: 0.2030 - val_mean_squared_error: 0.1507\n",
      "Epoch 161/200\n",
      "31087/31087 [==============================] - 187s 6ms/step - loss: 0.4858 - mean_absolute_error: 0.1828 - mean_squared_error: 0.4858 - val_loss: 0.1508 - val_mean_absolute_error: 0.2030 - val_mean_squared_error: 0.1508\n",
      "Epoch 162/200\n",
      "31087/31087 [==============================] - 187s 6ms/step - loss: 0.4857 - mean_absolute_error: 0.1825 - mean_squared_error: 0.4857 - val_loss: 0.1504 - val_mean_absolute_error: 0.2029 - val_mean_squared_error: 0.1504\n",
      "Epoch 163/200\n",
      "31087/31087 [==============================] - 186s 6ms/step - loss: 0.4860 - mean_absolute_error: 0.1825 - mean_squared_error: 0.4860 - val_loss: 0.1501 - val_mean_absolute_error: 0.2027 - val_mean_squared_error: 0.1501\n",
      "Epoch 164/200\n",
      "31087/31087 [==============================] - 187s 6ms/step - loss: 0.4865 - mean_absolute_error: 0.1823 - mean_squared_error: 0.4865 - val_loss: 0.1501 - val_mean_absolute_error: 0.2027 - val_mean_squared_error: 0.1501\n",
      "Epoch 165/200\n",
      "31087/31087 [==============================] - 186s 6ms/step - loss: 0.4857 - mean_absolute_error: 0.1823 - mean_squared_error: 0.4857 - val_loss: 0.1489 - val_mean_absolute_error: 0.2022 - val_mean_squared_error: 0.1489\n",
      "Epoch 166/200\n",
      "31087/31087 [==============================] - 187s 6ms/step - loss: 0.4853 - mean_absolute_error: 0.1826 - mean_squared_error: 0.4853 - val_loss: 0.1488 - val_mean_absolute_error: 0.2019 - val_mean_squared_error: 0.1488\n",
      "Epoch 167/200\n",
      "31087/31087 [==============================] - 186s 6ms/step - loss: 0.4841 - mean_absolute_error: 0.1828 - mean_squared_error: 0.4841 - val_loss: 0.1487 - val_mean_absolute_error: 0.2018 - val_mean_squared_error: 0.1487\n",
      "Epoch 168/200\n",
      "31087/31087 [==============================] - 187s 6ms/step - loss: 0.4843 - mean_absolute_error: 0.1826 - mean_squared_error: 0.4843 - val_loss: 0.1486 - val_mean_absolute_error: 0.2018 - val_mean_squared_error: 0.1486\n",
      "Epoch 169/200\n",
      "31087/31087 [==============================] - 187s 6ms/step - loss: 0.4877 - mean_absolute_error: 0.1827 - mean_squared_error: 0.4877 - val_loss: 0.1486 - val_mean_absolute_error: 0.2017 - val_mean_squared_error: 0.1486\n",
      "Epoch 170/200\n",
      "31087/31087 [==============================] - 187s 6ms/step - loss: 0.4848 - mean_absolute_error: 0.1825 - mean_squared_error: 0.4848 - val_loss: 0.1486 - val_mean_absolute_error: 0.2017 - val_mean_squared_error: 0.1486\n",
      "Epoch 171/200\n",
      "31087/31087 [==============================] - 186s 6ms/step - loss: 0.4844 - mean_absolute_error: 0.1823 - mean_squared_error: 0.4844 - val_loss: 0.1485 - val_mean_absolute_error: 0.2017 - val_mean_squared_error: 0.1485\n",
      "Epoch 172/200\n",
      "31087/31087 [==============================] - 186s 6ms/step - loss: 0.4851 - mean_absolute_error: 0.1825 - mean_squared_error: 0.4851 - val_loss: 0.1485 - val_mean_absolute_error: 0.2017 - val_mean_squared_error: 0.1485\n",
      "Epoch 173/200\n",
      "31087/31087 [==============================] - 186s 6ms/step - loss: 0.4858 - mean_absolute_error: 0.1826 - mean_squared_error: 0.4858 - val_loss: 0.1485 - val_mean_absolute_error: 0.2016 - val_mean_squared_error: 0.1485\n",
      "Epoch 174/200\n",
      "31087/31087 [==============================] - 186s 6ms/step - loss: 0.4859 - mean_absolute_error: 0.1825 - mean_squared_error: 0.4859 - val_loss: 0.1484 - val_mean_absolute_error: 0.2016 - val_mean_squared_error: 0.1484\n"
     ]
    },
    {
     "name": "stdout",
     "output_type": "stream",
     "text": [
      "Epoch 175/200\n",
      "31087/31087 [==============================] - 186s 6ms/step - loss: 0.4835 - mean_absolute_error: 0.1815 - mean_squared_error: 0.4835 - val_loss: 0.1481 - val_mean_absolute_error: 0.2019 - val_mean_squared_error: 0.1481\n",
      "Epoch 176/200\n",
      "31087/31087 [==============================] - 186s 6ms/step - loss: 0.4846 - mean_absolute_error: 0.1818 - mean_squared_error: 0.4846 - val_loss: 0.1480 - val_mean_absolute_error: 0.2020 - val_mean_squared_error: 0.1480\n",
      "Epoch 177/200\n",
      "31087/31087 [==============================] - 186s 6ms/step - loss: 0.4860 - mean_absolute_error: 0.1820 - mean_squared_error: 0.4860 - val_loss: 0.1479 - val_mean_absolute_error: 0.2021 - val_mean_squared_error: 0.1479\n",
      "Epoch 178/200\n",
      "31087/31087 [==============================] - 186s 6ms/step - loss: 0.4850 - mean_absolute_error: 0.1821 - mean_squared_error: 0.4850 - val_loss: 0.1479 - val_mean_absolute_error: 0.2021 - val_mean_squared_error: 0.1479\n",
      "Epoch 179/200\n",
      "31087/31087 [==============================] - 185s 6ms/step - loss: 0.4837 - mean_absolute_error: 0.1821 - mean_squared_error: 0.4837 - val_loss: 0.1479 - val_mean_absolute_error: 0.2021 - val_mean_squared_error: 0.1479\n",
      "Epoch 180/200\n",
      "31087/31087 [==============================] - 186s 6ms/step - loss: 0.4855 - mean_absolute_error: 0.1821 - mean_squared_error: 0.4855 - val_loss: 0.1479 - val_mean_absolute_error: 0.2021 - val_mean_squared_error: 0.1479\n",
      "Epoch 181/200\n",
      "31087/31087 [==============================] - 187s 6ms/step - loss: 0.4857 - mean_absolute_error: 0.1822 - mean_squared_error: 0.4857 - val_loss: 0.1479 - val_mean_absolute_error: 0.2021 - val_mean_squared_error: 0.1479\n",
      "Epoch 182/200\n",
      "31087/31087 [==============================] - 186s 6ms/step - loss: 0.4852 - mean_absolute_error: 0.1821 - mean_squared_error: 0.4852 - val_loss: 0.1479 - val_mean_absolute_error: 0.2021 - val_mean_squared_error: 0.1479\n",
      "Epoch 183/200\n",
      "31087/31087 [==============================] - 186s 6ms/step - loss: 0.4852 - mean_absolute_error: 0.1819 - mean_squared_error: 0.4852 - val_loss: 0.1479 - val_mean_absolute_error: 0.2021 - val_mean_squared_error: 0.1479\n",
      "Epoch 184/200\n",
      "31087/31087 [==============================] - 186s 6ms/step - loss: 0.4847 - mean_absolute_error: 0.1821 - mean_squared_error: 0.4847 - val_loss: 0.1479 - val_mean_absolute_error: 0.2021 - val_mean_squared_error: 0.1479\n",
      "Epoch 185/200\n",
      "31087/31087 [==============================] - 187s 6ms/step - loss: 0.4844 - mean_absolute_error: 0.1819 - mean_squared_error: 0.4844 - val_loss: 0.1478 - val_mean_absolute_error: 0.2021 - val_mean_squared_error: 0.1478\n",
      "Epoch 186/200\n",
      "31087/31087 [==============================] - 187s 6ms/step - loss: 0.4849 - mean_absolute_error: 0.1821 - mean_squared_error: 0.4849 - val_loss: 0.1478 - val_mean_absolute_error: 0.2021 - val_mean_squared_error: 0.1478\n",
      "Epoch 187/200\n",
      "31087/31087 [==============================] - 186s 6ms/step - loss: 0.4854 - mean_absolute_error: 0.1821 - mean_squared_error: 0.4854 - val_loss: 0.1478 - val_mean_absolute_error: 0.2021 - val_mean_squared_error: 0.1478\n",
      "Epoch 188/200\n",
      "31087/31087 [==============================] - 186s 6ms/step - loss: 0.4841 - mean_absolute_error: 0.1817 - mean_squared_error: 0.4841 - val_loss: 0.1478 - val_mean_absolute_error: 0.2021 - val_mean_squared_error: 0.1478\n",
      "Epoch 189/200\n",
      "31087/31087 [==============================] - 187s 6ms/step - loss: 0.4843 - mean_absolute_error: 0.1819 - mean_squared_error: 0.4843 - val_loss: 0.1478 - val_mean_absolute_error: 0.2022 - val_mean_squared_error: 0.1478\n",
      "Epoch 190/200\n",
      "31087/31087 [==============================] - 187s 6ms/step - loss: 0.4843 - mean_absolute_error: 0.1819 - mean_squared_error: 0.4843 - val_loss: 0.1478 - val_mean_absolute_error: 0.2022 - val_mean_squared_error: 0.1478\n",
      "Epoch 191/200\n",
      "31087/31087 [==============================] - 187s 6ms/step - loss: 0.4844 - mean_absolute_error: 0.1819 - mean_squared_error: 0.4844 - val_loss: 0.1478 - val_mean_absolute_error: 0.2022 - val_mean_squared_error: 0.1478\n",
      "Epoch 192/200\n",
      "31087/31087 [==============================] - 187s 6ms/step - loss: 0.4849 - mean_absolute_error: 0.1819 - mean_squared_error: 0.4849 - val_loss: 0.1478 - val_mean_absolute_error: 0.2022 - val_mean_squared_error: 0.1478\n",
      "Epoch 193/200\n",
      "31087/31087 [==============================] - 187s 6ms/step - loss: 0.4845 - mean_absolute_error: 0.1818 - mean_squared_error: 0.4845 - val_loss: 0.1478 - val_mean_absolute_error: 0.2023 - val_mean_squared_error: 0.1478\n",
      "Epoch 194/200\n",
      "31087/31087 [==============================] - 186s 6ms/step - loss: 0.4857 - mean_absolute_error: 0.1819 - mean_squared_error: 0.4857 - val_loss: 0.1478 - val_mean_absolute_error: 0.2023 - val_mean_squared_error: 0.1478\n",
      "Epoch 195/200\n",
      "31087/31087 [==============================] - 187s 6ms/step - loss: 0.4857 - mean_absolute_error: 0.1820 - mean_squared_error: 0.4857 - val_loss: 0.1478 - val_mean_absolute_error: 0.2023 - val_mean_squared_error: 0.1478\n",
      "Epoch 196/200\n",
      "31087/31087 [==============================] - 186s 6ms/step - loss: 0.4860 - mean_absolute_error: 0.1820 - mean_squared_error: 0.4860 - val_loss: 0.1478 - val_mean_absolute_error: 0.2023 - val_mean_squared_error: 0.1478\n",
      "Epoch 197/200\n",
      "31087/31087 [==============================] - 190s 6ms/step - loss: 0.4859 - mean_absolute_error: 0.1819 - mean_squared_error: 0.4859 - val_loss: 0.1478 - val_mean_absolute_error: 0.2023 - val_mean_squared_error: 0.1478\n",
      "Epoch 198/200\n",
      "31087/31087 [==============================] - 187s 6ms/step - loss: 0.4850 - mean_absolute_error: 0.1822 - mean_squared_error: 0.4850 - val_loss: 0.1478 - val_mean_absolute_error: 0.2023 - val_mean_squared_error: 0.1478\n",
      "Epoch 199/200\n",
      "31087/31087 [==============================] - 186s 6ms/step - loss: 0.4840 - mean_absolute_error: 0.1818 - mean_squared_error: 0.4840 - val_loss: 0.1477 - val_mean_absolute_error: 0.2023 - val_mean_squared_error: 0.1477\n",
      "Epoch 200/200\n",
      "31087/31087 [==============================] - 187s 6ms/step - loss: 0.4852 - mean_absolute_error: 0.1818 - mean_squared_error: 0.4852 - val_loss: 0.1477 - val_mean_absolute_error: 0.2023 - val_mean_squared_error: 0.1477\n"
     ]
    }
   ],
   "source": [
    "EPOCHS = 500\n",
    "history = model.fit(\n",
    "  X2_train, Y_train,\n",
    "  epochs=EPOCHS, validation_data = (X2_val, Y_val), shuffle=False,batch_size=32, verbose=1,callbacks=[reduce_lr])"
   ]
  },
  {
   "cell_type": "code",
   "execution_count": 73,
   "id": "0f4f2781",
   "metadata": {},
   "outputs": [
    {
     "data": {
      "text/plain": [
       "datetime.datetime(2021, 11, 26, 7, 47, 58, 717568)"
      ]
     },
     "execution_count": 73,
     "metadata": {},
     "output_type": "execute_result"
    }
   ],
   "source": [
    "import datetime\n",
    "b=datetime.datetime.now()\n",
    "b"
   ]
  },
  {
   "cell_type": "code",
   "execution_count": 74,
   "id": "4142ec40",
   "metadata": {},
   "outputs": [
    {
     "data": {
      "image/png": "[encoded data removed]",
      "text/plain": [
       "<Figure size 432x288 with 1 Axes>"
      ]
     },
     "metadata": {
      "needs_background": "light"
     },
     "output_type": "display_data"
    }
   ],
   "source": [
    "import matplotlib.pyplot as plt\n",
    "plt.plot(history.history['loss'])\n",
    "plt.plot(history.history['val_loss'])\n",
    "plt.title('model loss')\n",
    "plt.ylabel('loss')\n",
    "plt.xlabel('epoch')\n",
    "plt.legend(['train', 'validation'], loc='upper right')\n",
    "plt.show()"
   ]
  },
  {
   "cell_type": "code",
   "execution_count": 76,
   "id": "64f23f9f",
   "metadata": {},
   "outputs": [
    {
     "data": {
      "text/plain": [
       "(3455, 48)"
      ]
     },
     "execution_count": 76,
     "metadata": {},
     "output_type": "execute_result"
    }
   ],
   "source": [
    "test_predictions = model.predict(X2_val)\n",
    "op_list= []\n",
    "for i in range (0, len(test_predictions)):\n",
    "  op_list.append((test_predictions[i][0]))\n",
    "len(op_list)\n",
    "test_predictions.shape"
   ]
  },
  {
   "cell_type": "code",
   "execution_count": 77,
   "id": "50818f41",
   "metadata": {},
   "outputs": [
    {
     "data": {
      "text/plain": [
       "0      -0.23889\n",
       "1      -0.25451\n",
       "2      -0.21590\n",
       "3      -0.15560\n",
       "4       0.01705\n",
       "         ...   \n",
       "3450   -0.05279\n",
       "3451   -0.03978\n",
       "3452   -0.06060\n",
       "3453   -0.12524\n",
       "3454   -0.11700\n",
       "Name: actual, Length: 3455, dtype: float64"
      ]
     },
     "execution_count": 77,
     "metadata": {},
     "output_type": "execute_result"
    }
   ],
   "source": [
    "test_labels = pd.DataFrame({'actual':(Y_val[:,0])})\n",
    "#test_labels.rename(columns = {(Y_test.shape[1]):'actual'}, inplace = True)\n",
    "#test_labels['actual']\n",
    "test_labels['actual']"
   ]
  },
  {
   "cell_type": "code",
   "execution_count": 78,
   "id": "1cbfbd2f",
   "metadata": {},
   "outputs": [
    {
     "data": {
      "text/plain": [
       "(3455, 1)"
      ]
     },
     "execution_count": 78,
     "metadata": {},
     "output_type": "execute_result"
    }
   ],
   "source": [
    "np.reshape(test_labels, (-1,1))\n",
    "test_labels.shape"
   ]
  },
  {
   "cell_type": "code",
   "execution_count": 79,
   "id": "a1dcfcd7",
   "metadata": {},
   "outputs": [
    {
     "data": {
      "text/plain": [
       "0       18.430076\n",
       "1       18.070001\n",
       "2       18.960045\n",
       "3       20.350089\n",
       "4       24.330044\n",
       "          ...    \n",
       "3450    22.720081\n",
       "3451    23.019990\n",
       "3452    22.540044\n",
       "3453    21.049953\n",
       "3454    21.239903\n",
       "Name: actual, Length: 3455, dtype: float64"
      ]
     },
     "execution_count": 79,
     "metadata": {},
     "output_type": "execute_result"
    }
   ],
   "source": [
    "test_labels['actual']=ct.named_transformers_['y'].inverse_transform(test_labels)\n",
    "test_labels['actual']"
   ]
  },
  {
   "cell_type": "code",
   "execution_count": 80,
   "id": "3565c7e1",
   "metadata": {},
   "outputs": [],
   "source": [
    "predictions=pd.DataFrame({'predict':op_list})\n",
    "predictions['predict'] = ct.named_transformers_['y'].inverse_transform(predictions)"
   ]
  },
  {
   "cell_type": "code",
   "execution_count": 81,
   "id": "9f87801b",
   "metadata": {},
   "outputs": [
    {
     "data": {
      "text/plain": [
       "0       19.661892\n",
       "1       20.797310\n",
       "2       21.711769\n",
       "3       23.283152\n",
       "4       25.264515\n",
       "          ...    \n",
       "3450    18.817223\n",
       "3451    19.489849\n",
       "3452    18.924669\n",
       "3453    18.592396\n",
       "3454    18.791698\n",
       "Name: predict, Length: 3455, dtype: float32"
      ]
     },
     "execution_count": 81,
     "metadata": {},
     "output_type": "execute_result"
    }
   ],
   "source": [
    "predictions['predict']"
   ]
  },
  {
   "cell_type": "code",
   "execution_count": 82,
   "id": "ced95b65",
   "metadata": {},
   "outputs": [
    {
     "data": {
      "text/plain": [
       "0       18.430076\n",
       "1       18.070001\n",
       "2       18.960045\n",
       "3       20.350089\n",
       "4       24.330044\n",
       "          ...    \n",
       "3450    22.720081\n",
       "3451    23.019990\n",
       "3452    22.540044\n",
       "3453    21.049953\n",
       "3454    21.239903\n",
       "Name: actual, Length: 3455, dtype: float64"
      ]
     },
     "execution_count": 82,
     "metadata": {},
     "output_type": "execute_result"
    }
   ],
   "source": [
    "test_labels['actual']"
   ]
  },
  {
   "cell_type": "code",
   "execution_count": 83,
   "id": "0b4cf71e",
   "metadata": {},
   "outputs": [
    {
     "data": {
      "image/png": "[encoded data removed]",
      "text/plain": [
       "<Figure size 1800x1080 with 1 Axes>"
      ]
     },
     "metadata": {
      "needs_background": "light"
     },
     "output_type": "display_data"
    }
   ],
   "source": [
    "import matplotlib.pyplot as plt\n",
    "plt.figure(figsize=(25,15))\n",
    "a = plt.axes(aspect='equal')\n",
    "plt.scatter(test_labels['actual'], predictions)\n",
    "plt.xlabel('True Value')\n",
    "plt.ylabel('Predictions')\n",
    "lims = [0, 200]\n",
    "plt.xlim(lims)\n",
    "plt.ylim(lims)\n",
    "_ = plt.plot(lims, lims)"
   ]
  },
  {
   "cell_type": "code",
   "execution_count": 84,
   "id": "4a92318d",
   "metadata": {},
   "outputs": [
    {
     "data": {
      "image/png": "[encoded data removed]",
      "text/plain": [
       "<Figure size 1800x1080 with 1 Axes>"
      ]
     },
     "metadata": {
      "needs_background": "light"
     },
     "output_type": "display_data"
    }
   ],
   "source": [
    "error = round(predictions['predict'],2) - round(test_labels['actual'],2)\n",
    "plt.figure(figsize=(25,15))\n",
    "plt.hist(error, bins = 50)\n",
    "plt.xlabel(\"Prediction Error\")\n",
    "_ = plt.ylabel(\"Count\")\n"
   ]
  },
  {
   "cell_type": "code",
   "execution_count": 85,
   "id": "458e6df9",
   "metadata": {},
   "outputs": [
    {
     "name": "stdout",
     "output_type": "stream",
     "text": [
      "     predict\n",
      "0  19.661892\n",
      "1  20.797310\n",
      "2  21.711769\n",
      "3  23.283152\n",
      "4  25.264515\n",
      "5  26.536802\n",
      "6  28.977156\n",
      "7  30.450781\n",
      "8  31.733475\n",
      "9  31.546661 0    18.430076\n",
      "1    18.070001\n",
      "2    18.960045\n",
      "3    20.350089\n",
      "4    24.330044\n",
      "5    26.380072\n",
      "6    27.940011\n",
      "7    29.330056\n",
      "8    30.919963\n",
      "9    29.889992\n",
      "Name: actual, dtype: float64 0    1.230000\n",
      "1    2.729999\n",
      "2    2.749999\n",
      "3    2.930001\n",
      "4    0.930000\n",
      "5    0.160001\n",
      "6    1.040000\n",
      "7    1.120001\n",
      "8    0.810000\n",
      "9    1.659999\n",
      "dtype: float64\n"
     ]
    }
   ],
   "source": [
    "final_price=pd.DataFrame({'a':op_list})\n",
    "error_b = test_labels['actual'] - predictions['predict']\n",
    "print(error_b)\n",
    "\n",
    "for i in range(1,len(predictions)):\n",
    "    if((error_b[i-1])<=-6):\n",
    "        final_price.a[i] =  (predictions.predict[i] - error_b[i-1])\n",
    "    elif((error_b[i-1])>=6 ):\n",
    "        final_price.a[i] =  (predictions.predict[i] + error_b[i-1]) \n",
    "    else:\n",
    "         final_price.a[i] = predictions.predict[i]   "
   ]
  },
  {
   "cell_type": "code",
   "execution_count": 92,
   "id": "05cc28f4",
   "metadata": {},
   "outputs": [
    {
     "name": "stdout",
     "output_type": "stream",
     "text": [
      "accuracy: with threshold of 1  is 31.14\n",
      "accuracy: with threshold of 2  is 57.08\n",
      "accuracy: with threshold of 3  is 72.07\n",
      "accuracy: with threshold of 4  is 80.96\n",
      "accuracy: with threshold of 5  is 85.90\n",
      "accuracy: with threshold of 6  is 89.26\n",
      "accuracy: with threshold of 7  is 92.07\n",
      "accuracy: with threshold of 8  is 93.46\n",
      "accuracy: with threshold of 9  is 95.05\n",
      "accuracy: with threshold of 10  is 95.89\n"
     ]
    }
   ],
   "source": [
    "error_fina = round(test_labels['actual'],2) - round(final_price['a'],2)\n",
    "for k in range(1,11):\n",
    "    i=0\n",
    "    count1=0\n",
    "    for i in range(len(error_fina)):\n",
    "        if ((error[i])>k) or ((error[i]<-k)):\n",
    "            count1=count1+1\n",
    "    a = len(final_price) - count1\n",
    "    accuracy2 = (a/len(final_price))*100\n",
    "    print(\"accuracy: with threshold of %i\"%k,\" is %.2f\"%accuracy)"
   ]
  },
  {
   "cell_type": "code",
   "execution_count": null,
   "id": "6ab5fe65",
   "metadata": {},
   "outputs": [],
   "source": []
  }
 ],
 "metadata": {
  "kernelspec": {
   "display_name": "Python 3 (ipykernel)",
   "language": "python",
   "name": "python3"
  },
  "language_info": {
   "codemirror_mode": {
    "name": "ipython",
    "version": 3
   },
   "file_extension": ".py",
   "mimetype": "text/x-python",
   "name": "python",
   "nbconvert_exporter": "python",
   "pygments_lexer": "ipython3",
   "version": "3.7.11"
  }
 },
 "nbformat": 4,
 "nbformat_minor": 5
}
