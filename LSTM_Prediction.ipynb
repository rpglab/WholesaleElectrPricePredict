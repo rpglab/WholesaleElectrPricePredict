{
 "cells": [
  {
   "cell_type": "code",
   "execution_count": 1,
   "metadata": {},
   "outputs": [
    {
     "data": {
      "text/plain": [
       "datetime.datetime(2021, 2, 26, 16, 18, 5, 490630)"
      ]
     },
     "execution_count": 1,
     "metadata": {},
     "output_type": "execute_result"
    }
   ],
   "source": [
    "import datetime\n",
    "start = datetime.datetime.now()\n",
    "start"
   ]
  },
  {
   "cell_type": "code",
   "execution_count": 2,
   "metadata": {},
   "outputs": [
    {
     "name": "stderr",
     "output_type": "stream",
     "text": [
      "Using TensorFlow backend.\n"
     ]
    }
   ],
   "source": [
    "from keras.models import Sequential\n",
    "from keras.layers import Dense\n",
    "from keras.layers.convolutional import Conv1D\n",
    "from keras.layers import MaxPooling1D\n",
    "from keras.layers import Flatten\n",
    "from keras import optimizers\n",
    "from keras.layers import Dense\n",
    "from keras.layers import Dropout\n",
    "from keras.layers.recurrent import LSTM\n",
    "from keras.layers import TimeDistributed\n",
    "from keras.layers.normalization import BatchNormalization\n"
   ]
  },
  {
   "cell_type": "code",
   "execution_count": 3,
   "metadata": {},
   "outputs": [
    {
     "name": "stdout",
     "output_type": "stream",
     "text": [
      "C:\\Users\\vsridha4\\Desktop\\RA\\New_Algorithm\n"
     ]
    }
   ],
   "source": [
    "import os\n",
    "cwd = os.getcwd()\n",
    "print(cwd)"
   ]
  },
  {
   "cell_type": "code",
   "execution_count": 4,
   "metadata": {},
   "outputs": [],
   "source": [
    "# -*- coding: utf-8 -*-\n",
    "import pandas as pd\n",
    "load = pd.read_csv(r'C:\\Users\\vsridha4\\Desktop\\RA\\NEW\\dataset_train_4_0to200.csv')"
   ]
  },
  {
   "cell_type": "code",
   "execution_count": 5,
   "metadata": {},
   "outputs": [
    {
     "data": {
      "text/plain": [
       "<bound method NDFrame.head of       Delivery Date  Delivery Hour Repeated Hour Flag Settlement Point Name  \\\n",
       "0          1/1/2015              1                  N            LZ_HOUSTON   \n",
       "1          1/1/2015              2                  N            LZ_HOUSTON   \n",
       "2          1/1/2015              3                  N            LZ_HOUSTON   \n",
       "3          1/1/2015              4                  N            LZ_HOUSTON   \n",
       "4          1/1/2015              5                  N            LZ_HOUSTON   \n",
       "...             ...            ...                ...                   ...   \n",
       "34633    12/31/2018             20                  N            LZ_HOUSTON   \n",
       "34634    12/31/2018             21                  N            LZ_HOUSTON   \n",
       "34635    12/31/2018             22                  N            LZ_HOUSTON   \n",
       "34636    12/31/2018             23                  N            LZ_HOUSTON   \n",
       "34637    12/31/2018             24                  N            LZ_HOUSTON   \n",
       "\n",
       "      Settlement Point Type       DayStatus  Temperature in F  \\\n",
       "0                        LZ  Public Holiday                44   \n",
       "1                        LZ  Public Holiday                44   \n",
       "2                        LZ  Public Holiday                44   \n",
       "3                        LZ  Public Holiday                44   \n",
       "4                        LZ  Public Holiday                44   \n",
       "...                     ...             ...               ...   \n",
       "34633                    LZ         Weekday                54   \n",
       "34634                    LZ         Weekday                55   \n",
       "34635                    LZ         Weekday                55   \n",
       "34636                    LZ         Weekday                55   \n",
       "34637                    LZ         Weekday                55   \n",
       "\n",
       "       Load in Houston  Settlement Point Price  \n",
       "0              9844.20                   22.47  \n",
       "1              9653.46                   22.31  \n",
       "2              9502.30                   22.20  \n",
       "3              9474.48                   22.13  \n",
       "4              9554.37                   22.16  \n",
       "...                ...                     ...  \n",
       "34633         10846.18                   21.45  \n",
       "34634         10574.06                   18.50  \n",
       "34635         10389.92                   16.04  \n",
       "34636         10179.72                   16.39  \n",
       "34637         10008.27                   15.38  \n",
       "\n",
       "[34638 rows x 9 columns]>"
      ]
     },
     "execution_count": 5,
     "metadata": {},
     "output_type": "execute_result"
    }
   ],
   "source": [
    "load.head"
   ]
  },
  {
   "cell_type": "code",
   "execution_count": 6,
   "metadata": {},
   "outputs": [
    {
     "data": {
      "text/plain": [
       "0        3\n",
       "1        3\n",
       "2        3\n",
       "3        3\n",
       "4        3\n",
       "        ..\n",
       "34633    0\n",
       "34634    0\n",
       "34635    0\n",
       "34636    0\n",
       "34637    0\n",
       "Name: dayofweek, Length: 34638, dtype: int64"
      ]
     },
     "execution_count": 6,
     "metadata": {},
     "output_type": "execute_result"
    }
   ],
   "source": [
    "load.dtypes\n",
    "\n",
    "import datetime\n",
    "load['year'] = pd.DatetimeIndex(load['Delivery Date']).year\n",
    "load['day'] = pd.DatetimeIndex(load['Delivery Date']).day# Extracting Day from \"Delivery Date\"\n",
    "load['month'] = pd.DatetimeIndex(load['Delivery Date']).month   # Extracting Month from \"Delivery Date\"\n",
    "\n",
    "\n",
    "a = load['Delivery Date']\n",
    "a= pd.to_datetime(a)\n",
    "\n",
    "load['dayofweek'] = a.dt.dayofweek\n",
    "load['dayofweek']\n"
   ]
  },
  {
   "cell_type": "code",
   "execution_count": 7,
   "metadata": {},
   "outputs": [
    {
     "data": {
      "text/html": [
       "<div>\n",
       "<style scoped>\n",
       "    .dataframe tbody tr th:only-of-type {\n",
       "        vertical-align: middle;\n",
       "    }\n",
       "\n",
       "    .dataframe tbody tr th {\n",
       "        vertical-align: top;\n",
       "    }\n",
       "\n",
       "    .dataframe thead th {\n",
       "        text-align: right;\n",
       "    }\n",
       "</style>\n",
       "<table border=\"1\" class=\"dataframe\">\n",
       "  <thead>\n",
       "    <tr style=\"text-align: right;\">\n",
       "      <th></th>\n",
       "      <th>dayofweek</th>\n",
       "      <th>month</th>\n",
       "      <th>Delivery Hour</th>\n",
       "      <th>Temperature in F</th>\n",
       "      <th>Load in Houston</th>\n",
       "      <th>Settlement Point Price</th>\n",
       "    </tr>\n",
       "    <tr>\n",
       "      <th>Delivery Date</th>\n",
       "      <th></th>\n",
       "      <th></th>\n",
       "      <th></th>\n",
       "      <th></th>\n",
       "      <th></th>\n",
       "      <th></th>\n",
       "    </tr>\n",
       "  </thead>\n",
       "  <tbody>\n",
       "    <tr>\n",
       "      <th>1/1/2015</th>\n",
       "      <td>3</td>\n",
       "      <td>1</td>\n",
       "      <td>1</td>\n",
       "      <td>44</td>\n",
       "      <td>9844.20</td>\n",
       "      <td>22.47</td>\n",
       "    </tr>\n",
       "    <tr>\n",
       "      <th>1/1/2015</th>\n",
       "      <td>3</td>\n",
       "      <td>1</td>\n",
       "      <td>2</td>\n",
       "      <td>44</td>\n",
       "      <td>9653.46</td>\n",
       "      <td>22.31</td>\n",
       "    </tr>\n",
       "    <tr>\n",
       "      <th>1/1/2015</th>\n",
       "      <td>3</td>\n",
       "      <td>1</td>\n",
       "      <td>3</td>\n",
       "      <td>44</td>\n",
       "      <td>9502.30</td>\n",
       "      <td>22.20</td>\n",
       "    </tr>\n",
       "    <tr>\n",
       "      <th>1/1/2015</th>\n",
       "      <td>3</td>\n",
       "      <td>1</td>\n",
       "      <td>4</td>\n",
       "      <td>44</td>\n",
       "      <td>9474.48</td>\n",
       "      <td>22.13</td>\n",
       "    </tr>\n",
       "    <tr>\n",
       "      <th>1/1/2015</th>\n",
       "      <td>3</td>\n",
       "      <td>1</td>\n",
       "      <td>5</td>\n",
       "      <td>44</td>\n",
       "      <td>9554.37</td>\n",
       "      <td>22.16</td>\n",
       "    </tr>\n",
       "  </tbody>\n",
       "</table>\n",
       "</div>"
      ],
      "text/plain": [
       "               dayofweek  month  Delivery Hour  Temperature in F  \\\n",
       "Delivery Date                                                      \n",
       "1/1/2015               3      1              1                44   \n",
       "1/1/2015               3      1              2                44   \n",
       "1/1/2015               3      1              3                44   \n",
       "1/1/2015               3      1              4                44   \n",
       "1/1/2015               3      1              5                44   \n",
       "\n",
       "               Load in Houston  Settlement Point Price  \n",
       "Delivery Date                                           \n",
       "1/1/2015               9844.20                   22.47  \n",
       "1/1/2015               9653.46                   22.31  \n",
       "1/1/2015               9502.30                   22.20  \n",
       "1/1/2015               9474.48                   22.13  \n",
       "1/1/2015               9554.37                   22.16  "
      ]
     },
     "execution_count": 7,
     "metadata": {},
     "output_type": "execute_result"
    }
   ],
   "source": [
    "load = load.set_index(['Delivery Date']) \n",
    "load = load.drop(columns=['year','day','Settlement Point Name','Settlement Point Type'], axis=1)  \n",
    "# Re-arranging Columns\n",
    "load = load[['dayofweek','month','Delivery Hour','Temperature in F','Load in Houston', 'Settlement Point Price']]\n",
    "load.head()"
   ]
  },
  {
   "cell_type": "code",
   "execution_count": 8,
   "metadata": {},
   "outputs": [],
   "source": [
    "# Replacing 'N' and 'Y' with '0' and '1' respectively in column \"Repeated Hour Flag\"\n",
    "#load = load.rename(columns={\"Repeated Hour Flag\": \"Flag\"})\n",
    "#flag = {'N': 0,'Y': 1}  # dictionary\n",
    "#load.Flag = [flag[item] for item in load.Flag]\n",
    "#load.head()\n"
   ]
  },
  {
   "cell_type": "code",
   "execution_count": 9,
   "metadata": {},
   "outputs": [],
   "source": [
    "# Replacing 'Weekday' and 'Weekend' with '0' and '1' respectively in column \"DayStatus\"\n",
    "#daystatus = {'Weekday': 0,'Weekend': 1, 'Public Holiday': 2}  # dictionary\n",
    "#load.DayStatus = [daystatus[item] for item in load.DayStatus]\n",
    "#load.head()\n"
   ]
  },
  {
   "cell_type": "code",
   "execution_count": 10,
   "metadata": {},
   "outputs": [
    {
     "data": {
      "text/html": [
       "<div>\n",
       "<style scoped>\n",
       "    .dataframe tbody tr th:only-of-type {\n",
       "        vertical-align: middle;\n",
       "    }\n",
       "\n",
       "    .dataframe tbody tr th {\n",
       "        vertical-align: top;\n",
       "    }\n",
       "\n",
       "    .dataframe thead th {\n",
       "        text-align: right;\n",
       "    }\n",
       "</style>\n",
       "<table border=\"1\" class=\"dataframe\">\n",
       "  <thead>\n",
       "    <tr style=\"text-align: right;\">\n",
       "      <th></th>\n",
       "      <th>dayofweek</th>\n",
       "      <th>month</th>\n",
       "      <th>Delivery Hour</th>\n",
       "      <th>Temperature in F</th>\n",
       "      <th>Load in Houston</th>\n",
       "      <th>Settlement Point Price</th>\n",
       "    </tr>\n",
       "    <tr>\n",
       "      <th>Delivery Date</th>\n",
       "      <th></th>\n",
       "      <th></th>\n",
       "      <th></th>\n",
       "      <th></th>\n",
       "      <th></th>\n",
       "      <th></th>\n",
       "    </tr>\n",
       "  </thead>\n",
       "  <tbody>\n",
       "    <tr>\n",
       "      <th>1/1/2015</th>\n",
       "      <td>3</td>\n",
       "      <td>1</td>\n",
       "      <td>1</td>\n",
       "      <td>44</td>\n",
       "      <td>9844.2</td>\n",
       "      <td>22.47</td>\n",
       "    </tr>\n",
       "    <tr>\n",
       "      <th>1/1/2015</th>\n",
       "      <td>3</td>\n",
       "      <td>1</td>\n",
       "      <td>2</td>\n",
       "      <td>44</td>\n",
       "      <td>9653.46</td>\n",
       "      <td>22.31</td>\n",
       "    </tr>\n",
       "    <tr>\n",
       "      <th>1/1/2015</th>\n",
       "      <td>3</td>\n",
       "      <td>1</td>\n",
       "      <td>3</td>\n",
       "      <td>44</td>\n",
       "      <td>9502.3</td>\n",
       "      <td>22.2</td>\n",
       "    </tr>\n",
       "    <tr>\n",
       "      <th>1/1/2015</th>\n",
       "      <td>3</td>\n",
       "      <td>1</td>\n",
       "      <td>4</td>\n",
       "      <td>44</td>\n",
       "      <td>9474.48</td>\n",
       "      <td>22.13</td>\n",
       "    </tr>\n",
       "    <tr>\n",
       "      <th>1/1/2015</th>\n",
       "      <td>3</td>\n",
       "      <td>1</td>\n",
       "      <td>5</td>\n",
       "      <td>44</td>\n",
       "      <td>9554.37</td>\n",
       "      <td>22.16</td>\n",
       "    </tr>\n",
       "  </tbody>\n",
       "</table>\n",
       "</div>"
      ],
      "text/plain": [
       "               dayofweek  month  Delivery Hour  Temperature in F  \\\n",
       "Delivery Date                                                      \n",
       "1/1/2015               3      1              1                44   \n",
       "1/1/2015               3      1              2                44   \n",
       "1/1/2015               3      1              3                44   \n",
       "1/1/2015               3      1              4                44   \n",
       "1/1/2015               3      1              5                44   \n",
       "\n",
       "              Load in Houston Settlement Point Price  \n",
       "Delivery Date                                         \n",
       "1/1/2015               9844.2                  22.47  \n",
       "1/1/2015              9653.46                  22.31  \n",
       "1/1/2015               9502.3                   22.2  \n",
       "1/1/2015              9474.48                  22.13  \n",
       "1/1/2015              9554.37                  22.16  "
      ]
     },
     "execution_count": 10,
     "metadata": {},
     "output_type": "execute_result"
    }
   ],
   "source": [
    "# Removing \",\" from columns \"Load in Houston\" , \"Ercot Load\" and \"Settlement Point Price\"\n",
    "load['Load in Houston'] = load['Load in Houston'].astype(str).str.replace(r',', '')\n",
    "#load['Ercot Load'] = load['Ercot Load'].astype(str).str.replace(r',', '')\n",
    "load['Settlement Point Price'] = load['Settlement Point Price'].astype(str).str.replace(r',', '')\n",
    "load.head()"
   ]
  },
  {
   "cell_type": "code",
   "execution_count": 11,
   "metadata": {},
   "outputs": [
    {
     "data": {
      "text/plain": [
       "dayofweek                   int64\n",
       "month                       int64\n",
       "Delivery Hour               int64\n",
       "Temperature in F          float64\n",
       "Load in Houston           float64\n",
       "Settlement Point Price    float64\n",
       "dtype: object"
      ]
     },
     "execution_count": 11,
     "metadata": {},
     "output_type": "execute_result"
    }
   ],
   "source": [
    "load['Settlement Point Price'] = load['Settlement Point Price'].astype(float)\n",
    "load['Temperature in F'] = load['Temperature in F'].astype(float)\n",
    "load['Load in Houston'] = load['Load in Houston'].astype(float)\n",
    "#load['Ercot Load'] = load['Ercot Load'].astype(float)\n",
    "load['Settlement Point Price'] = round(load['Settlement Point Price'],2)\n",
    "load.dtypes\n",
    "#dataset = load.values"
   ]
  },
  {
   "cell_type": "code",
   "execution_count": 12,
   "metadata": {},
   "outputs": [],
   "source": [
    "past_hours = 2\n",
    "n_steps = past_hours\n",
    "next_hours = 2\n",
    "next_steps = next_hours\n"
   ]
  },
  {
   "cell_type": "code",
   "execution_count": 13,
   "metadata": {},
   "outputs": [],
   "source": [
    "import numpy as np\n",
    "from sklearn.preprocessing import StandardScaler, OneHotEncoder, QuantileTransformer, PowerTransformer\n",
    "from sklearn.compose import make_column_transformer\n",
    "from sklearn.compose import make_column_selector\n",
    "from sklearn.compose import ColumnTransformer\n",
    "\n",
    "ct = ColumnTransformer([(\"1\",OneHotEncoder(sparse=False),make_column_selector(pattern = 'month')),\n",
    "                             (\"2\",OneHotEncoder(sparse=False),make_column_selector(pattern = 'dayofweek')),\n",
    "                             (\"3\",OneHotEncoder(sparse=False),make_column_selector(pattern = 'Delivery Hour')),\n",
    "                             #(\"4\",OneHotEncoder(sparse=False),make_column_selector(pattern = 'Delivery Interval')),\n",
    "                             #(\"6\",OneHotEncoder(sparse=False),make_column_selector(pattern = 'DayStatus')),\n",
    "                             (\"7\",StandardScaler(copy=True), make_column_selector(pattern = 'Temperature in F')),\n",
    "                             (\"8\",StandardScaler(copy=True), make_column_selector(pattern = 'Load in Houston')),\n",
    "                             #(\"9\",StandardScaler(copy=True), make_column_selector(pattern = 'Ercot Load')),\n",
    "                             #(\"10\",StandardScaler(copy=True),make_column_selector(pattern = 'Rise')),\n",
    "                             (\"y\",QuantileTransformer(copy=True), make_column_selector(pattern = 'Settlement Point Price'))])\n",
    "     "
   ]
  },
  {
   "cell_type": "code",
   "execution_count": 14,
   "metadata": {},
   "outputs": [],
   "source": [
    "import numpy\n",
    "dataset=load.values\n",
    "#numpy.around(dataset, decimals=2, out=None)\n"
   ]
  },
  {
   "cell_type": "code",
   "execution_count": 15,
   "metadata": {},
   "outputs": [
    {
     "name": "stdout",
     "output_type": "stream",
     "text": [
      "(34638, 46)\n"
     ]
    }
   ],
   "source": [
    "normed_data = ct.fit_transform(load)\n",
    "print(normed_data.shape)"
   ]
  },
  {
   "cell_type": "code",
   "execution_count": 16,
   "metadata": {},
   "outputs": [],
   "source": [
    "normed_data = pd.DataFrame(normed_data)\n",
    "dataset = normed_data.values"
   ]
  },
  {
   "cell_type": "code",
   "execution_count": 17,
   "metadata": {},
   "outputs": [
    {
     "data": {
      "text/plain": [
       "array([[ 1.     ,  0.     ,  0.     , ..., -1.74483, -0.75033,  0.63213],\n",
       "       [ 1.     ,  0.     ,  0.     , ..., -1.74483, -0.82378,  0.62513],\n",
       "       [ 1.     ,  0.     ,  0.     , ..., -1.74483, -0.88198,  0.62012],\n",
       "       ...,\n",
       "       [ 0.     ,  0.     ,  0.     , ..., -0.98578, -0.5402 ,  0.12346],\n",
       "       [ 0.     ,  0.     ,  0.     , ..., -0.98578, -0.62114,  0.13914],\n",
       "       [ 0.     ,  0.     ,  0.     , ..., -0.98578, -0.68715,  0.0996 ]])"
      ]
     },
     "execution_count": 17,
     "metadata": {},
     "output_type": "execute_result"
    }
   ],
   "source": [
    "dataset=numpy.around(dataset, decimals=5, out=None)\n",
    "dataset"
   ]
  },
  {
   "cell_type": "code",
   "execution_count": 18,
   "metadata": {},
   "outputs": [
    {
     "data": {
      "text/plain": [
       "(34638, 46)"
      ]
     },
     "execution_count": 18,
     "metadata": {},
     "output_type": "execute_result"
    }
   ],
   "source": [
    "dataset.shape"
   ]
  },
  {
   "cell_type": "code",
   "execution_count": 19,
   "metadata": {
    "scrolled": true
   },
   "outputs": [
    {
     "data": {
      "text/plain": [
       "array([[ 1.     ,  0.     ,  0.     ,  0.     ,  0.     ,  0.     ,\n",
       "         0.     ,  0.     ,  0.     ,  0.     ,  0.     ,  0.     ,\n",
       "         0.     ,  0.     ,  0.     ,  1.     ,  0.     ,  0.     ,\n",
       "         0.     ,  1.     ,  0.     ,  0.     ,  0.     ,  0.     ,\n",
       "         0.     ,  0.     ,  0.     ,  0.     ,  0.     ,  0.     ,\n",
       "         0.     ,  0.     ,  0.     ,  0.     ,  0.     ,  0.     ,\n",
       "         0.     ,  0.     ,  0.     ,  0.     ,  0.     ,  0.     ,\n",
       "         0.     , -1.74483, -0.75033,  0.63213],\n",
       "       [ 1.     ,  0.     ,  0.     ,  0.     ,  0.     ,  0.     ,\n",
       "         0.     ,  0.     ,  0.     ,  0.     ,  0.     ,  0.     ,\n",
       "         0.     ,  0.     ,  0.     ,  1.     ,  0.     ,  0.     ,\n",
       "         0.     ,  0.     ,  1.     ,  0.     ,  0.     ,  0.     ,\n",
       "         0.     ,  0.     ,  0.     ,  0.     ,  0.     ,  0.     ,\n",
       "         0.     ,  0.     ,  0.     ,  0.     ,  0.     ,  0.     ,\n",
       "         0.     ,  0.     ,  0.     ,  0.     ,  0.     ,  0.     ,\n",
       "         0.     , -1.74483, -0.82378,  0.62513],\n",
       "       [ 1.     ,  0.     ,  0.     ,  0.     ,  0.     ,  0.     ,\n",
       "         0.     ,  0.     ,  0.     ,  0.     ,  0.     ,  0.     ,\n",
       "         0.     ,  0.     ,  0.     ,  1.     ,  0.     ,  0.     ,\n",
       "         0.     ,  0.     ,  0.     ,  1.     ,  0.     ,  0.     ,\n",
       "         0.     ,  0.     ,  0.     ,  0.     ,  0.     ,  0.     ,\n",
       "         0.     ,  0.     ,  0.     ,  0.     ,  0.     ,  0.     ,\n",
       "         0.     ,  0.     ,  0.     ,  0.     ,  0.     ,  0.     ,\n",
       "         0.     , -1.74483, -0.88198,  0.62012],\n",
       "       [ 1.     ,  0.     ,  0.     ,  0.     ,  0.     ,  0.     ,\n",
       "         0.     ,  0.     ,  0.     ,  0.     ,  0.     ,  0.     ,\n",
       "         0.     ,  0.     ,  0.     ,  1.     ,  0.     ,  0.     ,\n",
       "         0.     ,  0.     ,  0.     ,  0.     ,  1.     ,  0.     ,\n",
       "         0.     ,  0.     ,  0.     ,  0.     ,  0.     ,  0.     ,\n",
       "         0.     ,  0.     ,  0.     ,  0.     ,  0.     ,  0.     ,\n",
       "         0.     ,  0.     ,  0.     ,  0.     ,  0.     ,  0.     ,\n",
       "         0.     , -1.74483, -0.89269,  0.61612]])"
      ]
     },
     "execution_count": 19,
     "metadata": {},
     "output_type": "execute_result"
    }
   ],
   "source": [
    "series_reshaped =  np.array([dataset[i:i + (n_steps+next_steps)].copy() for i in range(len(dataset) - (n_steps+next_steps))])\n",
    "series_reshaped[0]"
   ]
  },
  {
   "cell_type": "code",
   "execution_count": 20,
   "metadata": {},
   "outputs": [
    {
     "data": {
      "text/plain": [
       "(34634, 4, 46)"
      ]
     },
     "execution_count": 20,
     "metadata": {},
     "output_type": "execute_result"
    }
   ],
   "source": [
    "series_reshaped.shape"
   ]
  },
  {
   "cell_type": "code",
   "execution_count": 21,
   "metadata": {},
   "outputs": [],
   "source": [
    "a = series_reshaped.shape[0]\n",
    "b = int(0.9*a)\n",
    "c = int(a-b)\n",
    "d = int(c/2)"
   ]
  },
  {
   "cell_type": "code",
   "execution_count": 22,
   "metadata": {},
   "outputs": [
    {
     "name": "stdout",
     "output_type": "stream",
     "text": [
      "(31170, 2, 46) (3464, 2, 46)\n"
     ]
    }
   ],
   "source": [
    "X_train = series_reshaped[:b, :n_steps]\n",
    "X_val = series_reshaped[b:, :n_steps]\n",
    "\n",
    "print(X_train.shape, X_val.shape)"
   ]
  },
  {
   "cell_type": "code",
   "execution_count": 23,
   "metadata": {},
   "outputs": [
    {
     "data": {
      "text/plain": [
       "(34634, 2)"
      ]
     },
     "execution_count": 23,
     "metadata": {},
     "output_type": "execute_result"
    }
   ],
   "source": [
    "Y = np.empty((series_reshaped.shape[0], next_steps))\n",
    "Y.shape"
   ]
  },
  {
   "cell_type": "code",
   "execution_count": 24,
   "metadata": {},
   "outputs": [],
   "source": [
    "Y = np.empty((series_reshaped.shape[0], next_steps))\n",
    "for step_ahead in range(0, next_steps):\n",
    "    Y[..., step_ahead] = series_reshaped[..., (step_ahead+n_steps-next_steps+1), (X_train.shape[2]-1)]\n"
   ]
  },
  {
   "cell_type": "code",
   "execution_count": 25,
   "metadata": {},
   "outputs": [],
   "source": [
    "Y_train = Y[:b]\n",
    "Y_val = Y[b:]"
   ]
  },
  {
   "cell_type": "code",
   "execution_count": 26,
   "metadata": {},
   "outputs": [
    {
     "name": "stdout",
     "output_type": "stream",
     "text": [
      "(31170, 2) (3464, 2)\n"
     ]
    }
   ],
   "source": [
    "print(Y_train.shape, Y_val.shape)"
   ]
  },
  {
   "cell_type": "code",
   "execution_count": 27,
   "metadata": {},
   "outputs": [
    {
     "data": {
      "text/plain": [
       "array([[ 1.     ,  0.     ,  0.     ,  0.     ,  0.     ,  0.     ,\n",
       "         0.     ,  0.     ,  0.     ,  0.     ,  0.     ,  0.     ,\n",
       "         0.     ,  0.     ,  0.     ,  1.     ,  0.     ,  0.     ,\n",
       "         0.     ,  1.     ,  0.     ,  0.     ,  0.     ,  0.     ,\n",
       "         0.     ,  0.     ,  0.     ,  0.     ,  0.     ,  0.     ,\n",
       "         0.     ,  0.     ,  0.     ,  0.     ,  0.     ,  0.     ,\n",
       "         0.     ,  0.     ,  0.     ,  0.     ,  0.     ,  0.     ,\n",
       "         0.     , -1.74483, -0.75033,  0.63213],\n",
       "       [ 1.     ,  0.     ,  0.     ,  0.     ,  0.     ,  0.     ,\n",
       "         0.     ,  0.     ,  0.     ,  0.     ,  0.     ,  0.     ,\n",
       "         0.     ,  0.     ,  0.     ,  1.     ,  0.     ,  0.     ,\n",
       "         0.     ,  0.     ,  1.     ,  0.     ,  0.     ,  0.     ,\n",
       "         0.     ,  0.     ,  0.     ,  0.     ,  0.     ,  0.     ,\n",
       "         0.     ,  0.     ,  0.     ,  0.     ,  0.     ,  0.     ,\n",
       "         0.     ,  0.     ,  0.     ,  0.     ,  0.     ,  0.     ,\n",
       "         0.     , -1.74483, -0.82378,  0.62513]])"
      ]
     },
     "execution_count": 27,
     "metadata": {},
     "output_type": "execute_result"
    }
   ],
   "source": [
    "X_train[0]"
   ]
  },
  {
   "cell_type": "code",
   "execution_count": 28,
   "metadata": {},
   "outputs": [
    {
     "data": {
      "text/plain": [
       "array([0.62513, 0.62012])"
      ]
     },
     "execution_count": 28,
     "metadata": {},
     "output_type": "execute_result"
    }
   ],
   "source": [
    "Y_train[0]"
   ]
  },
  {
   "cell_type": "code",
   "execution_count": 29,
   "metadata": {},
   "outputs": [],
   "source": [
    "\n",
    "model = Sequential([\n",
    "    #Conv1D(filters=32, kernel_size=1,strides=1, padding=\"valid\", activation=\"relu\", input_shape=(X_train.shape[1],X_train.shape[2])),\n",
    "    #Conv1D(filters=64, kernel_size=1, strides=1, padding=\"causal\", activation=\"relu\"),\n",
    "    LSTM(128, return_sequences=True, input_shape=(X_train.shape[1],X_train.shape[2])),\n",
    "    LSTM(256, return_sequences=True),\n",
    "    Flatten(),\n",
    "    #Dense(256, activation = \"relu\"),\n",
    "    Dense(128, activation=\"relu\"),\n",
    "    #Flatten(),\n",
    "    Dense(64, activation=\"relu\"),\n",
    "    Dropout(0.1),\n",
    "    Dense(32, activation=\"relu\"),\n",
    "    Dropout(0.1),\n",
    "    Dense(next_steps)\n",
    "])"
   ]
  },
  {
   "cell_type": "code",
   "execution_count": 30,
   "metadata": {},
   "outputs": [],
   "source": [
    "from tensorflow import keras\n",
    "lr_schedule = keras.optimizers.schedules.ExponentialDecay(5e-4,\n",
    "                                                decay_steps=1000000,\n",
    "                                                decay_rate=0.98,\n",
    "                                                  staircase=False)\n"
   ]
  },
  {
   "cell_type": "code",
   "execution_count": 31,
   "metadata": {},
   "outputs": [],
   "source": [
    "from tensorflow import keras\n",
    "optimizer = keras.optimizers.Adam(learning_rate=lr_schedule, beta_1=1e-6)"
   ]
  },
  {
   "cell_type": "code",
   "execution_count": 32,
   "metadata": {},
   "outputs": [],
   "source": [
    "model.compile(loss='mse',\n",
    "                optimizer=optimizer,\n",
    "                metrics=['mae', 'mse'])"
   ]
  },
  {
   "cell_type": "code",
   "execution_count": 33,
   "metadata": {},
   "outputs": [
    {
     "name": "stdout",
     "output_type": "stream",
     "text": [
      "Model: \"sequential_1\"\n",
      "_________________________________________________________________\n",
      "Layer (type)                 Output Shape              Param #   \n",
      "=================================================================\n",
      "lstm_1 (LSTM)                (None, 2, 128)            89600     \n",
      "_________________________________________________________________\n",
      "lstm_2 (LSTM)                (None, 2, 256)            394240    \n",
      "_________________________________________________________________\n",
      "flatten_1 (Flatten)          (None, 512)               0         \n",
      "_________________________________________________________________\n",
      "dense_1 (Dense)              (None, 128)               65664     \n",
      "_________________________________________________________________\n",
      "dense_2 (Dense)              (None, 64)                8256      \n",
      "_________________________________________________________________\n",
      "dropout_1 (Dropout)          (None, 64)                0         \n",
      "_________________________________________________________________\n",
      "dense_3 (Dense)              (None, 32)                2080      \n",
      "_________________________________________________________________\n",
      "dropout_2 (Dropout)          (None, 32)                0         \n",
      "_________________________________________________________________\n",
      "dense_4 (Dense)              (None, 2)                 66        \n",
      "=================================================================\n",
      "Total params: 559,906\n",
      "Trainable params: 559,906\n",
      "Non-trainable params: 0\n",
      "_________________________________________________________________\n"
     ]
    }
   ],
   "source": [
    "model.summary()"
   ]
  },
  {
   "cell_type": "code",
   "execution_count": 34,
   "metadata": {},
   "outputs": [],
   "source": [
    "early_stop = keras.callbacks.EarlyStopping(monitor='val_loss', patience=10)"
   ]
  },
  {
   "cell_type": "code",
   "execution_count": 35,
   "metadata": {},
   "outputs": [
    {
     "data": {
      "text/plain": [
       "(10, 2, 46)"
      ]
     },
     "execution_count": 35,
     "metadata": {},
     "output_type": "execute_result"
    }
   ],
   "source": [
    "example_batch= X_val[0:10]\n",
    "example_batch.shape"
   ]
  },
  {
   "cell_type": "code",
   "execution_count": 36,
   "metadata": {},
   "outputs": [
    {
     "data": {
      "text/plain": [
       "(10, 2)"
      ]
     },
     "execution_count": 36,
     "metadata": {},
     "output_type": "execute_result"
    }
   ],
   "source": [
    "example_result = model.predict(example_batch)\n",
    "example_result.shape"
   ]
  },
  {
   "cell_type": "code",
   "execution_count": 37,
   "metadata": {},
   "outputs": [
    {
     "data": {
      "text/plain": [
       "array([[-0.00727869, -0.01967878],\n",
       "       [-0.00530302, -0.01423122],\n",
       "       [-0.00547508, -0.01496799],\n",
       "       [-0.00457935, -0.01528685],\n",
       "       [-0.00414878, -0.00992809],\n",
       "       [-0.00188682, -0.00930897],\n",
       "       [-0.00222706, -0.00835952],\n",
       "       [-0.00397843, -0.0053873 ],\n",
       "       [-0.00094401, -0.00154083],\n",
       "       [-0.00116074, -0.00529872]], dtype=float32)"
      ]
     },
     "execution_count": 37,
     "metadata": {},
     "output_type": "execute_result"
    }
   ],
   "source": [
    "example_result"
   ]
  },
  {
   "cell_type": "code",
   "execution_count": 38,
   "metadata": {},
   "outputs": [
    {
     "data": {
      "text/plain": [
       "10"
      ]
     },
     "execution_count": 38,
     "metadata": {},
     "output_type": "execute_result"
    }
   ],
   "source": [
    "len(example_result)"
   ]
  },
  {
   "cell_type": "code",
   "execution_count": 39,
   "metadata": {},
   "outputs": [
    {
     "data": {
      "text/plain": [
       "[-0.0072786896,\n",
       " -0.005303021,\n",
       " -0.005475083,\n",
       " -0.004579354,\n",
       " -0.00414878,\n",
       " -0.0018868224,\n",
       " -0.0022270586,\n",
       " -0.003978426,\n",
       " -0.00094401056,\n",
       " -0.00116074]"
      ]
     },
     "execution_count": 39,
     "metadata": {},
     "output_type": "execute_result"
    }
   ],
   "source": [
    "last_list=[]\n",
    "\n",
    "for i in range (0, len(example_result)):\n",
    "  last_list.append((example_result[i][0]))\n",
    "\n",
    "last_list"
   ]
  },
  {
   "cell_type": "code",
   "execution_count": 40,
   "metadata": {},
   "outputs": [
    {
     "data": {
      "text/plain": [
       "10"
      ]
     },
     "execution_count": 40,
     "metadata": {},
     "output_type": "execute_result"
    }
   ],
   "source": [
    "len(last_list)"
   ]
  },
  {
   "cell_type": "code",
   "execution_count": 41,
   "metadata": {},
   "outputs": [
    {
     "name": "stdout",
     "output_type": "stream",
     "text": [
      "2021-02-26 16:18:17.590216\n"
     ]
    }
   ],
   "source": [
    "import datetime\n",
    "print(datetime.datetime.now())"
   ]
  },
  {
   "cell_type": "code",
   "execution_count": 42,
   "metadata": {},
   "outputs": [
    {
     "name": "stdout",
     "output_type": "stream",
     "text": [
      "Train on 31170 samples, validate on 3464 samples\n",
      "Epoch 1/2000\n",
      "31170/31170 [==============================] - 9s 291us/step - loss: 0.0282 - mae: 0.1185 - mse: 0.0282 - val_loss: 0.0172 - val_mae: 0.1040 - val_mse: 0.0172\n",
      "Epoch 2/2000\n",
      "31170/31170 [==============================] - 9s 277us/step - loss: 0.0118 - mae: 0.0774 - mse: 0.0118 - val_loss: 0.0071 - val_mae: 0.0593 - val_mse: 0.0071\n",
      "Epoch 3/2000\n",
      "31170/31170 [==============================] - 9s 276us/step - loss: 0.0087 - mae: 0.0651 - mse: 0.0087 - val_loss: 0.0057 - val_mae: 0.0545 - val_mse: 0.0057\n",
      "Epoch 4/2000\n",
      "31170/31170 [==============================] - 9s 276us/step - loss: 0.0075 - mae: 0.0598 - mse: 0.0075 - val_loss: 0.0045 - val_mae: 0.0437 - val_mse: 0.0045\n",
      "Epoch 5/2000\n",
      "31170/31170 [==============================] - 9s 275us/step - loss: 0.0068 - mae: 0.0571 - mse: 0.0068 - val_loss: 0.0070 - val_mae: 0.0623 - val_mse: 0.0070\n",
      "Epoch 6/2000\n",
      "31170/31170 [==============================] - 9s 275us/step - loss: 0.0064 - mae: 0.0551 - mse: 0.0064 - val_loss: 0.0056 - val_mae: 0.0536 - val_mse: 0.0056\n",
      "Epoch 7/2000\n",
      "31170/31170 [==============================] - 9s 274us/step - loss: 0.0062 - mae: 0.0535 - mse: 0.0062 - val_loss: 0.0147 - val_mae: 0.0975 - val_mse: 0.0147\n",
      "Epoch 8/2000\n",
      "31170/31170 [==============================] - 9s 274us/step - loss: 0.0059 - mae: 0.0521 - mse: 0.0059 - val_loss: 0.0061 - val_mae: 0.0569 - val_mse: 0.0061\n",
      "Epoch 9/2000\n",
      "31170/31170 [==============================] - 9s 276us/step - loss: 0.0057 - mae: 0.0511 - mse: 0.0057 - val_loss: 0.0083 - val_mae: 0.0698 - val_mse: 0.0083\n",
      "Epoch 10/2000\n",
      "31170/31170 [==============================] - 9s 275us/step - loss: 0.0056 - mae: 0.0504 - mse: 0.0056 - val_loss: 0.0040 - val_mae: 0.0400 - val_mse: 0.0040\n",
      "Epoch 11/2000\n",
      "31170/31170 [==============================] - 9s 277us/step - loss: 0.0054 - mae: 0.0494 - mse: 0.0054 - val_loss: 0.0092 - val_mae: 0.0746 - val_mse: 0.0092\n",
      "Epoch 12/2000\n",
      "31170/31170 [==============================] - 9s 274us/step - loss: 0.0054 - mae: 0.0492 - mse: 0.0054 - val_loss: 0.0044 - val_mae: 0.0454 - val_mse: 0.0044\n",
      "Epoch 13/2000\n",
      "31170/31170 [==============================] - 9s 280us/step - loss: 0.0053 - mae: 0.0486 - mse: 0.0053 - val_loss: 0.0058 - val_mae: 0.0552 - val_mse: 0.0058\n",
      "Epoch 14/2000\n",
      "31170/31170 [==============================] - 9s 274us/step - loss: 0.0052 - mae: 0.0481 - mse: 0.0052 - val_loss: 0.0096 - val_mae: 0.0761 - val_mse: 0.0096\n",
      "Epoch 15/2000\n",
      "31170/31170 [==============================] - 9s 274us/step - loss: 0.0051 - mae: 0.0478 - mse: 0.0051 - val_loss: 0.0051 - val_mae: 0.0495 - val_mse: 0.0051\n",
      "Epoch 16/2000\n",
      "31170/31170 [==============================] - 8s 273us/step - loss: 0.0051 - mae: 0.0472 - mse: 0.0051 - val_loss: 0.0038 - val_mae: 0.0396 - val_mse: 0.0038\n",
      "Epoch 17/2000\n",
      "31170/31170 [==============================] - 9s 277us/step - loss: 0.0050 - mae: 0.0472 - mse: 0.0050 - val_loss: 0.0064 - val_mae: 0.0593 - val_mse: 0.0064\n",
      "Epoch 18/2000\n",
      "31170/31170 [==============================] - 9s 275us/step - loss: 0.0050 - mae: 0.0466 - mse: 0.0050 - val_loss: 0.0128 - val_mae: 0.0923 - val_mse: 0.0128\n",
      "Epoch 19/2000\n",
      "31170/31170 [==============================] - 9s 274us/step - loss: 0.0049 - mae: 0.0466 - mse: 0.0049 - val_loss: 0.0039 - val_mae: 0.0398 - val_mse: 0.0039\n",
      "Epoch 20/2000\n",
      "31170/31170 [==============================] - 9s 274us/step - loss: 0.0049 - mae: 0.0461 - mse: 0.0049 - val_loss: 0.0068 - val_mae: 0.0573 - val_mse: 0.0068\n",
      "Epoch 21/2000\n",
      "31170/31170 [==============================] - 9s 277us/step - loss: 0.0049 - mae: 0.0461 - mse: 0.0049 - val_loss: 0.0044 - val_mae: 0.0446 - val_mse: 0.0044\n",
      "Epoch 22/2000\n",
      "31170/31170 [==============================] - 9s 276us/step - loss: 0.0049 - mae: 0.0461 - mse: 0.0049 - val_loss: 0.0045 - val_mae: 0.0429 - val_mse: 0.0045\n",
      "Epoch 23/2000\n",
      "31170/31170 [==============================] - 9s 277us/step - loss: 0.0047 - mae: 0.0454 - mse: 0.0047 - val_loss: 0.0046 - val_mae: 0.0432 - val_mse: 0.0046\n",
      "Epoch 24/2000\n",
      "31170/31170 [==============================] - 9s 274us/step - loss: 0.0047 - mae: 0.0450 - mse: 0.0047 - val_loss: 0.0106 - val_mae: 0.0805 - val_mse: 0.0106\n",
      "Epoch 25/2000\n",
      "31170/31170 [==============================] - 8s 271us/step - loss: 0.0047 - mae: 0.0451 - mse: 0.0047 - val_loss: 0.0079 - val_mae: 0.0672 - val_mse: 0.0079\n",
      "Epoch 26/2000\n",
      "31170/31170 [==============================] - 9s 274us/step - loss: 0.0047 - mae: 0.0454 - mse: 0.0047 - val_loss: 0.0042 - val_mae: 0.0392 - val_mse: 0.0042\n"
     ]
    }
   ],
   "source": [
    "EPOCHS = 2000\n",
    "\n",
    "history = model.fit(\n",
    "  X_train, Y_train,\n",
    "  epochs=EPOCHS, validation_data = (X_val, Y_val), shuffle=False, verbose=1, \n",
    "    callbacks=[early_stop])"
   ]
  },
  {
   "cell_type": "code",
   "execution_count": 43,
   "metadata": {},
   "outputs": [
    {
     "data": {
      "text/plain": [
       "datetime.datetime(2021, 2, 26, 16, 22, 2, 237759)"
      ]
     },
     "execution_count": 43,
     "metadata": {},
     "output_type": "execute_result"
    }
   ],
   "source": [
    "import datetime\n",
    "b=datetime.datetime.now()\n",
    "b"
   ]
  },
  {
   "cell_type": "code",
   "execution_count": 44,
   "metadata": {},
   "outputs": [
    {
     "data": {
      "image/png": "[encoded data removed]",
      "text/plain": [
       "<Figure size 432x288 with 1 Axes>"
      ]
     },
     "metadata": {
      "needs_background": "light"
     },
     "output_type": "display_data"
    }
   ],
   "source": [
    "import matplotlib.pyplot as plt\n",
    "plt.plot(history.history['loss'])\n",
    "plt.plot(history.history['val_loss'])\n",
    "plt.title('model loss')\n",
    "plt.ylabel('loss')\n",
    "plt.xlabel('epoch')\n",
    "plt.legend(['train', 'validation'], loc='upper left')\n",
    "plt.show()"
   ]
  },
  {
   "cell_type": "code",
   "execution_count": 45,
   "metadata": {
    "scrolled": true
   },
   "outputs": [
    {
     "data": {
      "text/plain": [
       "3464"
      ]
     },
     "execution_count": 45,
     "metadata": {},
     "output_type": "execute_result"
    }
   ],
   "source": [
    "test_predictions = model.predict(X_val)\n",
    "op_list= []\n",
    "for i in range (0, len(test_predictions)):\n",
    "  op_list.append((test_predictions[i][1]))\n",
    "len(op_list)"
   ]
  },
  {
   "cell_type": "code",
   "execution_count": 46,
   "metadata": {},
   "outputs": [
    {
     "data": {
      "text/plain": [
       "[0.79425865,\n",
       " 0.66333437,\n",
       " 0.5316813,\n",
       " 0.40109926,\n",
       " 0.28700405,\n",
       " 0.27204293,\n",
       " 0.24765861,\n",
       " 0.27369708,\n",
       " 0.2795167,\n",
       " 0.3755942,\n",
       " 0.420487,\n",
       " 0.5165117,\n",
       " 0.62649715,\n",
       " 0.66974556,\n",
       " 0.804562,\n",
       " 0.89740753,\n",
       " 0.9396931,\n",
       " 0.965147,\n",
       " 0.93445224,\n",
       " 0.867453,\n",
       " 0.849686,\n",
       " 0.82963383,\n",
       " 0.85606116,\n",
       " 0.8945583,\n",
       " 0.74757063,\n",
       " 0.59797156,\n",
       " 0.49321225,\n",
       " 0.42884308,\n",
       " 0.3331589,\n",
       " 0.30700624,\n",
       " 0.3346089,\n",
       " 0.30625528,\n",
       " 0.41883123,\n",
       " 0.46886277,\n",
       " 0.49581012,\n",
       " 0.5302498,\n",
       " 0.75602406,\n",
       " 0.8833064,\n",
       " 0.9114005,\n",
       " 0.95115715,\n",
       " 0.9902595,\n",
       " 0.99258643,\n",
       " 0.99203295,\n",
       " 0.9350028,\n",
       " 0.89252114,\n",
       " 0.8856152,\n",
       " 0.90776306,\n",
       " 0.7966994,\n",
       " 0.6991181,\n",
       " 0.61013854,\n",
       " 0.55661535,\n",
       " 0.48411143,\n",
       " 0.4708346,\n",
       " 0.49898648,\n",
       " 0.5144842,\n",
       " 0.5016657,\n",
       " 0.5795674,\n",
       " 0.5874191,\n",
       " 0.69812363,\n",
       " 0.84894395,\n",
       " 0.7923372,\n",
       " 0.84048724,\n",
       " 0.8795017,\n",
       " 0.9003898,\n",
       " 0.9027427,\n",
       " 0.89870983,\n",
       " 0.8941568,\n",
       " 0.87003493,\n",
       " 0.8474618,\n",
       " 0.81053627,\n",
       " 0.81921947,\n",
       " 0.740119,\n",
       " 0.6882597,\n",
       " 0.5630834,\n",
       " 0.6169353,\n",
       " 0.6577747,\n",
       " 0.5706163,\n",
       " 0.5707798,\n",
       " 0.5974614,\n",
       " 0.562784,\n",
       " 0.53747123,\n",
       " 0.4956663,\n",
       " 0.6427165,\n",
       " 0.7020357,\n",
       " 0.7184896,\n",
       " 0.81125546,\n",
       " 0.87473714,\n",
       " 0.86811835,\n",
       " 0.8501313,\n",
       " 0.8401562,\n",
       " 0.8367293,\n",
       " 0.72438085,\n",
       " 0.5508221,\n",
       " 0.5781735,\n",
       " 0.62696713,\n",
       " 0.56241333,\n",
       " 0.50139767,\n",
       " 0.5270581,\n",
       " 0.50934273,\n",
       " 0.42051494,\n",
       " 0.3989591,\n",
       " 0.33231175,\n",
       " 0.3981593,\n",
       " 0.35745066,\n",
       " 0.32974976,\n",
       " 0.3649171,\n",
       " 0.48644623,\n",
       " 0.5602322,\n",
       " 0.6245944,\n",
       " 0.68422264,\n",
       " 0.88465095,\n",
       " 0.87310207,\n",
       " 0.7474717,\n",
       " 0.85732406,\n",
       " 0.8873099,\n",
       " 0.9187026,\n",
       " 0.7894598,\n",
       " 0.77228975,\n",
       " 0.75905395,\n",
       " 0.71161926,\n",
       " 0.5712795,\n",
       " 0.37430984,\n",
       " 0.39035073,\n",
       " 0.29670522,\n",
       " 0.29981804,\n",
       " 0.26954663,\n",
       " 0.35594642,\n",
       " 0.4158046,\n",
       " 0.5240098,\n",
       " 0.61679476,\n",
       " 0.7023591,\n",
       " 0.809373,\n",
       " 0.87239766,\n",
       " 0.925208,\n",
       " 0.9833789,\n",
       " 0.995563,\n",
       " 0.99676114,\n",
       " 0.99121916,\n",
       " 0.98862696,\n",
       " 0.9497155,\n",
       " 0.91417277,\n",
       " 0.9333986,\n",
       " 0.90880096,\n",
       " 0.67107224,\n",
       " 0.39480296,\n",
       " 0.34655392,\n",
       " 0.35970056,\n",
       " 0.3637511,\n",
       " 0.30947328,\n",
       " 0.2971514,\n",
       " 0.3107304,\n",
       " 0.37502822,\n",
       " 0.43792486,\n",
       " 0.46105978,\n",
       " 0.52854687,\n",
       " 0.52054214,\n",
       " 0.60967374,\n",
       " 0.7319075,\n",
       " 0.859669,\n",
       " 0.97063196,\n",
       " 0.9778138,\n",
       " 0.979535,\n",
       " 0.98193365,\n",
       " 0.94999003,\n",
       " 0.90762407,\n",
       " 0.8640545,\n",
       " 0.8522625,\n",
       " 0.8535775,\n",
       " 0.55531436,\n",
       " 0.48273104,\n",
       " 0.4397383,\n",
       " 0.34509644,\n",
       " 0.32039985,\n",
       " 0.33947873,\n",
       " 0.3540857,\n",
       " 0.38220635,\n",
       " 0.5520485,\n",
       " 0.5928388,\n",
       " 0.6112785,\n",
       " 0.8145305,\n",
       " 0.80395645,\n",
       " 0.91548383,\n",
       " 0.95184183,\n",
       " 0.9887094,\n",
       " 0.99281037,\n",
       " 0.9002729,\n",
       " 0.91469467,\n",
       " 0.9255682,\n",
       " 0.8117157,\n",
       " 0.6988157,\n",
       " 0.55097944,\n",
       " 0.45313287,\n",
       " 0.3893742,\n",
       " 0.3130481,\n",
       " 0.3400671,\n",
       " 0.3709845,\n",
       " 0.39998624,\n",
       " 0.5302309,\n",
       " 0.6709777,\n",
       " 0.76635253,\n",
       " 0.8831756,\n",
       " 0.83468664,\n",
       " 0.9057576,\n",
       " 0.95476997,\n",
       " 0.9858085,\n",
       " 0.99909925,\n",
       " 0.9968342,\n",
       " 0.9976831,\n",
       " 0.9603551,\n",
       " 0.92514896,\n",
       " 0.91900253,\n",
       " 0.9213884,\n",
       " 0.82796454,\n",
       " 0.6938309,\n",
       " 0.59021914,\n",
       " 0.47654802,\n",
       " 0.40466258,\n",
       " 0.32233417,\n",
       " 0.3300997,\n",
       " 0.36594468,\n",
       " 0.3766686,\n",
       " 0.4236634,\n",
       " 0.47217682,\n",
       " 0.48174214,\n",
       " 0.6023866,\n",
       " 0.7692038,\n",
       " 0.868628,\n",
       " 0.91586065,\n",
       " 0.9547868,\n",
       " 0.9816013,\n",
       " 0.97231495,\n",
       " 0.9543735,\n",
       " 0.9156419,\n",
       " 0.8887559,\n",
       " 0.8926065,\n",
       " 0.8869737,\n",
       " 0.82993305,\n",
       " 0.73581827,\n",
       " 0.7055485,\n",
       " 0.5982903,\n",
       " 0.6567746,\n",
       " 0.5572994,\n",
       " 0.46006608,\n",
       " 0.41788572,\n",
       " 0.42964682,\n",
       " 0.40691504,\n",
       " 0.49782953,\n",
       " 0.628571,\n",
       " 0.79173493,\n",
       " 0.8630699,\n",
       " 0.9218638,\n",
       " 0.9589915,\n",
       " 0.9851764,\n",
       " 0.9973836,\n",
       " 0.9922625,\n",
       " 0.9476254,\n",
       " 0.8936815,\n",
       " 0.87251043,\n",
       " 0.8056204,\n",
       " 0.7096291,\n",
       " 0.5980834,\n",
       " 0.4741916,\n",
       " 0.36137304,\n",
       " 0.31440187,\n",
       " 0.31297794,\n",
       " 0.30886886,\n",
       " 0.31399006,\n",
       " 0.32523045,\n",
       " 0.41006193,\n",
       " 0.4848193,\n",
       " 0.47261617,\n",
       " 0.72932297,\n",
       " 0.82468575,\n",
       " 0.90808696,\n",
       " 0.9320341,\n",
       " 0.9730313,\n",
       " 0.97957313,\n",
       " 0.9750885,\n",
       " 0.945945,\n",
       " 0.9036056,\n",
       " 0.8373234,\n",
       " 0.72515386,\n",
       " 0.6960963,\n",
       " 0.54473203,\n",
       " 0.53446037,\n",
       " 0.455399,\n",
       " 0.4234212,\n",
       " 0.37592083,\n",
       " 0.42061102,\n",
       " 0.49153045,\n",
       " 0.5941791,\n",
       " 0.5776172,\n",
       " 0.6618337,\n",
       " 0.70451766,\n",
       " 0.8543745,\n",
       " 0.9445659,\n",
       " 0.9546975,\n",
       " 0.9814971,\n",
       " 0.9871267,\n",
       " 0.9847185,\n",
       " 0.9492571,\n",
       " 0.92630684,\n",
       " 0.9117133,\n",
       " 0.9140103,\n",
       " 0.8776549,\n",
       " 0.71971375,\n",
       " 0.6729058,\n",
       " 0.4988729,\n",
       " 0.47265488,\n",
       " 0.39784208,\n",
       " 0.34466386,\n",
       " 0.3473109,\n",
       " 0.3816217,\n",
       " 0.5062151,\n",
       " 0.5756834,\n",
       " 0.6082318,\n",
       " 0.6587885,\n",
       " 0.84295535,\n",
       " 0.8904633,\n",
       " 0.9314035,\n",
       " 0.9435599,\n",
       " 0.97125864,\n",
       " 0.98588055,\n",
       " 0.9819136,\n",
       " 0.9560789,\n",
       " 0.92483896,\n",
       " 0.9031739,\n",
       " 0.90040773,\n",
       " 0.8155259,\n",
       " 0.6232964,\n",
       " 0.44047692,\n",
       " 0.39913252,\n",
       " 0.3583511,\n",
       " 0.32497436,\n",
       " 0.3322291,\n",
       " 0.323569,\n",
       " 0.35824192,\n",
       " 0.43874198,\n",
       " 0.5495701,\n",
       " 0.51141745,\n",
       " 0.6663213,\n",
       " 0.8244474,\n",
       " 0.88445556,\n",
       " 0.9173577,\n",
       " 0.95770764,\n",
       " 0.9846939,\n",
       " 0.99634457,\n",
       " 0.9724034,\n",
       " 0.95233405,\n",
       " 0.9263133,\n",
       " 0.9050282,\n",
       " 0.900797,\n",
       " 0.8411225,\n",
       " 0.6401433,\n",
       " 0.46334234,\n",
       " 0.4134099,\n",
       " 0.33910924,\n",
       " 0.29206675,\n",
       " 0.24801628,\n",
       " 0.22213727,\n",
       " 0.2306784,\n",
       " 0.332503,\n",
       " 0.40955356,\n",
       " 0.3898263,\n",
       " 0.42642134,\n",
       " 0.60424864,\n",
       " 0.7134374,\n",
       " 0.8518624,\n",
       " 0.90674055,\n",
       " 0.9442229,\n",
       " 0.96986955,\n",
       " 0.97717035,\n",
       " 0.9511441,\n",
       " 0.9320868,\n",
       " 0.9160719,\n",
       " 0.9152564,\n",
       " 0.83029366,\n",
       " 0.672879,\n",
       " 0.40076536,\n",
       " 0.39051238,\n",
       " 0.27820975,\n",
       " 0.23945558,\n",
       " 0.19129223,\n",
       " 0.18361372,\n",
       " 0.2125591,\n",
       " 0.30544966,\n",
       " 0.3582755,\n",
       " 0.3938112,\n",
       " 0.4751824,\n",
       " 0.5686626,\n",
       " 0.66962135,\n",
       " 0.8080028,\n",
       " 0.8968903,\n",
       " 0.93984365,\n",
       " 0.9584268,\n",
       " 0.96716774,\n",
       " 0.9473727,\n",
       " 0.91322124,\n",
       " 0.89699996,\n",
       " 0.8940574,\n",
       " 0.7976354,\n",
       " 0.62216306,\n",
       " 0.44055906,\n",
       " 0.3952075,\n",
       " 0.3641109,\n",
       " 0.30816385,\n",
       " 0.28157324,\n",
       " 0.2304618,\n",
       " 0.21212682,\n",
       " 0.21828634,\n",
       " 0.23665428,\n",
       " 0.33800206,\n",
       " 0.40459988,\n",
       " 0.586787,\n",
       " 0.73739284,\n",
       " 0.8729361,\n",
       " 0.9147202,\n",
       " 0.94653916,\n",
       " 0.9520428,\n",
       " 0.9477308,\n",
       " 0.9218411,\n",
       " 0.87792623,\n",
       " 0.8331713,\n",
       " 0.84838754,\n",
       " 0.7986214,\n",
       " 0.56332016,\n",
       " 0.47889373,\n",
       " 0.441611,\n",
       " 0.4547769,\n",
       " 0.37103477,\n",
       " 0.35298574,\n",
       " 0.28423202,\n",
       " 0.25332946,\n",
       " 0.2290198,\n",
       " 0.21965775,\n",
       " 0.253648,\n",
       " 0.3586377,\n",
       " 0.36412147,\n",
       " 0.578536,\n",
       " 0.857564,\n",
       " 0.8048599,\n",
       " 0.89880335,\n",
       " 0.8950014,\n",
       " 0.90182936,\n",
       " 0.8827871,\n",
       " 0.8694848,\n",
       " 0.84479225,\n",
       " 0.8449254,\n",
       " 0.76427937,\n",
       " 0.4473444,\n",
       " 0.3933493,\n",
       " 0.31321666,\n",
       " 0.2551555,\n",
       " 0.21323228,\n",
       " 0.20124626,\n",
       " 0.18162286,\n",
       " 0.25674868,\n",
       " 0.34669876,\n",
       " 0.40917963,\n",
       " 0.4169024,\n",
       " 0.38769597,\n",
       " 0.57219833,\n",
       " 0.7838739,\n",
       " 0.79192674,\n",
       " 0.9005549,\n",
       " 0.94157475,\n",
       " 0.9535045,\n",
       " 0.9743259,\n",
       " 0.94226015,\n",
       " 0.9105117,\n",
       " 0.87273765,\n",
       " 0.85647774,\n",
       " 0.77015567,\n",
       " 0.529575,\n",
       " 0.46694896,\n",
       " 0.38633183,\n",
       " 0.2202405,\n",
       " 0.15119928,\n",
       " 0.14781511,\n",
       " 0.16401458,\n",
       " 0.24044967,\n",
       " 0.3418638,\n",
       " 0.38323587,\n",
       " 0.42167807,\n",
       " 0.4757219,\n",
       " 0.51306975,\n",
       " 0.70907056,\n",
       " 0.9285978,\n",
       " 0.9163251,\n",
       " 0.9720253,\n",
       " 0.9326165,\n",
       " 0.9159497,\n",
       " 0.90774846,\n",
       " 0.8967627,\n",
       " 0.88268954,\n",
       " 0.8724602,\n",
       " 0.77939856,\n",
       " 0.59574956,\n",
       " 0.38309428,\n",
       " 0.4435518,\n",
       " 0.38036597,\n",
       " 0.2957282,\n",
       " 0.31466144,\n",
       " 0.31226468,\n",
       " 0.3603844,\n",
       " 0.51732844,\n",
       " 0.5355245,\n",
       " 0.5461995,\n",
       " 0.7185484,\n",
       " 0.73871076,\n",
       " 0.8750462,\n",
       " 0.888553,\n",
       " 0.8799335,\n",
       " 0.91996884,\n",
       " 0.9231478,\n",
       " 0.9289921,\n",
       " 0.934113,\n",
       " 0.87242866,\n",
       " 0.8823559,\n",
       " 0.8827933,\n",
       " 0.7276659,\n",
       " 0.54663247,\n",
       " 0.37972018,\n",
       " 0.36997524,\n",
       " 0.29611638,\n",
       " 0.32459164,\n",
       " 0.29006672,\n",
       " 0.29534853,\n",
       " 0.364795,\n",
       " 0.41711304,\n",
       " 0.38116083,\n",
       " 0.46803385,\n",
       " 0.6411297,\n",
       " 0.7061814,\n",
       " 0.8351857,\n",
       " 0.92191887,\n",
       " 0.94043183,\n",
       " 0.9664893,\n",
       " 0.97209525,\n",
       " 0.98532456,\n",
       " 0.9634485,\n",
       " 0.9254222,\n",
       " 0.88331795,\n",
       " 0.8761689,\n",
       " 0.7467011,\n",
       " 0.5350669,\n",
       " 0.38413155,\n",
       " 0.39099133,\n",
       " 0.31924063,\n",
       " 0.2842559,\n",
       " 0.250273,\n",
       " 0.24460807,\n",
       " 0.27035034,\n",
       " 0.3247478,\n",
       " 0.34938788,\n",
       " 0.4035024,\n",
       " 0.4906208,\n",
       " 0.6844724,\n",
       " 0.8228854,\n",
       " 0.8834215,\n",
       " 0.9458946,\n",
       " 0.9522575,\n",
       " 0.95996934,\n",
       " 0.9502081,\n",
       " 0.9043733,\n",
       " 0.8646394,\n",
       " 0.81559503,\n",
       " 0.80659807,\n",
       " 0.6866219,\n",
       " 0.5193924,\n",
       " 0.4987983,\n",
       " 0.54548955,\n",
       " 0.4214738,\n",
       " 0.30050343,\n",
       " 0.31218326,\n",
       " 0.27397126,\n",
       " 0.2538495,\n",
       " 0.2831568,\n",
       " 0.32195544,\n",
       " 0.40080583,\n",
       " 0.5866329,\n",
       " 0.5952571,\n",
       " 0.830017,\n",
       " 0.95722723,\n",
       " 0.983926,\n",
       " 0.99183065,\n",
       " 0.9863043,\n",
       " 0.94176376,\n",
       " 0.8923815,\n",
       " 0.7936152,\n",
       " 0.79410785,\n",
       " 0.7924222,\n",
       " 0.75766265,\n",
       " 0.6531009,\n",
       " 0.68216634,\n",
       " 0.44374695,\n",
       " 0.35566828,\n",
       " 0.3255564,\n",
       " 0.32812905,\n",
       " 0.32724786,\n",
       " 0.31144696,\n",
       " 0.30942288,\n",
       " 0.334867,\n",
       " 0.40361133,\n",
       " 0.558675,\n",
       " 0.6055047,\n",
       " 0.768594,\n",
       " 0.87294817,\n",
       " 0.85059553,\n",
       " 0.88903195,\n",
       " 0.8335142,\n",
       " 0.8772144,\n",
       " 0.7794663,\n",
       " 0.708207,\n",
       " 0.65837574,\n",
       " 0.62976503,\n",
       " 0.6449657,\n",
       " 0.4148022,\n",
       " 0.3368836,\n",
       " 0.35820293,\n",
       " 0.39467418,\n",
       " 0.39308703,\n",
       " 0.37178892,\n",
       " 0.34776068,\n",
       " 0.37575376,\n",
       " 0.43598714,\n",
       " 0.42443395,\n",
       " 0.43497303,\n",
       " 0.47636154,\n",
       " 0.47596008,\n",
       " 0.6009617,\n",
       " 0.75401115,\n",
       " 0.69175327,\n",
       " 0.6944475,\n",
       " 0.6119072,\n",
       " 0.7376225,\n",
       " 0.61830664,\n",
       " 0.5165228,\n",
       " 0.4920783,\n",
       " 0.48798013,\n",
       " 0.49516365,\n",
       " 0.4278317,\n",
       " 0.36454922,\n",
       " 0.3318867,\n",
       " 0.29596823,\n",
       " 0.29126334,\n",
       " 0.33381695,\n",
       " 0.38866007,\n",
       " 0.5090217,\n",
       " 0.66176414,\n",
       " 0.59710985,\n",
       " 0.5743386,\n",
       " 0.5955917,\n",
       " 0.75542444,\n",
       " 0.8885402,\n",
       " 0.8882419,\n",
       " 0.94348615,\n",
       " 0.9431076,\n",
       " 0.9474453,\n",
       " 0.9588574,\n",
       " 0.86365354,\n",
       " 0.8112339,\n",
       " 0.8030852,\n",
       " 0.78873885,\n",
       " 0.695138,\n",
       " 0.6385026,\n",
       " 0.44132555,\n",
       " 0.41734728,\n",
       " 0.36240518,\n",
       " 0.35529816,\n",
       " 0.36490893,\n",
       " 0.3946721,\n",
       " 0.48653683,\n",
       " 0.6922839,\n",
       " 0.7435977,\n",
       " 0.71191424,\n",
       " 0.77852607,\n",
       " 0.82966924,\n",
       " 0.908015,\n",
       " 0.94761837,\n",
       " 0.962222,\n",
       " 0.94385195,\n",
       " 0.94260013,\n",
       " 0.9213466,\n",
       " 0.8673949,\n",
       " 0.8013919,\n",
       " 0.8216306,\n",
       " 0.86311996,\n",
       " 0.7652782,\n",
       " 0.68135476,\n",
       " 0.5418372,\n",
       " 0.5103781,\n",
       " 0.4572746,\n",
       " 0.44855067,\n",
       " 0.46161157,\n",
       " 0.44165105,\n",
       " 0.50269884,\n",
       " 0.6389791,\n",
       " 0.6735349,\n",
       " 0.6802172,\n",
       " 0.83555055,\n",
       " 0.8342757,\n",
       " 0.9192893,\n",
       " 0.9542639,\n",
       " 0.9656377,\n",
       " 0.9788661,\n",
       " 0.97804904,\n",
       " 0.9659757,\n",
       " 0.9029476,\n",
       " 0.845711,\n",
       " 0.8415413,\n",
       " 0.85801303,\n",
       " 0.7674452,\n",
       " 0.6667837,\n",
       " 0.52378005,\n",
       " 0.44272578,\n",
       " 0.43012908,\n",
       " 0.39999908,\n",
       " 0.40691036,\n",
       " 0.44105214,\n",
       " 0.48021385,\n",
       " 0.60566026,\n",
       " 0.6835993,\n",
       " 0.65789485,\n",
       " 0.7871911,\n",
       " 0.8587592,\n",
       " 0.9297482,\n",
       " 0.96767706,\n",
       " 0.980542,\n",
       " 0.9368206,\n",
       " 0.9524778,\n",
       " 0.95696056,\n",
       " 0.90573645,\n",
       " 0.800681,\n",
       " 0.7852092,\n",
       " 0.78402275,\n",
       " 0.71392286,\n",
       " 0.63971704,\n",
       " 0.5107033,\n",
       " 0.45734265,\n",
       " 0.4727585,\n",
       " 0.43031284,\n",
       " 0.4144279,\n",
       " 0.4037449,\n",
       " 0.35512796,\n",
       " 0.3581058,\n",
       " 0.36798874,\n",
       " 0.45073974,\n",
       " 0.518266,\n",
       " 0.73489916,\n",
       " 0.80903494,\n",
       " 0.8837336,\n",
       " 0.9021661,\n",
       " 0.98313415,\n",
       " 0.99109864,\n",
       " 0.8758577,\n",
       " 0.86984676,\n",
       " 0.8011355,\n",
       " 0.7575323,\n",
       " 0.7988471,\n",
       " 0.7586494,\n",
       " 0.6616753,\n",
       " 0.5578107,\n",
       " 0.5027985,\n",
       " 0.4360509,\n",
       " 0.3997422,\n",
       " 0.40173322,\n",
       " 0.40272856,\n",
       " 0.3680768,\n",
       " 0.34546188,\n",
       " 0.3658136,\n",
       " 0.4048727,\n",
       " 0.49805385,\n",
       " 0.53668785,\n",
       " 0.6434039,\n",
       " 0.7269084,\n",
       " 0.7293291,\n",
       " 0.6936716,\n",
       " 0.56213033,\n",
       " 0.5350937,\n",
       " 0.5181399,\n",
       " 0.5317798,\n",
       " 0.5742291,\n",
       " 0.6443051,\n",
       " 0.6592599,\n",
       " 0.446047,\n",
       " 0.3479526,\n",
       " 0.35110867,\n",
       " 0.27913624,\n",
       " 0.20216188,\n",
       " 0.25275132,\n",
       " 0.29757184,\n",
       " 0.3704658,\n",
       " 0.45232502,\n",
       " 0.55528647,\n",
       " 0.61296606,\n",
       " 0.5730321,\n",
       " 0.61032325,\n",
       " 0.75842166,\n",
       " 0.72932625,\n",
       " 0.69597757,\n",
       " 0.74764967,\n",
       " 0.73056996,\n",
       " 0.7610331,\n",
       " 0.70631737,\n",
       " 0.7164134,\n",
       " 0.71621895,\n",
       " 0.71244895,\n",
       " 0.6235016,\n",
       " 0.4181715,\n",
       " 0.28839266,\n",
       " 0.30265436,\n",
       " 0.24437687,\n",
       " 0.21483633,\n",
       " 0.22419018,\n",
       " 0.25463784,\n",
       " 0.30796468,\n",
       " 0.43977106,\n",
       " 0.5515758,\n",
       " 0.61152107,\n",
       " 0.6219379,\n",
       " 0.6006508,\n",
       " 0.50320774,\n",
       " 0.62088835,\n",
       " 0.75122315,\n",
       " 0.777724,\n",
       " 0.76813096,\n",
       " 0.8106203,\n",
       " 0.84636056,\n",
       " 0.7434955,\n",
       " 0.725965,\n",
       " 0.71435523,\n",
       " 0.5879971,\n",
       " 0.47616866,\n",
       " 0.36437058,\n",
       " 0.2886987,\n",
       " 0.26822433,\n",
       " 0.20668098,\n",
       " 0.18674287,\n",
       " 0.21708068,\n",
       " 0.33730048,\n",
       " 0.5127578,\n",
       " 0.6010817,\n",
       " 0.6192363,\n",
       " 0.65274954,\n",
       " 0.6969509,\n",
       " 0.6380855,\n",
       " 0.8115822,\n",
       " 0.92429674,\n",
       " 0.95290995,\n",
       " 0.9766033,\n",
       " 0.97916645,\n",
       " 0.9488238,\n",
       " 0.9002733,\n",
       " 0.8057611,\n",
       " 0.85980964,\n",
       " 0.7347238,\n",
       " 0.58975446,\n",
       " 0.45237383,\n",
       " 0.3157708,\n",
       " 0.22726458,\n",
       " 0.19075415,\n",
       " 0.1870918,\n",
       " 0.19941473,\n",
       " 0.26874173,\n",
       " 0.39297113,\n",
       " 0.46353075,\n",
       " 0.51564837,\n",
       " 0.4934642,\n",
       " 0.54973966,\n",
       " 0.6033044,\n",
       " 0.77894974,\n",
       " 0.8643023,\n",
       " 0.9025867,\n",
       " 0.8863895,\n",
       " 0.9002652,\n",
       " 0.87510467,\n",
       " 0.8148253,\n",
       " 0.80791205,\n",
       " 0.8443264,\n",
       " 0.6940862,\n",
       " 0.4706082,\n",
       " 0.42495668,\n",
       " 0.3024612,\n",
       " 0.19933122,\n",
       " 0.17904219,\n",
       " 0.18141466,\n",
       " 0.21679857,\n",
       " 0.260508,\n",
       " 0.38794518,\n",
       " 0.49254173,\n",
       " 0.5269524,\n",
       " 0.59640944,\n",
       " 0.7324605,\n",
       " 0.7313827,\n",
       " 0.77066207,\n",
       " 0.8169264,\n",
       " 0.811628,\n",
       " 0.8125247,\n",
       " 0.8211546,\n",
       " 0.7765477,\n",
       " 0.7166126,\n",
       " 0.68902636,\n",
       " 0.7254436,\n",
       " 0.57369256,\n",
       " 0.47558552,\n",
       " 0.41654173,\n",
       " 0.37845838,\n",
       " 0.29023528,\n",
       " 0.27998793,\n",
       " 0.30431417,\n",
       " 0.37826562,\n",
       " 0.36626774,\n",
       " 0.4008802,\n",
       " 0.50754374,\n",
       " 0.59579825,\n",
       " 0.62007666,\n",
       " 0.81972057,\n",
       " 0.94197994,\n",
       " 0.9789726,\n",
       " 0.95727587,\n",
       " 0.97781545,\n",
       " 0.9732389,\n",
       " 0.9684497,\n",
       " 0.91515064,\n",
       " 0.8955327,\n",
       " 0.78071374,\n",
       " 0.78162277,\n",
       " 0.664187,\n",
       " 0.6471833,\n",
       " 0.43944383,\n",
       " 0.44055992,\n",
       " 0.4279685,\n",
       " 0.35934997,\n",
       " 0.34976026,\n",
       " 0.3252673,\n",
       " 0.32274973,\n",
       " 0.30488738,\n",
       " 0.36097842,\n",
       " 0.4028731,\n",
       " 0.48452118,\n",
       " 0.6266078,\n",
       " 0.784796,\n",
       " 0.92555785,\n",
       " 0.94597554,\n",
       " 0.9581264,\n",
       " 0.9729307,\n",
       " 0.9672216,\n",
       " 0.932428,\n",
       " 0.9044157,\n",
       " 0.9085593,\n",
       " 0.8761416,\n",
       " 0.73639727,\n",
       " 0.62038016,\n",
       " 0.50758314,\n",
       " 0.43482733,\n",
       " 0.43025118,\n",
       " 0.36643803,\n",
       " 0.34193945,\n",
       " 0.3509829,\n",
       " 0.44318396,\n",
       " 0.6182594,\n",
       " 0.5478235,\n",
       " 0.5801995,\n",
       " 0.7211435,\n",
       " 0.89372694,\n",
       " 0.8872782,\n",
       " 0.96109253,\n",
       " 0.98778176,\n",
       " 1.0030823,\n",
       " 1.0002191,\n",
       " 0.9977613,\n",
       " 0.96482444,\n",
       " 0.94903094,\n",
       " 0.9325681,\n",
       " 0.93529016,\n",
       " 0.8403796,\n",
       " 0.6909335,\n",
       " 0.51070285,\n",
       " 0.53600377,\n",
       " 0.4922333,\n",
       " 0.26876855,\n",
       " 0.2487331,\n",
       " 0.26931745,\n",
       " 0.34791666,\n",
       " 0.46460715,\n",
       " 0.5627268,\n",
       " 0.5391097,\n",
       " 0.5832091,\n",
       " 0.81625545,\n",
       " 0.85858,\n",
       " 0.9694181,\n",
       " 0.98715097,\n",
       " 0.9959399,\n",
       " 0.99326366,\n",
       " 0.9688263,\n",
       " 0.9507234,\n",
       " 0.93763995,\n",
       " 0.94092035,\n",
       " 0.908216,\n",
       " ...]"
      ]
     },
     "execution_count": 46,
     "metadata": {},
     "output_type": "execute_result"
    }
   ],
   "source": [
    "op_list"
   ]
  },
  {
   "cell_type": "code",
   "execution_count": 47,
   "metadata": {},
   "outputs": [
    {
     "data": {
      "text/plain": [
       "0       0.81502\n",
       "1       0.67267\n",
       "2       0.46096\n",
       "3       0.33333\n",
       "4       0.28428\n",
       "         ...   \n",
       "3459    0.62713\n",
       "3460    0.60561\n",
       "3461    0.57658\n",
       "3462    0.30244\n",
       "3463    0.12346\n",
       "Name: actual, Length: 3464, dtype: float64"
      ]
     },
     "execution_count": 47,
     "metadata": {},
     "output_type": "execute_result"
    }
   ],
   "source": [
    "test_labels = pd.DataFrame({'actual':(Y_val[:,1])})\n",
    "#test_labels.rename(columns = {(Y_test.shape[1]):'actual'}, inplace = True)\n",
    "#test_labels['actual']\n",
    "test_labels['actual']"
   ]
  },
  {
   "cell_type": "code",
   "execution_count": 48,
   "metadata": {},
   "outputs": [
    {
     "data": {
      "text/plain": [
       "(3464, 1)"
      ]
     },
     "execution_count": 48,
     "metadata": {},
     "output_type": "execute_result"
    }
   ],
   "source": [
    "np.reshape(test_labels, (-1,1))\n",
    "test_labels.shape"
   ]
  },
  {
   "cell_type": "code",
   "execution_count": 49,
   "metadata": {},
   "outputs": [
    {
     "data": {
      "text/plain": [
       "0       28.210249\n",
       "1       23.379947\n",
       "2       19.990000\n",
       "3       18.819967\n",
       "4       18.309957\n",
       "          ...    \n",
       "3459    22.350057\n",
       "3460    21.930088\n",
       "3461    21.450068\n",
       "3462    18.500037\n",
       "3463    16.040096\n",
       "Name: actual, Length: 3464, dtype: float64"
      ]
     },
     "execution_count": 49,
     "metadata": {},
     "output_type": "execute_result"
    }
   ],
   "source": [
    "test_labels['actual']=ct.named_transformers_['y'].inverse_transform(test_labels)\n",
    "test_labels['actual']"
   ]
  },
  {
   "cell_type": "code",
   "execution_count": 50,
   "metadata": {},
   "outputs": [],
   "source": [
    "predictions=pd.DataFrame({'predict':op_list})\n",
    "predictions['predict'] = ct.named_transformers_['y'].inverse_transform(predictions)"
   ]
  },
  {
   "cell_type": "code",
   "execution_count": 51,
   "metadata": {},
   "outputs": [
    {
     "data": {
      "text/plain": [
       "0       27.286624\n",
       "1       23.155557\n",
       "2       20.831496\n",
       "3       19.436982\n",
       "4       18.337170\n",
       "          ...    \n",
       "3459    23.052143\n",
       "3460    23.489572\n",
       "3461    21.105778\n",
       "3462    21.271378\n",
       "3463    17.828574\n",
       "Name: predict, Length: 3464, dtype: float64"
      ]
     },
     "execution_count": 51,
     "metadata": {},
     "output_type": "execute_result"
    }
   ],
   "source": [
    "predictions['predict']"
   ]
  },
  {
   "cell_type": "code",
   "execution_count": 52,
   "metadata": {},
   "outputs": [
    {
     "data": {
      "text/plain": [
       "0       28.210249\n",
       "1       23.379947\n",
       "2       19.990000\n",
       "3       18.819967\n",
       "4       18.309957\n",
       "          ...    \n",
       "3459    22.350057\n",
       "3460    21.930088\n",
       "3461    21.450068\n",
       "3462    18.500037\n",
       "3463    16.040096\n",
       "Name: actual, Length: 3464, dtype: float64"
      ]
     },
     "execution_count": 52,
     "metadata": {},
     "output_type": "execute_result"
    }
   ],
   "source": [
    "test_labels['actual']"
   ]
  },
  {
   "cell_type": "code",
   "execution_count": 53,
   "metadata": {},
   "outputs": [
    {
     "data": {
      "image/png": "[encoded data removed]",
      "text/plain": [
       "<Figure size 1800x1080 with 1 Axes>"
      ]
     },
     "metadata": {
      "needs_background": "light"
     },
     "output_type": "display_data"
    }
   ],
   "source": [
    "import matplotlib.pyplot as plt\n",
    "plt.figure(figsize=(25,15))\n",
    "a = plt.axes(aspect='equal')\n",
    "plt.scatter(test_labels['actual'], predictions)\n",
    "plt.xlabel('True Value')\n",
    "plt.ylabel('Predictions')\n",
    "lims = [0, 200]\n",
    "plt.xlim(lims)\n",
    "plt.ylim(lims)\n",
    "_ = plt.plot(lims, lims)"
   ]
  },
  {
   "cell_type": "code",
   "execution_count": 54,
   "metadata": {},
   "outputs": [
    {
     "data": {
      "image/png": "[encoded data removed]",
      "text/plain": [
       "<Figure size 1800x1080 with 1 Axes>"
      ]
     },
     "metadata": {
      "needs_background": "light"
     },
     "output_type": "display_data"
    }
   ],
   "source": [
    "error = round(predictions['predict'],2) - round(test_labels['actual'],2)\n",
    "plt.figure(figsize=(25,15))\n",
    "plt.hist(error, bins = 50)\n",
    "plt.xlabel(\"Prediction Error\")\n",
    "_ = plt.ylabel(\"Count\")\n"
   ]
  },
  {
   "cell_type": "code",
   "execution_count": 55,
   "metadata": {},
   "outputs": [
    {
     "name": "stdout",
     "output_type": "stream",
     "text": [
      "     predict\n",
      "0  27.286624\n",
      "1  23.155557\n",
      "2  20.831496\n",
      "3  19.436982\n",
      "4  18.337170\n",
      "5  18.177709\n",
      "6  17.894110\n",
      "7  18.190000\n",
      "8  18.252372\n",
      "9  19.202186 0    28.210249\n",
      "1    23.379947\n",
      "2    19.990000\n",
      "3    18.819967\n",
      "4    18.309957\n",
      "5    17.839968\n",
      "6    17.729968\n",
      "7    17.589966\n",
      "8    18.220054\n",
      "9    19.179966\n",
      "Name: actual, dtype: float64 0   -0.92\n",
      "1   -0.22\n",
      "2    0.84\n",
      "3    0.62\n",
      "4    0.03\n",
      "5    0.34\n",
      "6    0.16\n",
      "7    0.60\n",
      "8    0.03\n",
      "9    0.02\n",
      "dtype: float64\n"
     ]
    }
   ],
   "source": [
    "print(predictions[0:10], test_labels['actual'][0:10], error[0:10])"
   ]
  },
  {
   "cell_type": "code",
   "execution_count": 56,
   "metadata": {},
   "outputs": [
    {
     "name": "stdout",
     "output_type": "stream",
     "text": [
      "697\n"
     ]
    }
   ],
   "source": [
    "i=0\n",
    "count=0\n",
    "for i in range(len(error)):\n",
    "    if ((error[i])>5) or ((error[i]<-5)):\n",
    "        count=count+1\n",
    "print(count)"
   ]
  },
  {
   "cell_type": "code",
   "execution_count": 57,
   "metadata": {},
   "outputs": [
    {
     "name": "stdout",
     "output_type": "stream",
     "text": [
      "accuracy: 79.87875288683603\n"
     ]
    }
   ],
   "source": [
    "a = len(predictions) - count\n",
    "a\n",
    "accuracy = (a/len(predictions))*100\n",
    "print('accuracy:', accuracy)"
   ]
  },
  {
   "cell_type": "code",
   "execution_count": 58,
   "metadata": {},
   "outputs": [
    {
     "name": "stdout",
     "output_type": "stream",
     "text": [
      "Mean of error in test data: 0.11443418013856801\n",
      "Standard deviation of error in test data: 58.32881834942925\n"
     ]
    }
   ],
   "source": [
    "from statistics import mean, stdev\n",
    "print('Mean of error in test data:', mean(error))\n",
    "print('Standard deviation of error in test data:', stdev(error))"
   ]
  },
  {
   "cell_type": "code",
   "execution_count": 59,
   "metadata": {},
   "outputs": [
    {
     "name": "stdout",
     "output_type": "stream",
     "text": [
      "Mean of test data: 27.92255865196976\n",
      "Standard deviation of test data: 13.837448141380454\n"
     ]
    }
   ],
   "source": [
    "from statistics import mean, stdev\n",
    "print('Mean of test data:', mean(test_labels['actual']))\n",
    "print('Standard deviation of test data:', stdev(test_labels['actual']))"
   ]
  },
  {
   "cell_type": "code",
   "execution_count": 60,
   "metadata": {},
   "outputs": [
    {
     "data": {
      "text/plain": [
       "datetime.datetime(2021, 2, 26, 16, 22, 3, 871387)"
      ]
     },
     "execution_count": 60,
     "metadata": {},
     "output_type": "execute_result"
    }
   ],
   "source": [
    "import datetime\n",
    "stop =datetime.datetime.now()\n",
    "stop"
   ]
  },
  {
   "cell_type": "code",
   "execution_count": 61,
   "metadata": {},
   "outputs": [
    {
     "name": "stdout",
     "output_type": "stream",
     "text": [
      "0:03:58.380757\n"
     ]
    }
   ],
   "source": [
    "print(stop-start)"
   ]
  },
  {
   "cell_type": "code",
   "execution_count": 62,
   "metadata": {},
   "outputs": [
    {
     "name": "stdout",
     "output_type": "stream",
     "text": [
      "accuracy: with threshold of 1  is 43.65\n",
      "accuracy: with threshold of 2  is 60.48\n",
      "accuracy: with threshold of 3  is 69.92\n",
      "accuracy: with threshold of 4  is 76.01\n",
      "accuracy: with threshold of 5  is 79.88\n",
      "accuracy: with threshold of 6  is 83.29\n",
      "accuracy: with threshold of 7  is 86.00\n",
      "accuracy: with threshold of 8  is 87.44\n",
      "accuracy: with threshold of 9  is 89.03\n",
      "accuracy: with threshold of 10  is 90.30\n"
     ]
    }
   ],
   "source": [
    "for j in range(1,11):\n",
    "    i=0\n",
    "    count=0\n",
    "    for i in range(len(error)):\n",
    "        if ((error[i])>j) or ((error[i]<-j)):\n",
    "            count=count+1\n",
    "    a = len(predictions) - count\n",
    "    accuracy = (a/len(predictions))*100\n",
    "    print(\"accuracy: with threshold of %i\"%j,\" is %.2f\"%accuracy)"
   ]
  },
  {
   "cell_type": "code",
   "execution_count": 63,
   "metadata": {},
   "outputs": [
    {
     "name": "stderr",
     "output_type": "stream",
     "text": [
      "C:\\Users\\vsridha4\\.conda\\envs\\test\\lib\\site-packages\\keras\\engine\\saving.py:165: UserWarning: TensorFlow optimizers do not make it possible to access optimizer attributes or optimizer state after instantiation. As a result, we cannot save the optimizer as part of the model save file.You will have to compile your model again after loading it. Prefer using a Keras optimizer instead (see keras.io/optimizers).\n",
      "  'TensorFlow optimizers do not '\n"
     ]
    }
   ],
   "source": [
    "from keras.models import save_model\n",
    "save_model(model,r'C:\\Users\\vsridha4\\Desktop\\RA\\NEW\\final_lstm_hour_ahead.h5',include_optimizer=True)"
   ]
  },
  {
   "cell_type": "code",
   "execution_count": null,
   "metadata": {},
   "outputs": [],
   "source": []
  }
 ],
 "metadata": {
  "kernelspec": {
   "display_name": "Python 3 (ipykernel)",
   "language": "python",
   "name": "python3"
  },
  "language_info": {
   "codemirror_mode": {
    "name": "ipython",
    "version": 3
   },
   "file_extension": ".py",
   "mimetype": "text/x-python",
   "name": "python",
   "nbconvert_exporter": "python",
   "pygments_lexer": "ipython3",
   "version": "3.7.11"
  }
 },
 "nbformat": 4,
 "nbformat_minor": 4
}
