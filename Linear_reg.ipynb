{
 "cells": [
  {
   "cell_type": "code",
   "execution_count": 1,
   "metadata": {},
   "outputs": [
    {
     "name": "stdout",
     "output_type": "stream",
     "text": [
      "2020-09-22 00:16:19.009558\n"
     ]
    }
   ],
   "source": [
    "#  Simple DNN LMP prediction as benchmark\n",
    "#  by Vasudharini Sridharan\n",
    "#  Website: https://rpglab.github.io/\n",
    "\n",
    "import numpy as np\n",
    "import datetime\n",
    "start=datetime.datetime.now()\n",
    "print(start)"
   ]
  },
  {
   "cell_type": "code",
   "execution_count": 2,
   "metadata": {},
   "outputs": [
    {
     "name": "stdout",
     "output_type": "stream",
     "text": [
      "C:\\Users\\vsridha4\\Desktop\\RA\\Linear\n"
     ]
    }
   ],
   "source": [
    "import os\n",
    "cwd = os.getcwd()\n",
    "print(cwd)"
   ]
  },
  {
   "cell_type": "code",
   "execution_count": 3,
   "metadata": {},
   "outputs": [],
   "source": [
    "# -*- coding: utf-8 -*-\n",
    "import pandas as pd\n",
    "load = pd.read_csv(os.path.join(cwd,'dataset_train_4_0to200.csv'))"
   ]
  },
  {
   "cell_type": "code",
   "execution_count": 4,
   "metadata": {
    "scrolled": true
   },
   "outputs": [
    {
     "data": {
      "text/plain": [
       "<bound method NDFrame.head of        Delivery Date  Delivery Hour  Delivery Interval Repeated Hour Flag  \\\n",
       "0           1/1/2015              1                  1                  N   \n",
       "1           1/1/2015              1                  2                  N   \n",
       "2           1/1/2015              1                  3                  N   \n",
       "3           1/1/2015              1                  4                  N   \n",
       "4           1/1/2015              2                  1                  N   \n",
       "...              ...            ...                ...                ...   \n",
       "134159    12/31/2019             23                  4                  N   \n",
       "134160    12/31/2019             24                  1                  N   \n",
       "134161    12/31/2019             24                  2                  N   \n",
       "134162    12/31/2019             24                  3                  N   \n",
       "134163    12/31/2019             24                  4                  N   \n",
       "\n",
       "       Settlement Point Name Settlement Point Type       DayStatus  \\\n",
       "0                 LZ_HOUSTON                    LZ  Public Holiday   \n",
       "1                 LZ_HOUSTON                    LZ  Public Holiday   \n",
       "2                 LZ_HOUSTON                    LZ  Public Holiday   \n",
       "3                 LZ_HOUSTON                    LZ  Public Holiday   \n",
       "4                 LZ_HOUSTON                    LZ  Public Holiday   \n",
       "...                      ...                   ...             ...   \n",
       "134159            LZ_HOUSTON                    LZ         Weekday   \n",
       "134160            LZ_HOUSTON                    LZ         Weekday   \n",
       "134161            LZ_HOUSTON                    LZ         Weekday   \n",
       "134162            LZ_HOUSTON                    LZ         Weekday   \n",
       "134163            LZ_HOUSTON                    LZ         Weekday   \n",
       "\n",
       "        Temperature in F  Load in Houston  Ercot Load  Settlement Point Price  \n",
       "0                     44             9844       39625                      23  \n",
       "1                     44             9844       39625                      23  \n",
       "2                     44             9844       39625                      22  \n",
       "3                     44             9844       39625                      22  \n",
       "4                     44             9653       39014                      22  \n",
       "...                  ...              ...         ...                     ...  \n",
       "134159                67            10305       38377                      12  \n",
       "134160                67            10020       37461                      12  \n",
       "134161                67            10020       37461                      12  \n",
       "134162                67            10020       37461                      13  \n",
       "134163                67            10020       37461                      12  \n",
       "\n",
       "[134164 rows x 11 columns]>"
      ]
     },
     "execution_count": 4,
     "metadata": {},
     "output_type": "execute_result"
    }
   ],
   "source": [
    "load.head"
   ]
  },
  {
   "cell_type": "code",
   "execution_count": 5,
   "metadata": {},
   "outputs": [
    {
     "data": {
      "text/plain": [
       "dtype('int64')"
      ]
     },
     "execution_count": 5,
     "metadata": {},
     "output_type": "execute_result"
    }
   ],
   "source": [
    "import datetime\n",
    "load['year'] = pd.DatetimeIndex(load['Delivery Date']).year\n",
    "load['month'] = pd.DatetimeIndex(load['Delivery Date']).month\n",
    "load['day'] = pd.DatetimeIndex(load['Delivery Date']).day\n",
    "load['year'].dtype"
   ]
  },
  {
   "cell_type": "code",
   "execution_count": 6,
   "metadata": {},
   "outputs": [],
   "source": [
    "a = load['Delivery Date']\n",
    "a= pd.to_datetime(a)"
   ]
  },
  {
   "cell_type": "code",
   "execution_count": 7,
   "metadata": {},
   "outputs": [
    {
     "data": {
      "text/plain": [
       "0         3\n",
       "1         3\n",
       "2         3\n",
       "3         3\n",
       "4         3\n",
       "         ..\n",
       "134159    1\n",
       "134160    1\n",
       "134161    1\n",
       "134162    1\n",
       "134163    1\n",
       "Name: dayofweek, Length: 134164, dtype: int64"
      ]
     },
     "execution_count": 7,
     "metadata": {},
     "output_type": "execute_result"
    }
   ],
   "source": [
    "load['dayofweek'] = a.dt.dayofweek\n",
    "load['dayofweek']"
   ]
  },
  {
   "cell_type": "code",
   "execution_count": 8,
   "metadata": {},
   "outputs": [
    {
     "data": {
      "text/plain": [
       "Delivery Date             object\n",
       "Delivery Hour              int64\n",
       "Delivery Interval          int64\n",
       "Repeated Hour Flag        object\n",
       "Settlement Point Name     object\n",
       "Settlement Point Type     object\n",
       "DayStatus                 object\n",
       "Temperature in F           int64\n",
       "Load in Houston            int64\n",
       "Ercot Load                 int64\n",
       "Settlement Point Price     int64\n",
       "year                       int64\n",
       "month                      int64\n",
       "day                        int64\n",
       "dayofweek                  int64\n",
       "dtype: object"
      ]
     },
     "execution_count": 8,
     "metadata": {},
     "output_type": "execute_result"
    }
   ],
   "source": [
    "load.dtypes"
   ]
  },
  {
   "cell_type": "code",
   "execution_count": 9,
   "metadata": {
    "scrolled": true
   },
   "outputs": [
    {
     "data": {
      "text/html": [
       "<div>\n",
       "<style scoped>\n",
       "    .dataframe tbody tr th:only-of-type {\n",
       "        vertical-align: middle;\n",
       "    }\n",
       "\n",
       "    .dataframe tbody tr th {\n",
       "        vertical-align: top;\n",
       "    }\n",
       "\n",
       "    .dataframe thead th {\n",
       "        text-align: right;\n",
       "    }\n",
       "</style>\n",
       "<table border=\"1\" class=\"dataframe\">\n",
       "  <thead>\n",
       "    <tr style=\"text-align: right;\">\n",
       "      <th></th>\n",
       "      <th>year</th>\n",
       "      <th>month</th>\n",
       "      <th>dayofweek</th>\n",
       "      <th>Delivery Hour</th>\n",
       "      <th>Delivery Interval</th>\n",
       "      <th>Repeated Hour Flag</th>\n",
       "      <th>DayStatus</th>\n",
       "      <th>Temperature in F</th>\n",
       "      <th>Load in Houston</th>\n",
       "      <th>Ercot Load</th>\n",
       "      <th>Settlement Point Price</th>\n",
       "    </tr>\n",
       "  </thead>\n",
       "  <tbody>\n",
       "    <tr>\n",
       "      <th>0</th>\n",
       "      <td>2015</td>\n",
       "      <td>1</td>\n",
       "      <td>3</td>\n",
       "      <td>1</td>\n",
       "      <td>1</td>\n",
       "      <td>N</td>\n",
       "      <td>Public Holiday</td>\n",
       "      <td>44</td>\n",
       "      <td>9844</td>\n",
       "      <td>39625</td>\n",
       "      <td>23</td>\n",
       "    </tr>\n",
       "    <tr>\n",
       "      <th>1</th>\n",
       "      <td>2015</td>\n",
       "      <td>1</td>\n",
       "      <td>3</td>\n",
       "      <td>1</td>\n",
       "      <td>2</td>\n",
       "      <td>N</td>\n",
       "      <td>Public Holiday</td>\n",
       "      <td>44</td>\n",
       "      <td>9844</td>\n",
       "      <td>39625</td>\n",
       "      <td>23</td>\n",
       "    </tr>\n",
       "    <tr>\n",
       "      <th>2</th>\n",
       "      <td>2015</td>\n",
       "      <td>1</td>\n",
       "      <td>3</td>\n",
       "      <td>1</td>\n",
       "      <td>3</td>\n",
       "      <td>N</td>\n",
       "      <td>Public Holiday</td>\n",
       "      <td>44</td>\n",
       "      <td>9844</td>\n",
       "      <td>39625</td>\n",
       "      <td>22</td>\n",
       "    </tr>\n",
       "    <tr>\n",
       "      <th>3</th>\n",
       "      <td>2015</td>\n",
       "      <td>1</td>\n",
       "      <td>3</td>\n",
       "      <td>1</td>\n",
       "      <td>4</td>\n",
       "      <td>N</td>\n",
       "      <td>Public Holiday</td>\n",
       "      <td>44</td>\n",
       "      <td>9844</td>\n",
       "      <td>39625</td>\n",
       "      <td>22</td>\n",
       "    </tr>\n",
       "    <tr>\n",
       "      <th>4</th>\n",
       "      <td>2015</td>\n",
       "      <td>1</td>\n",
       "      <td>3</td>\n",
       "      <td>2</td>\n",
       "      <td>1</td>\n",
       "      <td>N</td>\n",
       "      <td>Public Holiday</td>\n",
       "      <td>44</td>\n",
       "      <td>9653</td>\n",
       "      <td>39014</td>\n",
       "      <td>22</td>\n",
       "    </tr>\n",
       "  </tbody>\n",
       "</table>\n",
       "</div>"
      ],
      "text/plain": [
       "   year  month  dayofweek  Delivery Hour  Delivery Interval  \\\n",
       "0  2015      1          3              1                  1   \n",
       "1  2015      1          3              1                  2   \n",
       "2  2015      1          3              1                  3   \n",
       "3  2015      1          3              1                  4   \n",
       "4  2015      1          3              2                  1   \n",
       "\n",
       "  Repeated Hour Flag       DayStatus  Temperature in F  Load in Houston  \\\n",
       "0                  N  Public Holiday                44             9844   \n",
       "1                  N  Public Holiday                44             9844   \n",
       "2                  N  Public Holiday                44             9844   \n",
       "3                  N  Public Holiday                44             9844   \n",
       "4                  N  Public Holiday                44             9653   \n",
       "\n",
       "   Ercot Load  Settlement Point Price  \n",
       "0       39625                      23  \n",
       "1       39625                      23  \n",
       "2       39625                      22  \n",
       "3       39625                      22  \n",
       "4       39014                      22  "
      ]
     },
     "execution_count": 9,
     "metadata": {},
     "output_type": "execute_result"
    }
   ],
   "source": [
    "\n",
    "# Removing unnecessary columns \n",
    "load = load.drop(columns=['Delivery Date','day','Settlement Point Name','Settlement Point Type'])  \n",
    "\n",
    "# Re-arranging Columns\n",
    "load = load[['year','month','dayofweek','Delivery Hour','Delivery Interval','Repeated Hour Flag','DayStatus','Temperature in F',\n",
    "                       'Load in Houston', 'Ercot Load','Settlement Point Price']]\n",
    "load.head()"
   ]
  },
  {
   "cell_type": "code",
   "execution_count": 10,
   "metadata": {
    "scrolled": true
   },
   "outputs": [
    {
     "data": {
      "text/html": [
       "<div>\n",
       "<style scoped>\n",
       "    .dataframe tbody tr th:only-of-type {\n",
       "        vertical-align: middle;\n",
       "    }\n",
       "\n",
       "    .dataframe tbody tr th {\n",
       "        vertical-align: top;\n",
       "    }\n",
       "\n",
       "    .dataframe thead th {\n",
       "        text-align: right;\n",
       "    }\n",
       "</style>\n",
       "<table border=\"1\" class=\"dataframe\">\n",
       "  <thead>\n",
       "    <tr style=\"text-align: right;\">\n",
       "      <th></th>\n",
       "      <th>year</th>\n",
       "      <th>month</th>\n",
       "      <th>dayofweek</th>\n",
       "      <th>Delivery Hour</th>\n",
       "      <th>Delivery Interval</th>\n",
       "      <th>Flag</th>\n",
       "      <th>DayStatus</th>\n",
       "      <th>Temperature in F</th>\n",
       "      <th>Load in Houston</th>\n",
       "      <th>Ercot Load</th>\n",
       "      <th>Settlement Point Price</th>\n",
       "    </tr>\n",
       "  </thead>\n",
       "  <tbody>\n",
       "    <tr>\n",
       "      <th>0</th>\n",
       "      <td>2015</td>\n",
       "      <td>1</td>\n",
       "      <td>3</td>\n",
       "      <td>1</td>\n",
       "      <td>1</td>\n",
       "      <td>0</td>\n",
       "      <td>Public Holiday</td>\n",
       "      <td>44</td>\n",
       "      <td>9844</td>\n",
       "      <td>39625</td>\n",
       "      <td>23</td>\n",
       "    </tr>\n",
       "    <tr>\n",
       "      <th>1</th>\n",
       "      <td>2015</td>\n",
       "      <td>1</td>\n",
       "      <td>3</td>\n",
       "      <td>1</td>\n",
       "      <td>2</td>\n",
       "      <td>0</td>\n",
       "      <td>Public Holiday</td>\n",
       "      <td>44</td>\n",
       "      <td>9844</td>\n",
       "      <td>39625</td>\n",
       "      <td>23</td>\n",
       "    </tr>\n",
       "    <tr>\n",
       "      <th>2</th>\n",
       "      <td>2015</td>\n",
       "      <td>1</td>\n",
       "      <td>3</td>\n",
       "      <td>1</td>\n",
       "      <td>3</td>\n",
       "      <td>0</td>\n",
       "      <td>Public Holiday</td>\n",
       "      <td>44</td>\n",
       "      <td>9844</td>\n",
       "      <td>39625</td>\n",
       "      <td>22</td>\n",
       "    </tr>\n",
       "    <tr>\n",
       "      <th>3</th>\n",
       "      <td>2015</td>\n",
       "      <td>1</td>\n",
       "      <td>3</td>\n",
       "      <td>1</td>\n",
       "      <td>4</td>\n",
       "      <td>0</td>\n",
       "      <td>Public Holiday</td>\n",
       "      <td>44</td>\n",
       "      <td>9844</td>\n",
       "      <td>39625</td>\n",
       "      <td>22</td>\n",
       "    </tr>\n",
       "    <tr>\n",
       "      <th>4</th>\n",
       "      <td>2015</td>\n",
       "      <td>1</td>\n",
       "      <td>3</td>\n",
       "      <td>2</td>\n",
       "      <td>1</td>\n",
       "      <td>0</td>\n",
       "      <td>Public Holiday</td>\n",
       "      <td>44</td>\n",
       "      <td>9653</td>\n",
       "      <td>39014</td>\n",
       "      <td>22</td>\n",
       "    </tr>\n",
       "  </tbody>\n",
       "</table>\n",
       "</div>"
      ],
      "text/plain": [
       "   year  month  dayofweek  Delivery Hour  Delivery Interval  Flag  \\\n",
       "0  2015      1          3              1                  1     0   \n",
       "1  2015      1          3              1                  2     0   \n",
       "2  2015      1          3              1                  3     0   \n",
       "3  2015      1          3              1                  4     0   \n",
       "4  2015      1          3              2                  1     0   \n",
       "\n",
       "        DayStatus  Temperature in F  Load in Houston  Ercot Load  \\\n",
       "0  Public Holiday                44             9844       39625   \n",
       "1  Public Holiday                44             9844       39625   \n",
       "2  Public Holiday                44             9844       39625   \n",
       "3  Public Holiday                44             9844       39625   \n",
       "4  Public Holiday                44             9653       39014   \n",
       "\n",
       "   Settlement Point Price  \n",
       "0                      23  \n",
       "1                      23  \n",
       "2                      22  \n",
       "3                      22  \n",
       "4                      22  "
      ]
     },
     "execution_count": 10,
     "metadata": {},
     "output_type": "execute_result"
    }
   ],
   "source": [
    "# Replacing 'N' and 'Y' with '0' and '1' respectively in column \"Repeated Hour Flag\"\n",
    "load = load.rename(columns={\"Repeated Hour Flag\": \"Flag\"})\n",
    "flag = {'N': 0,'Y': 1}  # dictionary\n",
    "load.Flag = [flag[item] for item in load.Flag]\n",
    "load.head()\n"
   ]
  },
  {
   "cell_type": "code",
   "execution_count": 11,
   "metadata": {
    "scrolled": true
   },
   "outputs": [
    {
     "data": {
      "text/html": [
       "<div>\n",
       "<style scoped>\n",
       "    .dataframe tbody tr th:only-of-type {\n",
       "        vertical-align: middle;\n",
       "    }\n",
       "\n",
       "    .dataframe tbody tr th {\n",
       "        vertical-align: top;\n",
       "    }\n",
       "\n",
       "    .dataframe thead th {\n",
       "        text-align: right;\n",
       "    }\n",
       "</style>\n",
       "<table border=\"1\" class=\"dataframe\">\n",
       "  <thead>\n",
       "    <tr style=\"text-align: right;\">\n",
       "      <th></th>\n",
       "      <th>year</th>\n",
       "      <th>month</th>\n",
       "      <th>dayofweek</th>\n",
       "      <th>Delivery Hour</th>\n",
       "      <th>Delivery Interval</th>\n",
       "      <th>Flag</th>\n",
       "      <th>DayStatus</th>\n",
       "      <th>Temperature in F</th>\n",
       "      <th>Load in Houston</th>\n",
       "      <th>Ercot Load</th>\n",
       "      <th>Settlement Point Price</th>\n",
       "    </tr>\n",
       "  </thead>\n",
       "  <tbody>\n",
       "    <tr>\n",
       "      <th>0</th>\n",
       "      <td>2015</td>\n",
       "      <td>1</td>\n",
       "      <td>3</td>\n",
       "      <td>1</td>\n",
       "      <td>1</td>\n",
       "      <td>0</td>\n",
       "      <td>2</td>\n",
       "      <td>44</td>\n",
       "      <td>9844</td>\n",
       "      <td>39625</td>\n",
       "      <td>23</td>\n",
       "    </tr>\n",
       "    <tr>\n",
       "      <th>1</th>\n",
       "      <td>2015</td>\n",
       "      <td>1</td>\n",
       "      <td>3</td>\n",
       "      <td>1</td>\n",
       "      <td>2</td>\n",
       "      <td>0</td>\n",
       "      <td>2</td>\n",
       "      <td>44</td>\n",
       "      <td>9844</td>\n",
       "      <td>39625</td>\n",
       "      <td>23</td>\n",
       "    </tr>\n",
       "    <tr>\n",
       "      <th>2</th>\n",
       "      <td>2015</td>\n",
       "      <td>1</td>\n",
       "      <td>3</td>\n",
       "      <td>1</td>\n",
       "      <td>3</td>\n",
       "      <td>0</td>\n",
       "      <td>2</td>\n",
       "      <td>44</td>\n",
       "      <td>9844</td>\n",
       "      <td>39625</td>\n",
       "      <td>22</td>\n",
       "    </tr>\n",
       "    <tr>\n",
       "      <th>3</th>\n",
       "      <td>2015</td>\n",
       "      <td>1</td>\n",
       "      <td>3</td>\n",
       "      <td>1</td>\n",
       "      <td>4</td>\n",
       "      <td>0</td>\n",
       "      <td>2</td>\n",
       "      <td>44</td>\n",
       "      <td>9844</td>\n",
       "      <td>39625</td>\n",
       "      <td>22</td>\n",
       "    </tr>\n",
       "    <tr>\n",
       "      <th>4</th>\n",
       "      <td>2015</td>\n",
       "      <td>1</td>\n",
       "      <td>3</td>\n",
       "      <td>2</td>\n",
       "      <td>1</td>\n",
       "      <td>0</td>\n",
       "      <td>2</td>\n",
       "      <td>44</td>\n",
       "      <td>9653</td>\n",
       "      <td>39014</td>\n",
       "      <td>22</td>\n",
       "    </tr>\n",
       "  </tbody>\n",
       "</table>\n",
       "</div>"
      ],
      "text/plain": [
       "   year  month  dayofweek  Delivery Hour  Delivery Interval  Flag  DayStatus  \\\n",
       "0  2015      1          3              1                  1     0          2   \n",
       "1  2015      1          3              1                  2     0          2   \n",
       "2  2015      1          3              1                  3     0          2   \n",
       "3  2015      1          3              1                  4     0          2   \n",
       "4  2015      1          3              2                  1     0          2   \n",
       "\n",
       "   Temperature in F  Load in Houston  Ercot Load  Settlement Point Price  \n",
       "0                44             9844       39625                      23  \n",
       "1                44             9844       39625                      23  \n",
       "2                44             9844       39625                      22  \n",
       "3                44             9844       39625                      22  \n",
       "4                44             9653       39014                      22  "
      ]
     },
     "execution_count": 11,
     "metadata": {},
     "output_type": "execute_result"
    }
   ],
   "source": [
    "daystatus = {'Public Holiday': 2, 'Weekday': 0, 'Weekend': 1}   # dictionary\n",
    "load.DayStatus = [daystatus[item] for item in load.DayStatus]\n",
    "load.head()"
   ]
  },
  {
   "cell_type": "code",
   "execution_count": 12,
   "metadata": {},
   "outputs": [
    {
     "data": {
      "text/html": [
       "<div>\n",
       "<style scoped>\n",
       "    .dataframe tbody tr th:only-of-type {\n",
       "        vertical-align: middle;\n",
       "    }\n",
       "\n",
       "    .dataframe tbody tr th {\n",
       "        vertical-align: top;\n",
       "    }\n",
       "\n",
       "    .dataframe thead th {\n",
       "        text-align: right;\n",
       "    }\n",
       "</style>\n",
       "<table border=\"1\" class=\"dataframe\">\n",
       "  <thead>\n",
       "    <tr style=\"text-align: right;\">\n",
       "      <th></th>\n",
       "      <th>year</th>\n",
       "      <th>month</th>\n",
       "      <th>dayofweek</th>\n",
       "      <th>Delivery Hour</th>\n",
       "      <th>Delivery Interval</th>\n",
       "      <th>Flag</th>\n",
       "      <th>DayStatus</th>\n",
       "      <th>Temperature in F</th>\n",
       "      <th>Load in Houston</th>\n",
       "      <th>Ercot Load</th>\n",
       "      <th>Settlement Point Price</th>\n",
       "    </tr>\n",
       "  </thead>\n",
       "  <tbody>\n",
       "    <tr>\n",
       "      <th>0</th>\n",
       "      <td>2015</td>\n",
       "      <td>1</td>\n",
       "      <td>3</td>\n",
       "      <td>1</td>\n",
       "      <td>1</td>\n",
       "      <td>0</td>\n",
       "      <td>2</td>\n",
       "      <td>44</td>\n",
       "      <td>9844</td>\n",
       "      <td>39625</td>\n",
       "      <td>23</td>\n",
       "    </tr>\n",
       "    <tr>\n",
       "      <th>1</th>\n",
       "      <td>2015</td>\n",
       "      <td>1</td>\n",
       "      <td>3</td>\n",
       "      <td>1</td>\n",
       "      <td>2</td>\n",
       "      <td>0</td>\n",
       "      <td>2</td>\n",
       "      <td>44</td>\n",
       "      <td>9844</td>\n",
       "      <td>39625</td>\n",
       "      <td>23</td>\n",
       "    </tr>\n",
       "    <tr>\n",
       "      <th>2</th>\n",
       "      <td>2015</td>\n",
       "      <td>1</td>\n",
       "      <td>3</td>\n",
       "      <td>1</td>\n",
       "      <td>3</td>\n",
       "      <td>0</td>\n",
       "      <td>2</td>\n",
       "      <td>44</td>\n",
       "      <td>9844</td>\n",
       "      <td>39625</td>\n",
       "      <td>22</td>\n",
       "    </tr>\n",
       "    <tr>\n",
       "      <th>3</th>\n",
       "      <td>2015</td>\n",
       "      <td>1</td>\n",
       "      <td>3</td>\n",
       "      <td>1</td>\n",
       "      <td>4</td>\n",
       "      <td>0</td>\n",
       "      <td>2</td>\n",
       "      <td>44</td>\n",
       "      <td>9844</td>\n",
       "      <td>39625</td>\n",
       "      <td>22</td>\n",
       "    </tr>\n",
       "    <tr>\n",
       "      <th>4</th>\n",
       "      <td>2015</td>\n",
       "      <td>1</td>\n",
       "      <td>3</td>\n",
       "      <td>2</td>\n",
       "      <td>1</td>\n",
       "      <td>0</td>\n",
       "      <td>2</td>\n",
       "      <td>44</td>\n",
       "      <td>9653</td>\n",
       "      <td>39014</td>\n",
       "      <td>22</td>\n",
       "    </tr>\n",
       "  </tbody>\n",
       "</table>\n",
       "</div>"
      ],
      "text/plain": [
       "   year  month  dayofweek  Delivery Hour  Delivery Interval  Flag  DayStatus  \\\n",
       "0  2015      1          3              1                  1     0          2   \n",
       "1  2015      1          3              1                  2     0          2   \n",
       "2  2015      1          3              1                  3     0          2   \n",
       "3  2015      1          3              1                  4     0          2   \n",
       "4  2015      1          3              2                  1     0          2   \n",
       "\n",
       "   Temperature in F  Load in Houston  Ercot Load Settlement Point Price  \n",
       "0                44             9844       39625                     23  \n",
       "1                44             9844       39625                     23  \n",
       "2                44             9844       39625                     22  \n",
       "3                44             9844       39625                     22  \n",
       "4                44             9653       39014                     22  "
      ]
     },
     "execution_count": 12,
     "metadata": {},
     "output_type": "execute_result"
    }
   ],
   "source": [
    "# Removing \",\" from columns \"Load in Houston\" , \"Ercot Load\" and \"Settlement Point Price\"\n",
    "#load['Load in Houston'] = load['Load in Houston'].astype(str).replace(r',', '')\n",
    "#load['Ercot Load'] = load['Ercot Load'].astype(str).replace(r',', '')\n",
    "load['Settlement Point Price'] = load['Settlement Point Price'].astype(str).replace(r',', '')\n",
    "load.head()\n"
   ]
  },
  {
   "cell_type": "code",
   "execution_count": 13,
   "metadata": {},
   "outputs": [
    {
     "data": {
      "text/plain": [
       "year                        int64\n",
       "month                       int64\n",
       "dayofweek                   int64\n",
       "Delivery Hour               int64\n",
       "Delivery Interval           int64\n",
       "Flag                        int64\n",
       "DayStatus                   int64\n",
       "Temperature in F          float64\n",
       "Load in Houston             int64\n",
       "Ercot Load                  int64\n",
       "Settlement Point Price    float64\n",
       "dtype: object"
      ]
     },
     "execution_count": 13,
     "metadata": {},
     "output_type": "execute_result"
    }
   ],
   "source": [
    "load['Settlement Point Price'] = load['Settlement Point Price'].astype(float)\n",
    "load['Temperature in F'] = load['Temperature in F'].astype(float)\n",
    "#load['Load in Houston'] = load['Load in Houston'].astype(float)\n",
    "#load['Ercot Load'] = load['Ercot Load'].astype(float)\n",
    "load.dtypes"
   ]
  },
  {
   "cell_type": "code",
   "execution_count": 14,
   "metadata": {},
   "outputs": [
    {
     "data": {
      "image/png": "[encoded data removed]",
      "text/plain": [
       "<Figure size 1800x1080 with 1 Axes>"
      ]
     },
     "metadata": {
      "needs_background": "light"
     },
     "output_type": "display_data"
    }
   ],
   "source": [
    "import matplotlib.pyplot as plt\n",
    "plt.figure(figsize=(25,15))\n",
    "plt.hist(load['Settlement Point Price'], bins = (0,5,10,15,20,25,30,35,40,45,50,55,60))\n",
    "plt.xticks(np.arange(0,61,5))\n",
    "plt.yticks(np.arange(0,70000,3000))\n",
    "plt.xlabel(\"Price\")\n",
    "_ = plt.ylabel(\"Count\")"
   ]
  },
  {
   "cell_type": "code",
   "execution_count": 15,
   "metadata": {},
   "outputs": [
    {
     "data": {
      "image/png": "[encoded data removed]",
      "text/plain": [
       "<Figure size 1800x1080 with 1 Axes>"
      ]
     },
     "metadata": {
      "needs_background": "light"
     },
     "output_type": "display_data"
    }
   ],
   "source": [
    "import matplotlib.pyplot as plt\n",
    "plt.figure(figsize=(25,15))\n",
    "plt.hist(load['Load in Houston'])\n",
    "#plt.xticks(np.arange(0,61,5))\n",
    "plt.yticks(np.arange(0,70000,3000))\n",
    "plt.xlabel(\"Price\")\n",
    "_ = plt.ylabel(\"Count\")"
   ]
  },
  {
   "cell_type": "code",
   "execution_count": 16,
   "metadata": {},
   "outputs": [],
   "source": [
    "import numpy as np\n",
    "from sklearn.preprocessing import QuantileTransformer, OneHotEncoder\n",
    "from sklearn.compose import make_column_transformer\n",
    "from sklearn.compose import make_column_selector\n",
    "def norm(x):\n",
    "    ct = make_column_transformer((OneHotEncoder(sparse=False),make_column_selector(pattern = 'year')),\n",
    "                                 (OneHotEncoder(sparse=False),make_column_selector(pattern = 'month')),\n",
    "                             (OneHotEncoder(sparse=False),make_column_selector(pattern = 'dayofweek')),\n",
    "                             (OneHotEncoder(sparse=False),make_column_selector(pattern = 'Delivery Hour')),\n",
    "                             (OneHotEncoder(sparse=False),make_column_selector(pattern = 'Delivery Interval')),\n",
    "                             (OneHotEncoder(sparse=False),make_column_selector(pattern = 'Flag')),\n",
    "                             (OneHotEncoder(sparse=False),make_column_selector(pattern = 'DayStatus')),\n",
    "                             (QuantileTransformer(copy=True), make_column_selector(pattern = 'Temperature in F')),\n",
    "                             (QuantileTransformer(copy=True), make_column_selector(pattern = 'Load in Houston')),\n",
    "                             (QuantileTransformer(copy=True), make_column_selector(pattern = 'Ercot Load')),\n",
    "                                remainder = 'passthrough')\n",
    "                             #((copy=True), make_column_selector(pattern = 'Settlement Point Price')))\n",
    "    normed_data = ct.fit_transform(x)\n",
    "    return(normed_data) "
   ]
  },
  {
   "cell_type": "code",
   "execution_count": 17,
   "metadata": {},
   "outputs": [
    {
     "data": {
      "text/plain": [
       "array([[ 1.        ,  0.        ,  0.        , ...,  0.18678679,\n",
       "         0.50280725, 23.        ],\n",
       "       [ 1.        ,  0.        ,  0.        , ...,  0.18678679,\n",
       "         0.50280725, 23.        ],\n",
       "       [ 1.        ,  0.        ,  0.        , ...,  0.18678679,\n",
       "         0.50280725, 22.        ],\n",
       "       ...,\n",
       "       [ 0.        ,  0.        ,  0.        , ...,  0.21696697,\n",
       "         0.37517518, 12.        ],\n",
       "       [ 0.        ,  0.        ,  0.        , ...,  0.21696697,\n",
       "         0.37517518, 13.        ],\n",
       "       [ 0.        ,  0.        ,  0.        , ...,  0.21696697,\n",
       "         0.37517518, 12.        ]])"
      ]
     },
     "execution_count": 17,
     "metadata": {},
     "output_type": "execute_result"
    }
   ],
   "source": [
    "normed_data = norm(load)\n",
    "normed_data"
   ]
  },
  {
   "cell_type": "code",
   "execution_count": 18,
   "metadata": {},
   "outputs": [
    {
     "name": "stdout",
     "output_type": "stream",
     "text": [
      "(120747, 61) (13417, 61)\n"
     ]
    }
   ],
   "source": [
    "from sklearn.model_selection import train_test_split\n",
    "\n",
    "# splitting dataset into 'training dataset' and 'validation and test dataset'\n",
    "Train, Test = train_test_split(normed_data, test_size=0.1, shuffle = False)\n",
    "\n",
    "print(Train.shape, Test.shape)"
   ]
  },
  {
   "cell_type": "code",
   "execution_count": 19,
   "metadata": {
    "scrolled": true
   },
   "outputs": [
    {
     "data": {
      "text/plain": [
       "array([ 0.        ,  0.        ,  0.        ,  0.        ,  1.        ,\n",
       "        0.        ,  0.        ,  0.        ,  0.        ,  0.        ,\n",
       "        0.        ,  0.        ,  1.        ,  0.        ,  0.        ,\n",
       "        0.        ,  0.        ,  0.        ,  0.        ,  0.        ,\n",
       "        0.        ,  1.        ,  0.        ,  0.        ,  0.        ,\n",
       "        0.        ,  0.        ,  0.        ,  0.        ,  0.        ,\n",
       "        0.        ,  0.        ,  0.        ,  0.        ,  0.        ,\n",
       "        0.        ,  0.        ,  0.        ,  0.        ,  0.        ,\n",
       "        0.        ,  0.        ,  0.        ,  0.        ,  0.        ,\n",
       "        0.        ,  1.        ,  0.        ,  1.        ,  0.        ,\n",
       "        0.        ,  0.        ,  1.        ,  0.        ,  1.        ,\n",
       "        0.        ,  0.        ,  0.98898899,  0.88388388,  0.89965565,\n",
       "       21.        ])"
      ]
     },
     "execution_count": 19,
     "metadata": {},
     "output_type": "execute_result"
    }
   ],
   "source": [
    "Test[0]"
   ]
  },
  {
   "cell_type": "code",
   "execution_count": 20,
   "metadata": {},
   "outputs": [],
   "source": [
    "train_labels = Train[:,(Train.shape[1]-1)]"
   ]
  },
  {
   "cell_type": "code",
   "execution_count": 21,
   "metadata": {},
   "outputs": [],
   "source": [
    "test_labels = Test[:,(Test.shape[1]-1)]"
   ]
  },
  {
   "cell_type": "code",
   "execution_count": 22,
   "metadata": {},
   "outputs": [
    {
     "name": "stdout",
     "output_type": "stream",
     "text": [
      "(120747,) (13417,)\n"
     ]
    }
   ],
   "source": [
    "print(train_labels.shape, test_labels.shape)"
   ]
  },
  {
   "cell_type": "code",
   "execution_count": 23,
   "metadata": {},
   "outputs": [
    {
     "data": {
      "text/plain": [
       "array([23., 23., 22., ..., 24., 22., 22.])"
      ]
     },
     "execution_count": 23,
     "metadata": {},
     "output_type": "execute_result"
    }
   ],
   "source": [
    "train_labels"
   ]
  },
  {
   "cell_type": "code",
   "execution_count": 24,
   "metadata": {},
   "outputs": [
    {
     "data": {
      "text/plain": [
       "array([21., 20., 19., ..., 12., 13., 12.])"
      ]
     },
     "execution_count": 24,
     "metadata": {},
     "output_type": "execute_result"
    }
   ],
   "source": [
    "test_labels"
   ]
  },
  {
   "cell_type": "code",
   "execution_count": 25,
   "metadata": {},
   "outputs": [
    {
     "data": {
      "text/plain": [
       "array([1.        , 0.        , 0.        , 0.        , 0.        ,\n",
       "       1.        , 0.        , 0.        , 0.        , 0.        ,\n",
       "       0.        , 0.        , 0.        , 0.        , 0.        ,\n",
       "       0.        , 0.        , 0.        , 0.        , 0.        ,\n",
       "       1.        , 0.        , 0.        , 0.        , 1.        ,\n",
       "       0.        , 0.        , 0.        , 0.        , 0.        ,\n",
       "       0.        , 0.        , 0.        , 0.        , 0.        ,\n",
       "       0.        , 0.        , 0.        , 0.        , 0.        ,\n",
       "       0.        , 0.        , 0.        , 0.        , 0.        ,\n",
       "       0.        , 0.        , 0.        , 1.        , 0.        ,\n",
       "       0.        , 0.        , 1.        , 0.        , 0.        ,\n",
       "       0.        , 1.        , 0.06606607, 0.18678679, 0.50280725])"
      ]
     },
     "execution_count": 25,
     "metadata": {},
     "output_type": "execute_result"
    }
   ],
   "source": [
    "Xtrain = Train[:,0:(Train.shape[1]-1)]\n",
    "Xtrain[0]"
   ]
  },
  {
   "cell_type": "code",
   "execution_count": 26,
   "metadata": {},
   "outputs": [
    {
     "data": {
      "text/plain": [
       "array([0.        , 0.        , 0.        , 0.        , 1.        ,\n",
       "       0.        , 0.        , 0.        , 0.        , 0.        ,\n",
       "       0.        , 0.        , 1.        , 0.        , 0.        ,\n",
       "       0.        , 0.        , 0.        , 0.        , 0.        ,\n",
       "       0.        , 1.        , 0.        , 0.        , 0.        ,\n",
       "       0.        , 0.        , 0.        , 0.        , 0.        ,\n",
       "       0.        , 0.        , 0.        , 0.        , 0.        ,\n",
       "       0.        , 0.        , 0.        , 0.        , 0.        ,\n",
       "       0.        , 0.        , 0.        , 0.        , 0.        ,\n",
       "       0.        , 1.        , 0.        , 1.        , 0.        ,\n",
       "       0.        , 0.        , 1.        , 0.        , 1.        ,\n",
       "       0.        , 0.        , 0.98898899, 0.88388388, 0.89965565])"
      ]
     },
     "execution_count": 26,
     "metadata": {},
     "output_type": "execute_result"
    }
   ],
   "source": [
    "Xtest = Test[:,0:(Test.shape[1]-1)]\n",
    "Xtest[0]"
   ]
  },
  {
   "cell_type": "code",
   "execution_count": 27,
   "metadata": {},
   "outputs": [],
   "source": [
    "import tensorflow as tf\n",
    "\n",
    "from tensorflow import keras\n",
    "from tensorflow.keras import layers\n",
    "from tensorflow.keras import optimizers\n"
   ]
  },
  {
   "cell_type": "code",
   "execution_count": 28,
   "metadata": {},
   "outputs": [],
   "source": [
    "model = keras.Sequential([\n",
    "    layers.Dense(64, activation='relu', input_shape=[Xtrain.shape[1],]),\n",
    "    layers.Dense(32, activation='relu'),\n",
    "    layers.Dense(1)\n",
    "  ])"
   ]
  },
  {
   "cell_type": "code",
   "execution_count": 29,
   "metadata": {},
   "outputs": [],
   "source": [
    "optimizer = optimizers.Adam()"
   ]
  },
  {
   "cell_type": "code",
   "execution_count": 30,
   "metadata": {},
   "outputs": [],
   "source": [
    "model.compile(loss='mse',\n",
    "                optimizer=optimizer,\n",
    "                metrics=['mae', 'mse'])"
   ]
  },
  {
   "cell_type": "code",
   "execution_count": 31,
   "metadata": {},
   "outputs": [
    {
     "name": "stdout",
     "output_type": "stream",
     "text": [
      "Model: \"sequential\"\n",
      "_________________________________________________________________\n",
      "Layer (type)                 Output Shape              Param #   \n",
      "=================================================================\n",
      "dense (Dense)                (None, 64)                3904      \n",
      "_________________________________________________________________\n",
      "dense_1 (Dense)              (None, 32)                2080      \n",
      "_________________________________________________________________\n",
      "dense_2 (Dense)              (None, 1)                 33        \n",
      "=================================================================\n",
      "Total params: 6,017\n",
      "Trainable params: 6,017\n",
      "Non-trainable params: 0\n",
      "_________________________________________________________________\n"
     ]
    }
   ],
   "source": [
    "model.summary()"
   ]
  },
  {
   "cell_type": "code",
   "execution_count": 32,
   "metadata": {},
   "outputs": [],
   "source": [
    "early_stop = keras.callbacks.EarlyStopping(monitor='val_loss', patience=5)"
   ]
  },
  {
   "cell_type": "code",
   "execution_count": 33,
   "metadata": {},
   "outputs": [
    {
     "data": {
      "text/plain": [
       "array([[-0.1346207 ],\n",
       "       [ 0.09943003],\n",
       "       [ 0.00427875],\n",
       "       [-0.00610352],\n",
       "       [-0.10773894],\n",
       "       [ 0.21247992],\n",
       "       [ 0.06694272],\n",
       "       [ 0.11002951],\n",
       "       [-0.20964174],\n",
       "       [ 0.17412716]], dtype=float32)"
      ]
     },
     "execution_count": 33,
     "metadata": {},
     "output_type": "execute_result"
    }
   ],
   "source": [
    "example_batch= Xtrain[:10]\n",
    "example_result = model.predict(example_batch)\n",
    "example_result"
   ]
  },
  {
   "cell_type": "code",
   "execution_count": 34,
   "metadata": {},
   "outputs": [
    {
     "name": "stdout",
     "output_type": "stream",
     "text": [
      "2020-09-22 00:17:06.108671\n"
     ]
    }
   ],
   "source": [
    "import datetime\n",
    "print(datetime.datetime.now())"
   ]
  },
  {
   "cell_type": "code",
   "execution_count": 35,
   "metadata": {},
   "outputs": [
    {
     "name": "stdout",
     "output_type": "stream",
     "text": [
      "Train on 108672 samples, validate on 12075 samples\n",
      "Epoch 1/1000\n",
      "108672/108672 [==============================] - 7s 67us/sample - loss: 43.8804 - mae: 4.1864 - mse: 43.8804 - val_loss: 65.0758 - val_mae: 6.3270 - val_mse: 65.0758\n",
      "Epoch 2/1000\n",
      "108672/108672 [==============================] - 7s 65us/sample - loss: 35.2329 - mae: 3.7248 - mse: 35.2329 - val_loss: 62.3889 - val_mae: 6.2985 - val_mse: 62.3889\n",
      "Epoch 3/1000\n",
      "108672/108672 [==============================] - 7s 68us/sample - loss: 34.1276 - mae: 3.6519 - mse: 34.1276 - val_loss: 73.6451 - val_mae: 7.0470 - val_mse: 73.6451\n",
      "Epoch 4/1000\n",
      "108672/108672 [==============================] - 7s 66us/sample - loss: 33.4985 - mae: 3.6040 - mse: 33.4985 - val_loss: 84.3758 - val_mae: 7.6113 - val_mse: 84.3758\n",
      "Epoch 5/1000\n",
      "108672/108672 [==============================] - 7s 68us/sample - loss: 32.9649 - mae: 3.5599 - mse: 32.9649 - val_loss: 85.3205 - val_mae: 7.6625 - val_mse: 85.3204\n",
      "Epoch 6/1000\n",
      "108672/108672 [==============================] - 7s 65us/sample - loss: 32.5148 - mae: 3.5241 - mse: 32.5148 - val_loss: 82.0085 - val_mae: 7.4866 - val_mse: 82.0085\n",
      "Epoch 7/1000\n",
      "108672/108672 [==============================] - 7s 67us/sample - loss: 32.1282 - mae: 3.4964 - mse: 32.1282 - val_loss: 79.2964 - val_mae: 7.3251 - val_mse: 79.2964\n"
     ]
    }
   ],
   "source": [
    "EPOCHS = 1000\n",
    "\n",
    "history = model.fit(\n",
    "  Xtrain, train_labels,\n",
    "  epochs=EPOCHS, validation_split=0.1, shuffle = False, verbose=1, \n",
    "    callbacks=[early_stop])"
   ]
  },
  {
   "cell_type": "code",
   "execution_count": 36,
   "metadata": {},
   "outputs": [
    {
     "name": "stdout",
     "output_type": "stream",
     "text": [
      "2020-09-22 00:17:56.920515\n"
     ]
    }
   ],
   "source": [
    "import datetime\n",
    "c=datetime.datetime.now()\n",
    "print(c)"
   ]
  },
  {
   "cell_type": "code",
   "execution_count": 37,
   "metadata": {},
   "outputs": [
    {
     "data": {
      "image/png": "[encoded data removed]",
      "text/plain": [
       "<Figure size 432x288 with 1 Axes>"
      ]
     },
     "metadata": {
      "needs_background": "light"
     },
     "output_type": "display_data"
    }
   ],
   "source": [
    "import matplotlib.pyplot as plt\n",
    "plt.plot(history.history['loss'])\n",
    "plt.plot(history.history['val_loss'])\n",
    "plt.title('model loss')\n",
    "plt.ylabel('loss')\n",
    "plt.xlabel('epoch')\n",
    "plt.legend(['train', 'validation'], loc='upper left')\n",
    "plt.show()"
   ]
  },
  {
   "cell_type": "code",
   "execution_count": 38,
   "metadata": {
    "scrolled": true
   },
   "outputs": [
    {
     "data": {
      "image/png": "[encoded data removed]",
      "text/plain": [
       "<Figure size 1080x720 with 1 Axes>"
      ]
     },
     "metadata": {
      "needs_background": "light"
     },
     "output_type": "display_data"
    }
   ],
   "source": [
    "test_predictions = model.predict(Xtest).flatten()\n",
    "plt.figure(figsize=(15,10))\n",
    "a = plt.axes(aspect='equal')\n",
    "plt.scatter(test_labels, test_predictions)\n",
    "plt.xlabel('True Value')\n",
    "plt.ylabel('Predictions')\n",
    "lims = [0,200]\n",
    "plt.xlim(lims)\n",
    "plt.ylim(lims)\n",
    "_ = plt.plot(lims, lims)"
   ]
  },
  {
   "cell_type": "code",
   "execution_count": 39,
   "metadata": {},
   "outputs": [
    {
     "name": "stdout",
     "output_type": "stream",
     "text": [
      "[[0.         0.         0.         0.         1.         0.\n",
      "  0.         0.         0.         0.         0.         0.\n",
      "  1.         0.         0.         0.         0.         0.\n",
      "  0.         0.         0.         1.         0.         0.\n",
      "  0.         0.         0.         0.         0.         0.\n",
      "  0.         0.         0.         0.         0.         0.\n",
      "  0.         0.         0.         0.         0.         0.\n",
      "  0.         0.         0.         0.         1.         0.\n",
      "  1.         0.         0.         0.         1.         0.\n",
      "  1.         0.         0.         0.98898899 0.88388388 0.89965565]] 21.0 [[28.927185]]\n"
     ]
    }
   ],
   "source": [
    "import numpy as np\n",
    "a= Xtest[0, 0:Xtest.shape[1]]\n",
    "b= test_labels[0]\n",
    "a.shape\n",
    "a = np.reshape(a, (1,Xtest.shape[1]))\n",
    "test_prediction = model.predict(a)\n",
    "print(a, b, test_prediction)"
   ]
  },
  {
   "cell_type": "code",
   "execution_count": 40,
   "metadata": {},
   "outputs": [
    {
     "name": "stdout",
     "output_type": "stream",
     "text": [
      "[28.927189 28.363907 27.54639  ... 22.325432 21.893166 21.475372] [21. 20. 19. ... 12. 13. 12.] [ 7.92718887  8.36390686  8.54639053 ... 10.32543182  8.89316559\n",
      "  9.47537231]\n"
     ]
    },
    {
     "data": {
      "image/png": "[encoded data removed]",
      "text/plain": [
       "<Figure size 1800x1080 with 1 Axes>"
      ]
     },
     "metadata": {
      "needs_background": "light"
     },
     "output_type": "display_data"
    }
   ],
   "source": [
    "error = test_predictions - test_labels\n",
    "plt.figure(figsize=(25,15))\n",
    "plt.hist(error, bins = 50)\n",
    "plt.xlabel(\"Prediction Error\")\n",
    "_ = plt.ylabel(\"Count\")\n",
    "print(test_predictions, test_labels, error)"
   ]
  },
  {
   "cell_type": "code",
   "execution_count": 41,
   "metadata": {},
   "outputs": [
    {
     "name": "stdout",
     "output_type": "stream",
     "text": [
      "4815\n"
     ]
    }
   ],
   "source": [
    "i=0\n",
    "count=0\n",
    "for i in range(len(error)):\n",
    "    if ((error[i])>10) or ((error[i]<-10)):\n",
    "        count=count+1\n",
    "print(count)"
   ]
  },
  {
   "cell_type": "code",
   "execution_count": 42,
   "metadata": {},
   "outputs": [
    {
     "name": "stdout",
     "output_type": "stream",
     "text": [
      "accuracy: 64.1126928523515\n"
     ]
    }
   ],
   "source": [
    "a = len(test_predictions) - count\n",
    "a\n",
    "accuracy = (a/len(test_predictions))*100\n",
    "print('accuracy:', accuracy)"
   ]
  },
  {
   "cell_type": "code",
   "execution_count": 43,
   "metadata": {},
   "outputs": [
    {
     "name": "stdout",
     "output_type": "stream",
     "text": [
      "Mean of error in test data: 7.24869654691636\n",
      "Standard deviation of error in test data: 6.464535691494438\n"
     ]
    }
   ],
   "source": [
    "from statistics import mean, stdev\n",
    "print('Mean of error in test data:', mean(error))\n",
    "print('Standard deviation of error in test data:', stdev(error))"
   ]
  },
  {
   "cell_type": "code",
   "execution_count": 44,
   "metadata": {},
   "outputs": [
    {
     "name": "stdout",
     "output_type": "stream",
     "text": [
      "Mean of test data: 20.905343966609525\n",
      "Standard deviation of test data: 8.246797804833701\n"
     ]
    }
   ],
   "source": [
    "from statistics import mean, stdev\n",
    "print('Mean of test data:', mean(test_labels))\n",
    "print('Standard deviation of test data:', stdev(test_labels))"
   ]
  },
  {
   "cell_type": "code",
   "execution_count": 45,
   "metadata": {},
   "outputs": [
    {
     "name": "stdout",
     "output_type": "stream",
     "text": [
      "2020-09-22 00:17:57.968712\n"
     ]
    }
   ],
   "source": [
    "import datetime\n",
    "stop=datetime.datetime.now()\n",
    "print(stop)"
   ]
  },
  {
   "cell_type": "code",
   "execution_count": 46,
   "metadata": {},
   "outputs": [
    {
     "name": "stdout",
     "output_type": "stream",
     "text": [
      "0:01:38.959154\n"
     ]
    }
   ],
   "source": [
    "print(stop-start)"
   ]
  },
  {
   "cell_type": "code",
   "execution_count": 47,
   "metadata": {},
   "outputs": [
    {
     "name": "stdout",
     "output_type": "stream",
     "text": [
      "accuracy: for threshold of 1 $: 2.12\n",
      "accuracy: for threshold of 2 $: 5.02\n",
      "accuracy: for threshold of 3 $: 8.67\n",
      "accuracy: for threshold of 4 $: 12.82\n",
      "accuracy: for threshold of 5 $: 17.83\n",
      "accuracy: for threshold of 6 $: 24.83\n",
      "accuracy: for threshold of 7 $: 33.34\n",
      "accuracy: for threshold of 8 $: 43.35\n",
      "accuracy: for threshold of 9 $: 53.80\n",
      "accuracy: for threshold of 10 $: 64.11\n"
     ]
    }
   ],
   "source": [
    "j=1\n",
    "for j in range(1,11):\n",
    "    i=0\n",
    "    count=0\n",
    "    for i in range(len(error)):\n",
    "        if ((error[i])>j) or ((error[i]<-j)):\n",
    "            count=count+1\n",
    "    a = len(test_predictions) - count\n",
    "    accuracy = (a/len(test_predictions))*100\n",
    "    print('accuracy: for threshold of %i'%j,'$: %.2f'%accuracy)"
   ]
  },
  {
   "cell_type": "code",
   "execution_count": null,
   "metadata": {},
   "outputs": [],
   "source": []
  }
 ],
 "metadata": {
  "kernelspec": {
   "display_name": "Python 3 (ipykernel)",
   "language": "python",
   "name": "python3"
  },
  "language_info": {
   "codemirror_mode": {
    "name": "ipython",
    "version": 3
   },
   "file_extension": ".py",
   "mimetype": "text/x-python",
   "name": "python",
   "nbconvert_exporter": "python",
   "pygments_lexer": "ipython3",
   "version": "3.7.11"
  }
 },
 "nbformat": 4,
 "nbformat_minor": 4
}
