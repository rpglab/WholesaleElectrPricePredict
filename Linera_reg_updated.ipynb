{
 "cells": [
  {
   "cell_type": "code",
   "execution_count": 43,
   "metadata": {},
   "outputs": [
    {
     "name": "stdout",
     "output_type": "stream",
     "text": [
      "2021-12-03 00:08:53.807581\n"
     ]
    }
   ],
   "source": [
    "import numpy as np\n",
    "import datetime\n",
    "start=datetime.datetime.now()\n",
    "print(start)"
   ]
  },
  {
   "cell_type": "code",
   "execution_count": 44,
   "metadata": {},
   "outputs": [
    {
     "name": "stdout",
     "output_type": "stream",
     "text": [
      "C:\\Users\\tmj89\\Desktop\\Codes\n"
     ]
    }
   ],
   "source": [
    "import os\n",
    "cwd = os.getcwd()\n",
    "print(cwd)"
   ]
  },
  {
   "cell_type": "code",
   "execution_count": 45,
   "metadata": {},
   "outputs": [],
   "source": [
    "# -*- coding: utf-8 -*-\n",
    "import pandas as pd\n",
    "load = pd.read_csv(r'C:\\Users\\tmj89\\Desktop\\Codes\\dataset_train_4_0to200.csv')"
   ]
  },
  {
   "cell_type": "code",
   "execution_count": 46,
   "metadata": {
    "scrolled": true
   },
   "outputs": [
    {
     "data": {
      "text/plain": [
       "<bound method NDFrame.head of       Delivery Date  Delivery Hour Repeated Hour Flag Settlement Point Name  \\\n",
       "0          1/1/2015              1                  N            LZ_HOUSTON   \n",
       "1          1/1/2015              2                  N            LZ_HOUSTON   \n",
       "2          1/1/2015              3                  N            LZ_HOUSTON   \n",
       "3          1/1/2015              4                  N            LZ_HOUSTON   \n",
       "4          1/1/2015              5                  N            LZ_HOUSTON   \n",
       "...             ...            ...                ...                   ...   \n",
       "34633    12/31/2018             20                  N            LZ_HOUSTON   \n",
       "34634    12/31/2018             21                  N            LZ_HOUSTON   \n",
       "34635    12/31/2018             22                  N            LZ_HOUSTON   \n",
       "34636    12/31/2018             23                  N            LZ_HOUSTON   \n",
       "34637    12/31/2018             24                  N            LZ_HOUSTON   \n",
       "\n",
       "      Settlement Point Type       DayStatus  Temperature in F  \\\n",
       "0                        LZ  Public Holiday                44   \n",
       "1                        LZ  Public Holiday                44   \n",
       "2                        LZ  Public Holiday                44   \n",
       "3                        LZ  Public Holiday                44   \n",
       "4                        LZ  Public Holiday                44   \n",
       "...                     ...             ...               ...   \n",
       "34633                    LZ         Weekday                54   \n",
       "34634                    LZ         Weekday                55   \n",
       "34635                    LZ         Weekday                55   \n",
       "34636                    LZ         Weekday                55   \n",
       "34637                    LZ         Weekday                55   \n",
       "\n",
       "       Load in Houston  Settlement Point Price  \n",
       "0              9844.20                   22.47  \n",
       "1              9653.46                   22.31  \n",
       "2              9502.30                   22.20  \n",
       "3              9474.48                   22.13  \n",
       "4              9554.37                   22.16  \n",
       "...                ...                     ...  \n",
       "34633         10846.18                   21.45  \n",
       "34634         10574.06                   18.50  \n",
       "34635         10389.92                   16.04  \n",
       "34636         10179.72                   16.39  \n",
       "34637         10008.27                   15.38  \n",
       "\n",
       "[34638 rows x 9 columns]>"
      ]
     },
     "execution_count": 46,
     "metadata": {},
     "output_type": "execute_result"
    }
   ],
   "source": [
    "load.head"
   ]
  },
  {
   "cell_type": "code",
   "execution_count": 47,
   "metadata": {},
   "outputs": [
    {
     "data": {
      "text/plain": [
       "0        3\n",
       "1        3\n",
       "2        3\n",
       "3        3\n",
       "4        3\n",
       "        ..\n",
       "34633    0\n",
       "34634    0\n",
       "34635    0\n",
       "34636    0\n",
       "34637    0\n",
       "Name: dayofweek, Length: 34638, dtype: int64"
      ]
     },
     "execution_count": 47,
     "metadata": {},
     "output_type": "execute_result"
    }
   ],
   "source": [
    "load.dtypes\n",
    "\n",
    "import datetime\n",
    "load['year'] = pd.DatetimeIndex(load['Delivery Date']).year\n",
    "load['day'] = pd.DatetimeIndex(load['Delivery Date']).day# Extracting Day from \"Delivery Date\"\n",
    "load['month'] = pd.DatetimeIndex(load['Delivery Date']).month   # Extracting Month from \"Delivery Date\"\n",
    "\n",
    "\n",
    "a = load['Delivery Date']\n",
    "a= pd.to_datetime(a)\n",
    "\n",
    "load['dayofweek'] = a.dt.dayofweek\n",
    "load['dayofweek']"
   ]
  },
  {
   "cell_type": "code",
   "execution_count": null,
   "metadata": {},
   "outputs": [],
   "source": []
  },
  {
   "cell_type": "code",
   "execution_count": 48,
   "metadata": {},
   "outputs": [
    {
     "data": {
      "text/html": [
       "<div>\n",
       "<style scoped>\n",
       "    .dataframe tbody tr th:only-of-type {\n",
       "        vertical-align: middle;\n",
       "    }\n",
       "\n",
       "    .dataframe tbody tr th {\n",
       "        vertical-align: top;\n",
       "    }\n",
       "\n",
       "    .dataframe thead th {\n",
       "        text-align: right;\n",
       "    }\n",
       "</style>\n",
       "<table border=\"1\" class=\"dataframe\">\n",
       "  <thead>\n",
       "    <tr style=\"text-align: right;\">\n",
       "      <th></th>\n",
       "      <th>dayofweek</th>\n",
       "      <th>month</th>\n",
       "      <th>Delivery Hour</th>\n",
       "      <th>Temperature in F</th>\n",
       "      <th>Load in Houston</th>\n",
       "      <th>Settlement Point Price</th>\n",
       "    </tr>\n",
       "    <tr>\n",
       "      <th>Delivery Date</th>\n",
       "      <th></th>\n",
       "      <th></th>\n",
       "      <th></th>\n",
       "      <th></th>\n",
       "      <th></th>\n",
       "      <th></th>\n",
       "    </tr>\n",
       "  </thead>\n",
       "  <tbody>\n",
       "    <tr>\n",
       "      <th>1/1/2015</th>\n",
       "      <td>3</td>\n",
       "      <td>1</td>\n",
       "      <td>1</td>\n",
       "      <td>44</td>\n",
       "      <td>9844.20</td>\n",
       "      <td>22.47</td>\n",
       "    </tr>\n",
       "    <tr>\n",
       "      <th>1/1/2015</th>\n",
       "      <td>3</td>\n",
       "      <td>1</td>\n",
       "      <td>2</td>\n",
       "      <td>44</td>\n",
       "      <td>9653.46</td>\n",
       "      <td>22.31</td>\n",
       "    </tr>\n",
       "    <tr>\n",
       "      <th>1/1/2015</th>\n",
       "      <td>3</td>\n",
       "      <td>1</td>\n",
       "      <td>3</td>\n",
       "      <td>44</td>\n",
       "      <td>9502.30</td>\n",
       "      <td>22.20</td>\n",
       "    </tr>\n",
       "    <tr>\n",
       "      <th>1/1/2015</th>\n",
       "      <td>3</td>\n",
       "      <td>1</td>\n",
       "      <td>4</td>\n",
       "      <td>44</td>\n",
       "      <td>9474.48</td>\n",
       "      <td>22.13</td>\n",
       "    </tr>\n",
       "    <tr>\n",
       "      <th>1/1/2015</th>\n",
       "      <td>3</td>\n",
       "      <td>1</td>\n",
       "      <td>5</td>\n",
       "      <td>44</td>\n",
       "      <td>9554.37</td>\n",
       "      <td>22.16</td>\n",
       "    </tr>\n",
       "  </tbody>\n",
       "</table>\n",
       "</div>"
      ],
      "text/plain": [
       "               dayofweek  month  Delivery Hour  Temperature in F  \\\n",
       "Delivery Date                                                      \n",
       "1/1/2015               3      1              1                44   \n",
       "1/1/2015               3      1              2                44   \n",
       "1/1/2015               3      1              3                44   \n",
       "1/1/2015               3      1              4                44   \n",
       "1/1/2015               3      1              5                44   \n",
       "\n",
       "               Load in Houston  Settlement Point Price  \n",
       "Delivery Date                                           \n",
       "1/1/2015               9844.20                   22.47  \n",
       "1/1/2015               9653.46                   22.31  \n",
       "1/1/2015               9502.30                   22.20  \n",
       "1/1/2015               9474.48                   22.13  \n",
       "1/1/2015               9554.37                   22.16  "
      ]
     },
     "execution_count": 48,
     "metadata": {},
     "output_type": "execute_result"
    }
   ],
   "source": [
    "load = load.set_index(['Delivery Date']) \n",
    "load = load.drop(columns=['year','day','Settlement Point Name','Settlement Point Type'], axis=1)  \n",
    "# Re-arranging Columns\n",
    "load = load[['dayofweek','month','Delivery Hour','Temperature in F','Load in Houston', 'Settlement Point Price']]\n",
    "load.head()"
   ]
  },
  {
   "cell_type": "code",
   "execution_count": 49,
   "metadata": {},
   "outputs": [
    {
     "data": {
      "text/plain": [
       "dayofweek                   int64\n",
       "month                       int64\n",
       "Delivery Hour               int64\n",
       "Temperature in F            int64\n",
       "Load in Houston           float64\n",
       "Settlement Point Price    float64\n",
       "dtype: object"
      ]
     },
     "execution_count": 49,
     "metadata": {},
     "output_type": "execute_result"
    }
   ],
   "source": [
    "load.dtypes"
   ]
  },
  {
   "cell_type": "code",
   "execution_count": null,
   "metadata": {
    "scrolled": true
   },
   "outputs": [],
   "source": []
  },
  {
   "cell_type": "code",
   "execution_count": 50,
   "metadata": {
    "scrolled": true
   },
   "outputs": [
    {
     "data": {
      "text/html": [
       "<div>\n",
       "<style scoped>\n",
       "    .dataframe tbody tr th:only-of-type {\n",
       "        vertical-align: middle;\n",
       "    }\n",
       "\n",
       "    .dataframe tbody tr th {\n",
       "        vertical-align: top;\n",
       "    }\n",
       "\n",
       "    .dataframe thead th {\n",
       "        text-align: right;\n",
       "    }\n",
       "</style>\n",
       "<table border=\"1\" class=\"dataframe\">\n",
       "  <thead>\n",
       "    <tr style=\"text-align: right;\">\n",
       "      <th></th>\n",
       "      <th>dayofweek</th>\n",
       "      <th>month</th>\n",
       "      <th>Delivery Hour</th>\n",
       "      <th>Temperature in F</th>\n",
       "      <th>Load in Houston</th>\n",
       "      <th>Settlement Point Price</th>\n",
       "    </tr>\n",
       "    <tr>\n",
       "      <th>Delivery Date</th>\n",
       "      <th></th>\n",
       "      <th></th>\n",
       "      <th></th>\n",
       "      <th></th>\n",
       "      <th></th>\n",
       "      <th></th>\n",
       "    </tr>\n",
       "  </thead>\n",
       "  <tbody>\n",
       "    <tr>\n",
       "      <th>1/1/2015</th>\n",
       "      <td>3</td>\n",
       "      <td>1</td>\n",
       "      <td>1</td>\n",
       "      <td>44</td>\n",
       "      <td>9844.2</td>\n",
       "      <td>22.47</td>\n",
       "    </tr>\n",
       "    <tr>\n",
       "      <th>1/1/2015</th>\n",
       "      <td>3</td>\n",
       "      <td>1</td>\n",
       "      <td>2</td>\n",
       "      <td>44</td>\n",
       "      <td>9653.46</td>\n",
       "      <td>22.31</td>\n",
       "    </tr>\n",
       "    <tr>\n",
       "      <th>1/1/2015</th>\n",
       "      <td>3</td>\n",
       "      <td>1</td>\n",
       "      <td>3</td>\n",
       "      <td>44</td>\n",
       "      <td>9502.3</td>\n",
       "      <td>22.2</td>\n",
       "    </tr>\n",
       "    <tr>\n",
       "      <th>1/1/2015</th>\n",
       "      <td>3</td>\n",
       "      <td>1</td>\n",
       "      <td>4</td>\n",
       "      <td>44</td>\n",
       "      <td>9474.48</td>\n",
       "      <td>22.13</td>\n",
       "    </tr>\n",
       "    <tr>\n",
       "      <th>1/1/2015</th>\n",
       "      <td>3</td>\n",
       "      <td>1</td>\n",
       "      <td>5</td>\n",
       "      <td>44</td>\n",
       "      <td>9554.37</td>\n",
       "      <td>22.16</td>\n",
       "    </tr>\n",
       "  </tbody>\n",
       "</table>\n",
       "</div>"
      ],
      "text/plain": [
       "               dayofweek  month  Delivery Hour  Temperature in F  \\\n",
       "Delivery Date                                                      \n",
       "1/1/2015               3      1              1                44   \n",
       "1/1/2015               3      1              2                44   \n",
       "1/1/2015               3      1              3                44   \n",
       "1/1/2015               3      1              4                44   \n",
       "1/1/2015               3      1              5                44   \n",
       "\n",
       "              Load in Houston Settlement Point Price  \n",
       "Delivery Date                                         \n",
       "1/1/2015               9844.2                  22.47  \n",
       "1/1/2015              9653.46                  22.31  \n",
       "1/1/2015               9502.3                   22.2  \n",
       "1/1/2015              9474.48                  22.13  \n",
       "1/1/2015              9554.37                  22.16  "
      ]
     },
     "execution_count": 50,
     "metadata": {},
     "output_type": "execute_result"
    }
   ],
   "source": [
    "# Removing \",\" from columns \"Load in Houston\" , \"Ercot Load\" and \"Settlement Point Price\"\n",
    "load['Load in Houston'] = load['Load in Houston'].astype(str).str.replace(r',', '')\n",
    "#load['Ercot Load'] = load['Ercot Load'].astype(str).str.replace(r',', '')\n",
    "load['Settlement Point Price'] = load['Settlement Point Price'].astype(str).str.replace(r',', '')\n",
    "load.head()\n"
   ]
  },
  {
   "cell_type": "code",
   "execution_count": null,
   "metadata": {
    "scrolled": true
   },
   "outputs": [],
   "source": []
  },
  {
   "cell_type": "code",
   "execution_count": null,
   "metadata": {},
   "outputs": [],
   "source": [
    "\n"
   ]
  },
  {
   "cell_type": "code",
   "execution_count": 51,
   "metadata": {},
   "outputs": [
    {
     "data": {
      "text/plain": [
       "dayofweek                   int64\n",
       "month                       int64\n",
       "Delivery Hour               int64\n",
       "Temperature in F          float64\n",
       "Load in Houston           float64\n",
       "Settlement Point Price    float64\n",
       "dtype: object"
      ]
     },
     "execution_count": 51,
     "metadata": {},
     "output_type": "execute_result"
    }
   ],
   "source": [
    "load['Settlement Point Price'] = load['Settlement Point Price'].astype(float)\n",
    "load['Temperature in F'] = load['Temperature in F'].astype(float)\n",
    "load['Load in Houston'] = load['Load in Houston'].astype(float)\n",
    "#load['Ercot Load'] = load['Ercot Load'].astype(float)\n",
    "load['Settlement Point Price'] = round(load['Settlement Point Price'],2)\n",
    "load.dtypes\n",
    "#dataset = load.values"
   ]
  },
  {
   "cell_type": "code",
   "execution_count": null,
   "metadata": {},
   "outputs": [],
   "source": []
  },
  {
   "cell_type": "code",
   "execution_count": null,
   "metadata": {},
   "outputs": [],
   "source": []
  },
  {
   "cell_type": "code",
   "execution_count": 94,
   "metadata": {},
   "outputs": [],
   "source": [
    "import numpy as np\n",
    "from sklearn.preprocessing import StandardScaler, OneHotEncoder, QuantileTransformer, PowerTransformer\n",
    "from sklearn.compose import make_column_transformer\n",
    "from sklearn.compose import make_column_selector\n",
    "from sklearn.compose import ColumnTransformer\n",
    "\n",
    "ct = ColumnTransformer([(\"1\",OneHotEncoder(sparse=False),make_column_selector(pattern = 'month')),\n",
    "                             (\"2\",OneHotEncoder(sparse=False),make_column_selector(pattern = 'dayofweek')),\n",
    "                             (\"3\",OneHotEncoder(sparse=False),make_column_selector(pattern = 'Delivery Hour')),\n",
    "                             #(\"4\",OneHotEncoder(sparse=False),make_column_selector(pattern = 'Delivery Interval')),\n",
    "                             #(\"6\",OneHotEncoder(sparse=False),make_column_selector(pattern = 'DayStatus')),\n",
    "                             (\"7\",StandardScaler(copy=True), make_column_selector(pattern = 'Temperature in F')),\n",
    "                             (\"8\",StandardScaler(copy=True), make_column_selector(pattern = 'Load in Houston')),\n",
    "                             #(\"9\",StandardScaler(copy=True), make_column_selector(pattern = 'Ercot Load')),\n",
    "                             #(\"10\",StandardScaler(copy=True),make_column_selector(pattern = 'Rise')),\n",
    "                             (\"y\",StandardScaler(copy=True), make_column_selector(pattern = 'Settlement Point Price'))])"
   ]
  },
  {
   "cell_type": "code",
   "execution_count": 95,
   "metadata": {},
   "outputs": [
    {
     "name": "stdout",
     "output_type": "stream",
     "text": [
      "(34638, 46)\n"
     ]
    }
   ],
   "source": [
    "import numpy\n",
    "dataset=load.values\n",
    "#numpy.around(dataset, decimals=2, out=None)\n",
    "normed_data = ct.fit_transform(load)\n",
    "print(normed_data.shape)\n"
   ]
  },
  {
   "cell_type": "code",
   "execution_count": 96,
   "metadata": {},
   "outputs": [
    {
     "name": "stdout",
     "output_type": "stream",
     "text": [
      "(31174, 46) (3464, 46)\n"
     ]
    }
   ],
   "source": [
    "from sklearn.model_selection import train_test_split\n",
    "\n",
    "# splitting dataset into 'training dataset' and 'validation and test dataset'\n",
    "Train, Test = train_test_split(normed_data, test_size=0.1, shuffle = False)\n",
    "\n",
    "print(Train.shape, Test.shape)"
   ]
  },
  {
   "cell_type": "code",
   "execution_count": 97,
   "metadata": {
    "scrolled": true
   },
   "outputs": [
    {
     "data": {
      "text/plain": [
       "array([ 0.        ,  0.        ,  0.        ,  0.        ,  0.        ,\n",
       "        0.        ,  0.        ,  1.        ,  0.        ,  0.        ,\n",
       "        0.        ,  0.        ,  0.        ,  1.        ,  0.        ,\n",
       "        0.        ,  0.        ,  0.        ,  0.        ,  0.        ,\n",
       "        0.        ,  0.        ,  0.        ,  0.        ,  0.        ,\n",
       "        0.        ,  0.        ,  0.        ,  0.        ,  0.        ,\n",
       "        0.        ,  0.        ,  0.        ,  0.        ,  0.        ,\n",
       "        0.        ,  0.        ,  0.        ,  0.        ,  0.        ,\n",
       "        0.        ,  0.        ,  1.        ,  1.98140551,  0.6878887 ,\n",
       "       -0.17122064])"
      ]
     },
     "execution_count": 97,
     "metadata": {},
     "output_type": "execute_result"
    }
   ],
   "source": [
    "Test[0]"
   ]
  },
  {
   "cell_type": "code",
   "execution_count": 98,
   "metadata": {},
   "outputs": [],
   "source": [
    "train_labels = Train[:,(Train.shape[1]-1)]"
   ]
  },
  {
   "cell_type": "code",
   "execution_count": 123,
   "metadata": {},
   "outputs": [
    {
     "data": {
      "text/plain": [
       "array([-0.17122064])"
      ]
     },
     "execution_count": 123,
     "metadata": {},
     "output_type": "execute_result"
    }
   ],
   "source": [
    "test_labels = Test[:,(Test.shape[1]-1)].reshape(-1,1)\n",
    "test_labels[0]"
   ]
  },
  {
   "cell_type": "code",
   "execution_count": 100,
   "metadata": {},
   "outputs": [
    {
     "name": "stdout",
     "output_type": "stream",
     "text": [
      "(31174,) (3464,)\n"
     ]
    }
   ],
   "source": [
    "print(train_labels.shape, test_labels.shape)"
   ]
  },
  {
   "cell_type": "code",
   "execution_count": 101,
   "metadata": {},
   "outputs": [
    {
     "data": {
      "text/plain": [
       "array([-0.0636385 , -0.07057928, -0.07535107, ...,  0.34716911,\n",
       "        0.1853621 , -0.02416279])"
      ]
     },
     "execution_count": 101,
     "metadata": {},
     "output_type": "execute_result"
    }
   ],
   "source": [
    "train_labels"
   ]
  },
  {
   "cell_type": "code",
   "execution_count": 102,
   "metadata": {},
   "outputs": [
    {
     "data": {
      "text/plain": [
       "array([-0.17122064, -0.22197512, -0.24409887, ..., -0.34257123,\n",
       "       -0.32738827, -0.37120196])"
      ]
     },
     "execution_count": 102,
     "metadata": {},
     "output_type": "execute_result"
    }
   ],
   "source": [
    "test_labels"
   ]
  },
  {
   "cell_type": "code",
   "execution_count": 103,
   "metadata": {},
   "outputs": [
    {
     "data": {
      "text/plain": [
       "array([ 1.        ,  0.        ,  0.        ,  0.        ,  0.        ,\n",
       "        0.        ,  0.        ,  0.        ,  0.        ,  0.        ,\n",
       "        0.        ,  0.        ,  0.        ,  0.        ,  0.        ,\n",
       "        1.        ,  0.        ,  0.        ,  0.        ,  1.        ,\n",
       "        0.        ,  0.        ,  0.        ,  0.        ,  0.        ,\n",
       "        0.        ,  0.        ,  0.        ,  0.        ,  0.        ,\n",
       "        0.        ,  0.        ,  0.        ,  0.        ,  0.        ,\n",
       "        0.        ,  0.        ,  0.        ,  0.        ,  0.        ,\n",
       "        0.        ,  0.        ,  0.        , -1.74483262, -0.75033036])"
      ]
     },
     "execution_count": 103,
     "metadata": {},
     "output_type": "execute_result"
    }
   ],
   "source": [
    "Xtrain = Train[:,0:(Train.shape[1]-1)]\n",
    "Xtrain[0]"
   ]
  },
  {
   "cell_type": "code",
   "execution_count": 104,
   "metadata": {},
   "outputs": [
    {
     "data": {
      "text/plain": [
       "array([0.        , 0.        , 0.        , 0.        , 0.        ,\n",
       "       0.        , 0.        , 1.        , 0.        , 0.        ,\n",
       "       0.        , 0.        , 0.        , 1.        , 0.        ,\n",
       "       0.        , 0.        , 0.        , 0.        , 0.        ,\n",
       "       0.        , 0.        , 0.        , 0.        , 0.        ,\n",
       "       0.        , 0.        , 0.        , 0.        , 0.        ,\n",
       "       0.        , 0.        , 0.        , 0.        , 0.        ,\n",
       "       0.        , 0.        , 0.        , 0.        , 0.        ,\n",
       "       0.        , 0.        , 1.        , 1.98140551, 0.6878887 ])"
      ]
     },
     "execution_count": 104,
     "metadata": {},
     "output_type": "execute_result"
    }
   ],
   "source": [
    "Xtest = Test[:,0:(Test.shape[1]-1)]\n",
    "Xtest[0]"
   ]
  },
  {
   "cell_type": "code",
   "execution_count": 105,
   "metadata": {},
   "outputs": [],
   "source": [
    "import tensorflow as tf\n",
    "\n",
    "from tensorflow import keras\n",
    "from tensorflow.keras import layers\n",
    "from tensorflow.keras import optimizers\n"
   ]
  },
  {
   "cell_type": "code",
   "execution_count": 106,
   "metadata": {},
   "outputs": [],
   "source": [
    "model = keras.Sequential([\n",
    "    layers.Dense(64, activation='relu', input_shape=[Xtrain.shape[1],]),\n",
    "    layers.Dense(32, activation='relu'),\n",
    "    layers.Dense(32, activation='relu'),\n",
    "    layers.Dense(32, activation='relu'),\n",
    "    layers.Dense(32, activation='relu'),\n",
    "    layers.Dense(1)\n",
    "  ])"
   ]
  },
  {
   "cell_type": "code",
   "execution_count": null,
   "metadata": {},
   "outputs": [],
   "source": []
  },
  {
   "cell_type": "code",
   "execution_count": 107,
   "metadata": {},
   "outputs": [],
   "source": [
    "from tensorflow import keras\n",
    "from keras import backend as K\n",
    "from keras.callbacks import ReduceLROnPlateau, TensorBoard, ModelCheckpoint\n",
    "#lr_schedule = keras.optimizers.schedules.ExponentialDecay(5e-4,\n",
    "#                                               decay_steps=1000000,\n",
    "#                                               decay_rate=0.98,\n",
    "#                                                  staircase=False)\n",
    "reduce_lr = ReduceLROnPlateau(monitor='val_loss',factor=0.2, patience=10, mode='auto')\n",
    "from tensorflow import keras\n",
    "optimizer = keras.optimizers.Adam(lr=0.01, beta_1=1e-6)"
   ]
  },
  {
   "cell_type": "code",
   "execution_count": 108,
   "metadata": {},
   "outputs": [],
   "source": [
    "optimizer = optimizers.Adam()"
   ]
  },
  {
   "cell_type": "code",
   "execution_count": 109,
   "metadata": {},
   "outputs": [],
   "source": [
    "model.compile(loss='mse',\n",
    "                optimizer=optimizer,\n",
    "                metrics=['mae', 'mse'])"
   ]
  },
  {
   "cell_type": "code",
   "execution_count": 110,
   "metadata": {},
   "outputs": [
    {
     "name": "stdout",
     "output_type": "stream",
     "text": [
      "_________________________________________________________________\n",
      "Layer (type)                 Output Shape              Param #   \n",
      "=================================================================\n",
      "dense_12 (Dense)             (None, 64)                2944      \n",
      "_________________________________________________________________\n",
      "dense_13 (Dense)             (None, 32)                2080      \n",
      "_________________________________________________________________\n",
      "dense_14 (Dense)             (None, 32)                1056      \n",
      "_________________________________________________________________\n",
      "dense_15 (Dense)             (None, 32)                1056      \n",
      "_________________________________________________________________\n",
      "dense_16 (Dense)             (None, 32)                1056      \n",
      "_________________________________________________________________\n",
      "dense_17 (Dense)             (None, 1)                 33        \n",
      "=================================================================\n",
      "Total params: 8,225\n",
      "Trainable params: 8,225\n",
      "Non-trainable params: 0\n",
      "_________________________________________________________________\n"
     ]
    }
   ],
   "source": [
    "model.summary()"
   ]
  },
  {
   "cell_type": "code",
   "execution_count": 111,
   "metadata": {},
   "outputs": [],
   "source": [
    "early_stop = keras.callbacks.EarlyStopping(monitor='val_loss', patience=5)"
   ]
  },
  {
   "cell_type": "code",
   "execution_count": 112,
   "metadata": {},
   "outputs": [
    {
     "data": {
      "text/plain": [
       "array([[ 0.02596701],\n",
       "       [-0.00311641],\n",
       "       [-0.02736115],\n",
       "       [-0.07666118],\n",
       "       [ 0.00113936],\n",
       "       [ 0.02010138],\n",
       "       [-0.04673679],\n",
       "       [-0.02615586],\n",
       "       [-0.01401963],\n",
       "       [ 0.03803068]], dtype=float32)"
      ]
     },
     "execution_count": 112,
     "metadata": {},
     "output_type": "execute_result"
    }
   ],
   "source": [
    "example_batch= Xtrain[:10]\n",
    "example_result = model.predict(example_batch)\n",
    "example_result"
   ]
  },
  {
   "cell_type": "code",
   "execution_count": 113,
   "metadata": {},
   "outputs": [
    {
     "name": "stdout",
     "output_type": "stream",
     "text": [
      "2021-12-03 00:21:04.158107\n"
     ]
    }
   ],
   "source": [
    "import datetime\n",
    "print(datetime.datetime.now())"
   ]
  },
  {
   "cell_type": "code",
   "execution_count": 124,
   "metadata": {},
   "outputs": [
    {
     "name": "stdout",
     "output_type": "stream",
     "text": [
      "Train on 31174 samples, validate on 3464 samples\n",
      "Epoch 1/10\n",
      "31174/31174 [==============================] - 1s 44us/sample - loss: 0.3469 - mean_absolute_error: 0.2000 - mean_squared_error: 0.3469 - val_loss: 0.3192 - val_mean_absolute_error: 0.3182 - val_mean_squared_error: 0.3192\n",
      "Epoch 2/10\n",
      "31174/31174 [==============================] - 1s 43us/sample - loss: 0.2930 - mean_absolute_error: 0.1998 - mean_squared_error: 0.2930 - val_loss: 0.3115 - val_mean_absolute_error: 0.3148 - val_mean_squared_error: 0.3115\n",
      "Epoch 3/10\n",
      "31174/31174 [==============================] - 1s 44us/sample - loss: 0.3215 - mean_absolute_error: 0.1997 - mean_squared_error: 0.3215 - val_loss: 0.3089 - val_mean_absolute_error: 0.3118 - val_mean_squared_error: 0.3089\n",
      "Epoch 4/10\n",
      "31174/31174 [==============================] - 1s 42us/sample - loss: 0.3155 - mean_absolute_error: 0.2009 - mean_squared_error: 0.3155 - val_loss: 0.3077 - val_mean_absolute_error: 0.3145 - val_mean_squared_error: 0.3077\n",
      "Epoch 5/10\n",
      "31174/31174 [==============================] - 1s 45us/sample - loss: 0.2876 - mean_absolute_error: 0.1993 - mean_squared_error: 0.2876 - val_loss: 0.3119 - val_mean_absolute_error: 0.3142 - val_mean_squared_error: 0.3119\n",
      "Epoch 6/10\n",
      "31174/31174 [==============================] - 1s 46us/sample - loss: 0.5629 - mean_absolute_error: 0.2012 - mean_squared_error: 0.5629 - val_loss: 0.3207 - val_mean_absolute_error: 0.3178 - val_mean_squared_error: 0.3207\n",
      "Epoch 7/10\n",
      "31174/31174 [==============================] - 1s 42us/sample - loss: 0.3460 - mean_absolute_error: 0.1998 - mean_squared_error: 0.3460 - val_loss: 0.3168 - val_mean_absolute_error: 0.3133 - val_mean_squared_error: 0.3168\n",
      "Epoch 8/10\n",
      "31174/31174 [==============================] - 1s 42us/sample - loss: 0.3053 - mean_absolute_error: 0.1977 - mean_squared_error: 0.3053 - val_loss: 0.3274 - val_mean_absolute_error: 0.3184 - val_mean_squared_error: 0.3274\n",
      "Epoch 9/10\n",
      "31174/31174 [==============================] - 1s 42us/sample - loss: 0.2721 - mean_absolute_error: 0.1975 - mean_squared_error: 0.2721 - val_loss: 0.3262 - val_mean_absolute_error: 0.3197 - val_mean_squared_error: 0.3262\n",
      "Epoch 10/10\n",
      "31174/31174 [==============================] - 1s 43us/sample - loss: 0.3150 - mean_absolute_error: 0.2011 - mean_squared_error: 0.3150 - val_loss: 0.3252 - val_mean_absolute_error: 0.3141 - val_mean_squared_error: 0.3252\n"
     ]
    }
   ],
   "source": [
    "EPOCHS = 10\n",
    "history = model.fit(\n",
    "  Xtrain, train_labels,\n",
    "  epochs=EPOCHS, validation_data = (Xtest, test_labels), shuffle=False,batch_size=32, verbose=1,callbacks=[])"
   ]
  },
  {
   "cell_type": "code",
   "execution_count": 125,
   "metadata": {},
   "outputs": [
    {
     "name": "stdout",
     "output_type": "stream",
     "text": [
      "2021-12-03 00:26:53.567240\n",
      "(3464, 1)\n"
     ]
    },
    {
     "data": {
      "text/plain": [
       "3464"
      ]
     },
     "execution_count": 125,
     "metadata": {},
     "output_type": "execute_result"
    }
   ],
   "source": [
    "import datetime\n",
    "c=datetime.datetime.now()\n",
    "print(c)\n",
    "test_predictions = model.predict(Xtest)\n",
    "print(test_predictions.shape)\n",
    "op_list= []\n",
    "for i in range (0, len(test_predictions)):\n",
    "  op_list.append((test_predictions[i][0]))\n",
    "len(op_list)"
   ]
  },
  {
   "cell_type": "code",
   "execution_count": 129,
   "metadata": {},
   "outputs": [
    {
     "data": {
      "text/plain": [
       "0       19.99\n",
       "1       18.82\n",
       "2       18.31\n",
       "3       17.84\n",
       "4       17.73\n",
       "        ...  \n",
       "3459    21.45\n",
       "3460    18.50\n",
       "3461    16.04\n",
       "3462    16.39\n",
       "3463    15.38\n",
       "Name: actual, Length: 3464, dtype: float64"
      ]
     },
     "execution_count": 129,
     "metadata": {},
     "output_type": "execute_result"
    }
   ],
   "source": [
    "mm= []\n",
    "for i in range (0, len(test_labels)):\n",
    "  mm.append((test_labels[i][0]))\n",
    "test_labels=pd.DataFrame({'actual':mm})\n",
    "test_labels['actual']=ct.named_transformers_['y'].inverse_transform(test_labels)\n",
    "test_labels['actual']"
   ]
  },
  {
   "cell_type": "code",
   "execution_count": 139,
   "metadata": {},
   "outputs": [
    {
     "data": {
      "text/plain": [
       "0       21.896700\n",
       "1       20.896421\n",
       "2       20.275719\n",
       "3       20.213457\n",
       "4       19.323200\n",
       "          ...    \n",
       "3459    22.505823\n",
       "3460    21.662270\n",
       "3461    19.814987\n",
       "3462    19.120295\n",
       "3463    17.422409\n",
       "Name: predict, Length: 3464, dtype: float32"
      ]
     },
     "execution_count": 139,
     "metadata": {},
     "output_type": "execute_result"
    }
   ],
   "source": [
    "predictions=pd.DataFrame({'predict':op_list})\n",
    "predictions['predict'] = ct.named_transformers_['y'].inverse_transform(predictions)\n",
    "predictions['predict']"
   ]
  },
  {
   "cell_type": "code",
   "execution_count": 131,
   "metadata": {},
   "outputs": [
    {
     "data": {
      "image/png": "[encoded data removed]",
      "text/plain": [
       "<Figure size 432x288 with 1 Axes>"
      ]
     },
     "metadata": {
      "needs_background": "light"
     },
     "output_type": "display_data"
    }
   ],
   "source": [
    "\n",
    "import matplotlib.pyplot as plt\n",
    "plt.plot(history.history['loss'])\n",
    "plt.plot(history.history['val_loss'])\n",
    "plt.title('model loss')\n",
    "plt.ylabel('loss')\n",
    "plt.xlabel('epoch')\n",
    "plt.legend(['train', 'validation'], loc='upper left')\n",
    "plt.show()"
   ]
  },
  {
   "cell_type": "code",
   "execution_count": 148,
   "metadata": {
    "scrolled": true
   },
   "outputs": [
    {
     "data": {
      "image/png": "[encoded data removed]",
      "text/plain": [
       "<Figure size 1800x1080 with 1 Axes>"
      ]
     },
     "metadata": {
      "needs_background": "light"
     },
     "output_type": "display_data"
    }
   ],
   "source": [
    "import matplotlib.pyplot as plt\n",
    "plt.figure(figsize=(25,15))\n",
    "a = plt.axes(aspect='equal')\n",
    "plt.scatter(test_labels['actual'], predictions)\n",
    "plt.xlabel('True Value')\n",
    "plt.ylabel('Predictions')\n",
    "lims = [0, 200]\n",
    "plt.xlim(lims)\n",
    "plt.ylim(lims)\n",
    "_ = plt.plot(lims, lims)"
   ]
  },
  {
   "cell_type": "code",
   "execution_count": 149,
   "metadata": {},
   "outputs": [
    {
     "data": {
      "image/png": "[encoded data removed]",
      "text/plain": [
       "<Figure size 1800x1080 with 1 Axes>"
      ]
     },
     "metadata": {
      "needs_background": "light"
     },
     "output_type": "display_data"
    }
   ],
   "source": [
    "error =predictions['predict']- test_labels['actual']\n",
    "plt.figure(figsize=(25,15))\n",
    "plt.hist(error, bins = 50)\n",
    "plt.xlabel(\"Prediction Error\")\n",
    "_ = plt.ylabel(\"Count\")"
   ]
  },
  {
   "cell_type": "code",
   "execution_count": null,
   "metadata": {},
   "outputs": [],
   "source": []
  },
  {
   "cell_type": "code",
   "execution_count": 150,
   "metadata": {},
   "outputs": [
    {
     "name": "stdout",
     "output_type": "stream",
     "text": [
      "     predict\n",
      "0  21.896700\n",
      "1  20.896421\n",
      "2  20.275719\n",
      "3  20.213457\n",
      "4  19.323200\n",
      "5  19.818710\n",
      "6  20.482082\n",
      "7  22.791960\n",
      "8  22.066706\n",
      "9  23.407032 0    19.99\n",
      "1    18.82\n",
      "2    18.31\n",
      "3    17.84\n",
      "4    17.73\n",
      "5    17.59\n",
      "6    18.22\n",
      "7    19.18\n",
      "8    19.51\n",
      "9    20.30\n",
      "Name: actual, dtype: float64 0    1.906700\n",
      "1    2.076421\n",
      "2    1.965719\n",
      "3    2.373457\n",
      "4    1.593200\n",
      "5    2.228710\n",
      "6    2.262082\n",
      "7    3.611960\n",
      "8    2.556706\n",
      "9    3.107032\n",
      "dtype: float64\n"
     ]
    }
   ],
   "source": [
    "print(predictions[0:10], test_labels['actual'][0:10], error[0:10])"
   ]
  },
  {
   "cell_type": "code",
   "execution_count": 151,
   "metadata": {},
   "outputs": [
    {
     "name": "stdout",
     "output_type": "stream",
     "text": [
      "1966\n"
     ]
    }
   ],
   "source": [
    "i=0\n",
    "count=0\n",
    "for i in range(len(error)):\n",
    "    if ((error[i])>3) or ((error[i]<-3)):\n",
    "        count=count+1\n",
    "print(count)"
   ]
  },
  {
   "cell_type": "code",
   "execution_count": 152,
   "metadata": {},
   "outputs": [
    {
     "name": "stdout",
     "output_type": "stream",
     "text": [
      "accuracy: 43.24480369515011\n"
     ]
    }
   ],
   "source": [
    "a = len(test_predictions) - count\n",
    "a\n",
    "accuracy = (a/len(test_predictions))*100\n",
    "print('accuracy:', accuracy)"
   ]
  },
  {
   "cell_type": "code",
   "execution_count": 153,
   "metadata": {},
   "outputs": [
    {
     "name": "stdout",
     "output_type": "stream",
     "text": [
      "Mean of error in test data: -4.597147130129244\n",
      "Standard deviation of error in test data: 12.316747250655688\n"
     ]
    }
   ],
   "source": [
    "from statistics import mean, stdev\n",
    "print('Mean of error in test data:', mean(error))\n",
    "print('Standard deviation of error in test data:', stdev(error))"
   ]
  },
  {
   "cell_type": "code",
   "execution_count": 154,
   "metadata": {},
   "outputs": [
    {
     "name": "stdout",
     "output_type": "stream",
     "text": [
      "Mean of error in test data: 7.240866665344591\n",
      "Standard deviation of error in test data: 172.79223061680574\n"
     ]
    }
   ],
   "source": [
    "from statistics import mean, stdev\n",
    "print('Mean of error in test data:', mean(np.abs(error)))\n",
    "print('Standard deviation of error in test data:', mean(np.square(error)))"
   ]
  },
  {
   "cell_type": "code",
   "execution_count": 155,
   "metadata": {},
   "outputs": [
    {
     "name": "stdout",
     "output_type": "stream",
     "text": [
      "2021-12-03 00:33:59.142774\n"
     ]
    }
   ],
   "source": [
    "import datetime\n",
    "stop=datetime.datetime.now()\n",
    "print(stop)"
   ]
  },
  {
   "cell_type": "code",
   "execution_count": 156,
   "metadata": {},
   "outputs": [
    {
     "name": "stdout",
     "output_type": "stream",
     "text": [
      "0:25:05.335193\n"
     ]
    }
   ],
   "source": [
    "print(stop-start)"
   ]
  },
  {
   "cell_type": "code",
   "execution_count": 157,
   "metadata": {},
   "outputs": [
    {
     "name": "stdout",
     "output_type": "stream",
     "text": [
      "Mean of test data: 27.91680427251732\n",
      "Standard deviation of test data: 13.839937893298302\n"
     ]
    }
   ],
   "source": [
    "from statistics import mean, stdev\n",
    "print('Mean of test data:', mean(test_labels['actual']))\n",
    "print('Standard deviation of test data:', stdev(test_labels['actual']))"
   ]
  },
  {
   "cell_type": "code",
   "execution_count": 158,
   "metadata": {},
   "outputs": [
    {
     "name": "stdout",
     "output_type": "stream",
     "text": [
      "accuracy: with threshold of 1  is 16.17\n",
      "accuracy: with threshold of 2  is 31.84\n",
      "accuracy: with threshold of 3  is 43.24\n",
      "accuracy: with threshold of 4  is 52.40\n",
      "accuracy: with threshold of 5  is 59.64\n",
      "accuracy: with threshold of 6  is 65.18\n",
      "accuracy: with threshold of 7  is 69.80\n",
      "accuracy: with threshold of 8  is 73.30\n",
      "accuracy: with threshold of 9  is 76.07\n",
      "accuracy: with threshold of 10  is 78.78\n"
     ]
    }
   ],
   "source": [
    "for j in range(1,11):\n",
    "    i=0\n",
    "    count=0\n",
    "    for i in range(len(error)):\n",
    "        if ((error[i])>j) or ((error[i]<-j)):\n",
    "            count=count+1\n",
    "    a = len(predictions) - count\n",
    "    accuracy = (a/len(predictions))*100\n",
    "    print(\"accuracy: with threshold of %i\"%j,\" is %.2f\"%accuracy)"
   ]
  },
  {
   "cell_type": "code",
   "execution_count": null,
   "metadata": {},
   "outputs": [],
   "source": []
  },
  {
   "cell_type": "code",
   "execution_count": null,
   "metadata": {},
   "outputs": [],
   "source": []
  },
  {
   "cell_type": "code",
   "execution_count": null,
   "metadata": {},
   "outputs": [],
   "source": []
  },
  {
   "cell_type": "code",
   "execution_count": null,
   "metadata": {},
   "outputs": [],
   "source": []
  }
 ],
 "metadata": {
  "kernelspec": {
   "display_name": "Python 3 (ipykernel)",
   "language": "python",
   "name": "python3"
  },
  "language_info": {
   "codemirror_mode": {
    "name": "ipython",
    "version": 3
   },
   "file_extension": ".py",
   "mimetype": "text/x-python",
   "name": "python",
   "nbconvert_exporter": "python",
   "pygments_lexer": "ipython3",
   "version": "3.7.11"
  }
 },
 "nbformat": 4,
 "nbformat_minor": 4
}
