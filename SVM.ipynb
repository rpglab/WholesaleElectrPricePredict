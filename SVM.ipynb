{
 "cells": [
  {
   "cell_type": "code",
   "execution_count": 18,
   "metadata": {},
   "outputs": [
    {
     "name": "stdout",
     "output_type": "stream",
     "text": [
      "2021-12-03 00:51:18.390873\n"
     ]
    }
   ],
   "source": [
    "import numpy as np\n",
    "import datetime\n",
    "start=datetime.datetime.now()\n",
    "print(start)"
   ]
  },
  {
   "cell_type": "code",
   "execution_count": 19,
   "metadata": {},
   "outputs": [
    {
     "name": "stdout",
     "output_type": "stream",
     "text": [
      "C:\\Users\\tmj89\\Desktop\\Codes\n"
     ]
    }
   ],
   "source": [
    "import os\n",
    "cwd = os.getcwd()\n",
    "print(cwd)"
   ]
  },
  {
   "cell_type": "code",
   "execution_count": 20,
   "metadata": {},
   "outputs": [],
   "source": [
    "# -*- coding: utf-8 -*-\n",
    "import pandas as pd\n",
    "load = pd.read_csv(r'C:\\Users\\tmj89\\Desktop\\Codes\\dataset_train_4_0to200.csv')"
   ]
  },
  {
   "cell_type": "code",
   "execution_count": 21,
   "metadata": {
    "scrolled": true
   },
   "outputs": [
    {
     "data": {
      "text/plain": [
       "<bound method NDFrame.head of       Delivery Date  Delivery Hour Repeated Hour Flag Settlement Point Name  \\\n",
       "0          1/1/2015              1                  N            LZ_HOUSTON   \n",
       "1          1/1/2015              2                  N            LZ_HOUSTON   \n",
       "2          1/1/2015              3                  N            LZ_HOUSTON   \n",
       "3          1/1/2015              4                  N            LZ_HOUSTON   \n",
       "4          1/1/2015              5                  N            LZ_HOUSTON   \n",
       "...             ...            ...                ...                   ...   \n",
       "34633    12/31/2018             20                  N            LZ_HOUSTON   \n",
       "34634    12/31/2018             21                  N            LZ_HOUSTON   \n",
       "34635    12/31/2018             22                  N            LZ_HOUSTON   \n",
       "34636    12/31/2018             23                  N            LZ_HOUSTON   \n",
       "34637    12/31/2018             24                  N            LZ_HOUSTON   \n",
       "\n",
       "      Settlement Point Type       DayStatus  Temperature in F  \\\n",
       "0                        LZ  Public Holiday                44   \n",
       "1                        LZ  Public Holiday                44   \n",
       "2                        LZ  Public Holiday                44   \n",
       "3                        LZ  Public Holiday                44   \n",
       "4                        LZ  Public Holiday                44   \n",
       "...                     ...             ...               ...   \n",
       "34633                    LZ         Weekday                54   \n",
       "34634                    LZ         Weekday                55   \n",
       "34635                    LZ         Weekday                55   \n",
       "34636                    LZ         Weekday                55   \n",
       "34637                    LZ         Weekday                55   \n",
       "\n",
       "       Load in Houston  Settlement Point Price  \n",
       "0              9844.20                   22.47  \n",
       "1              9653.46                   22.31  \n",
       "2              9502.30                   22.20  \n",
       "3              9474.48                   22.13  \n",
       "4              9554.37                   22.16  \n",
       "...                ...                     ...  \n",
       "34633         10846.18                   21.45  \n",
       "34634         10574.06                   18.50  \n",
       "34635         10389.92                   16.04  \n",
       "34636         10179.72                   16.39  \n",
       "34637         10008.27                   15.38  \n",
       "\n",
       "[34638 rows x 9 columns]>"
      ]
     },
     "execution_count": 21,
     "metadata": {},
     "output_type": "execute_result"
    }
   ],
   "source": [
    "load.head"
   ]
  },
  {
   "cell_type": "code",
   "execution_count": 22,
   "metadata": {},
   "outputs": [
    {
     "data": {
      "text/plain": [
       "0        3\n",
       "1        3\n",
       "2        3\n",
       "3        3\n",
       "4        3\n",
       "        ..\n",
       "34633    0\n",
       "34634    0\n",
       "34635    0\n",
       "34636    0\n",
       "34637    0\n",
       "Name: dayofweek, Length: 34638, dtype: int64"
      ]
     },
     "execution_count": 22,
     "metadata": {},
     "output_type": "execute_result"
    }
   ],
   "source": [
    "load.dtypes\n",
    "\n",
    "import datetime\n",
    "load['year'] = pd.DatetimeIndex(load['Delivery Date']).year\n",
    "load['day'] = pd.DatetimeIndex(load['Delivery Date']).day# Extracting Day from \"Delivery Date\"\n",
    "load['month'] = pd.DatetimeIndex(load['Delivery Date']).month   # Extracting Month from \"Delivery Date\"\n",
    "\n",
    "\n",
    "a = load['Delivery Date']\n",
    "a= pd.to_datetime(a)\n",
    "\n",
    "load['dayofweek'] = a.dt.dayofweek\n",
    "load['dayofweek']"
   ]
  },
  {
   "cell_type": "code",
   "execution_count": null,
   "metadata": {},
   "outputs": [],
   "source": []
  },
  {
   "cell_type": "code",
   "execution_count": 23,
   "metadata": {},
   "outputs": [
    {
     "data": {
      "text/html": [
       "<div>\n",
       "<style scoped>\n",
       "    .dataframe tbody tr th:only-of-type {\n",
       "        vertical-align: middle;\n",
       "    }\n",
       "\n",
       "    .dataframe tbody tr th {\n",
       "        vertical-align: top;\n",
       "    }\n",
       "\n",
       "    .dataframe thead th {\n",
       "        text-align: right;\n",
       "    }\n",
       "</style>\n",
       "<table border=\"1\" class=\"dataframe\">\n",
       "  <thead>\n",
       "    <tr style=\"text-align: right;\">\n",
       "      <th></th>\n",
       "      <th>dayofweek</th>\n",
       "      <th>month</th>\n",
       "      <th>Delivery Hour</th>\n",
       "      <th>Temperature in F</th>\n",
       "      <th>Load in Houston</th>\n",
       "      <th>Settlement Point Price</th>\n",
       "    </tr>\n",
       "    <tr>\n",
       "      <th>Delivery Date</th>\n",
       "      <th></th>\n",
       "      <th></th>\n",
       "      <th></th>\n",
       "      <th></th>\n",
       "      <th></th>\n",
       "      <th></th>\n",
       "    </tr>\n",
       "  </thead>\n",
       "  <tbody>\n",
       "    <tr>\n",
       "      <th>1/1/2015</th>\n",
       "      <td>3</td>\n",
       "      <td>1</td>\n",
       "      <td>1</td>\n",
       "      <td>44</td>\n",
       "      <td>9844.20</td>\n",
       "      <td>22.47</td>\n",
       "    </tr>\n",
       "    <tr>\n",
       "      <th>1/1/2015</th>\n",
       "      <td>3</td>\n",
       "      <td>1</td>\n",
       "      <td>2</td>\n",
       "      <td>44</td>\n",
       "      <td>9653.46</td>\n",
       "      <td>22.31</td>\n",
       "    </tr>\n",
       "    <tr>\n",
       "      <th>1/1/2015</th>\n",
       "      <td>3</td>\n",
       "      <td>1</td>\n",
       "      <td>3</td>\n",
       "      <td>44</td>\n",
       "      <td>9502.30</td>\n",
       "      <td>22.20</td>\n",
       "    </tr>\n",
       "    <tr>\n",
       "      <th>1/1/2015</th>\n",
       "      <td>3</td>\n",
       "      <td>1</td>\n",
       "      <td>4</td>\n",
       "      <td>44</td>\n",
       "      <td>9474.48</td>\n",
       "      <td>22.13</td>\n",
       "    </tr>\n",
       "    <tr>\n",
       "      <th>1/1/2015</th>\n",
       "      <td>3</td>\n",
       "      <td>1</td>\n",
       "      <td>5</td>\n",
       "      <td>44</td>\n",
       "      <td>9554.37</td>\n",
       "      <td>22.16</td>\n",
       "    </tr>\n",
       "  </tbody>\n",
       "</table>\n",
       "</div>"
      ],
      "text/plain": [
       "               dayofweek  month  Delivery Hour  Temperature in F  \\\n",
       "Delivery Date                                                      \n",
       "1/1/2015               3      1              1                44   \n",
       "1/1/2015               3      1              2                44   \n",
       "1/1/2015               3      1              3                44   \n",
       "1/1/2015               3      1              4                44   \n",
       "1/1/2015               3      1              5                44   \n",
       "\n",
       "               Load in Houston  Settlement Point Price  \n",
       "Delivery Date                                           \n",
       "1/1/2015               9844.20                   22.47  \n",
       "1/1/2015               9653.46                   22.31  \n",
       "1/1/2015               9502.30                   22.20  \n",
       "1/1/2015               9474.48                   22.13  \n",
       "1/1/2015               9554.37                   22.16  "
      ]
     },
     "execution_count": 23,
     "metadata": {},
     "output_type": "execute_result"
    }
   ],
   "source": [
    "load = load.set_index(['Delivery Date']) \n",
    "load = load.drop(columns=['year','day','Settlement Point Name','Settlement Point Type'], axis=1)  \n",
    "# Re-arranging Columns\n",
    "load = load[['dayofweek','month','Delivery Hour','Temperature in F','Load in Houston', 'Settlement Point Price']]\n",
    "load.head()"
   ]
  },
  {
   "cell_type": "code",
   "execution_count": 24,
   "metadata": {},
   "outputs": [
    {
     "data": {
      "text/plain": [
       "dayofweek                   int64\n",
       "month                       int64\n",
       "Delivery Hour               int64\n",
       "Temperature in F            int64\n",
       "Load in Houston           float64\n",
       "Settlement Point Price    float64\n",
       "dtype: object"
      ]
     },
     "execution_count": 24,
     "metadata": {},
     "output_type": "execute_result"
    }
   ],
   "source": [
    "load.dtypes"
   ]
  },
  {
   "cell_type": "code",
   "execution_count": null,
   "metadata": {
    "scrolled": true
   },
   "outputs": [],
   "source": []
  },
  {
   "cell_type": "code",
   "execution_count": 25,
   "metadata": {
    "scrolled": true
   },
   "outputs": [
    {
     "data": {
      "text/html": [
       "<div>\n",
       "<style scoped>\n",
       "    .dataframe tbody tr th:only-of-type {\n",
       "        vertical-align: middle;\n",
       "    }\n",
       "\n",
       "    .dataframe tbody tr th {\n",
       "        vertical-align: top;\n",
       "    }\n",
       "\n",
       "    .dataframe thead th {\n",
       "        text-align: right;\n",
       "    }\n",
       "</style>\n",
       "<table border=\"1\" class=\"dataframe\">\n",
       "  <thead>\n",
       "    <tr style=\"text-align: right;\">\n",
       "      <th></th>\n",
       "      <th>dayofweek</th>\n",
       "      <th>month</th>\n",
       "      <th>Delivery Hour</th>\n",
       "      <th>Temperature in F</th>\n",
       "      <th>Load in Houston</th>\n",
       "      <th>Settlement Point Price</th>\n",
       "    </tr>\n",
       "    <tr>\n",
       "      <th>Delivery Date</th>\n",
       "      <th></th>\n",
       "      <th></th>\n",
       "      <th></th>\n",
       "      <th></th>\n",
       "      <th></th>\n",
       "      <th></th>\n",
       "    </tr>\n",
       "  </thead>\n",
       "  <tbody>\n",
       "    <tr>\n",
       "      <th>1/1/2015</th>\n",
       "      <td>3</td>\n",
       "      <td>1</td>\n",
       "      <td>1</td>\n",
       "      <td>44</td>\n",
       "      <td>9844.2</td>\n",
       "      <td>22.47</td>\n",
       "    </tr>\n",
       "    <tr>\n",
       "      <th>1/1/2015</th>\n",
       "      <td>3</td>\n",
       "      <td>1</td>\n",
       "      <td>2</td>\n",
       "      <td>44</td>\n",
       "      <td>9653.46</td>\n",
       "      <td>22.31</td>\n",
       "    </tr>\n",
       "    <tr>\n",
       "      <th>1/1/2015</th>\n",
       "      <td>3</td>\n",
       "      <td>1</td>\n",
       "      <td>3</td>\n",
       "      <td>44</td>\n",
       "      <td>9502.3</td>\n",
       "      <td>22.2</td>\n",
       "    </tr>\n",
       "    <tr>\n",
       "      <th>1/1/2015</th>\n",
       "      <td>3</td>\n",
       "      <td>1</td>\n",
       "      <td>4</td>\n",
       "      <td>44</td>\n",
       "      <td>9474.48</td>\n",
       "      <td>22.13</td>\n",
       "    </tr>\n",
       "    <tr>\n",
       "      <th>1/1/2015</th>\n",
       "      <td>3</td>\n",
       "      <td>1</td>\n",
       "      <td>5</td>\n",
       "      <td>44</td>\n",
       "      <td>9554.37</td>\n",
       "      <td>22.16</td>\n",
       "    </tr>\n",
       "  </tbody>\n",
       "</table>\n",
       "</div>"
      ],
      "text/plain": [
       "               dayofweek  month  Delivery Hour  Temperature in F  \\\n",
       "Delivery Date                                                      \n",
       "1/1/2015               3      1              1                44   \n",
       "1/1/2015               3      1              2                44   \n",
       "1/1/2015               3      1              3                44   \n",
       "1/1/2015               3      1              4                44   \n",
       "1/1/2015               3      1              5                44   \n",
       "\n",
       "              Load in Houston Settlement Point Price  \n",
       "Delivery Date                                         \n",
       "1/1/2015               9844.2                  22.47  \n",
       "1/1/2015              9653.46                  22.31  \n",
       "1/1/2015               9502.3                   22.2  \n",
       "1/1/2015              9474.48                  22.13  \n",
       "1/1/2015              9554.37                  22.16  "
      ]
     },
     "execution_count": 25,
     "metadata": {},
     "output_type": "execute_result"
    }
   ],
   "source": [
    "# Removing \",\" from columns \"Load in Houston\" , \"Ercot Load\" and \"Settlement Point Price\"\n",
    "load['Load in Houston'] = load['Load in Houston'].astype(str).str.replace(r',', '')\n",
    "#load['Ercot Load'] = load['Ercot Load'].astype(str).str.replace(r',', '')\n",
    "load['Settlement Point Price'] = load['Settlement Point Price'].astype(str).str.replace(r',', '')\n",
    "load.head()\n"
   ]
  },
  {
   "cell_type": "code",
   "execution_count": null,
   "metadata": {
    "scrolled": true
   },
   "outputs": [],
   "source": []
  },
  {
   "cell_type": "code",
   "execution_count": null,
   "metadata": {},
   "outputs": [],
   "source": [
    "\n"
   ]
  },
  {
   "cell_type": "code",
   "execution_count": 26,
   "metadata": {},
   "outputs": [
    {
     "data": {
      "text/plain": [
       "dayofweek                   int64\n",
       "month                       int64\n",
       "Delivery Hour               int64\n",
       "Temperature in F          float64\n",
       "Load in Houston            object\n",
       "Settlement Point Price    float64\n",
       "dtype: object"
      ]
     },
     "execution_count": 26,
     "metadata": {},
     "output_type": "execute_result"
    }
   ],
   "source": [
    "load['Settlement Point Price'] = load['Settlement Point Price'].astype(float)\n",
    "load['Temperature in F'] = load['Temperature in F'].astype(float)\n",
    "#load['Load in Houston'] = load['Load in Houston'].astype(float)\n",
    "#load['Ercot Load'] = load['Ercot Load'].astype(float)\n",
    "load.dtypes"
   ]
  },
  {
   "cell_type": "code",
   "execution_count": 27,
   "metadata": {},
   "outputs": [
    {
     "data": {
      "image/png": "[encoded data removed]",
      "text/plain": [
       "<Figure size 1800x1080 with 1 Axes>"
      ]
     },
     "metadata": {
      "needs_background": "light"
     },
     "output_type": "display_data"
    }
   ],
   "source": [
    "import matplotlib.pyplot as plt\n",
    "plt.figure(figsize=(25,15))\n",
    "plt.hist(load['Settlement Point Price'], bins = (0,5,10,15,20,25,30,35,40,45,50,55,60))\n",
    "plt.xticks(np.arange(0,61,5))\n",
    "plt.yticks(np.arange(0,70000,3000))\n",
    "plt.xlabel(\"Price\")\n",
    "_ = plt.ylabel(\"Count\")"
   ]
  },
  {
   "cell_type": "code",
   "execution_count": null,
   "metadata": {},
   "outputs": [],
   "source": []
  },
  {
   "cell_type": "code",
   "execution_count": 28,
   "metadata": {},
   "outputs": [],
   "source": [
    "import numpy as np\n",
    "from sklearn.preprocessing import StandardScaler, OneHotEncoder, QuantileTransformer, PowerTransformer\n",
    "from sklearn.compose import make_column_transformer\n",
    "from sklearn.compose import make_column_selector\n",
    "from sklearn.compose import ColumnTransformer\n",
    "\n",
    "ct = ColumnTransformer([(\"1\",OneHotEncoder(sparse=False),make_column_selector(pattern = 'month')),\n",
    "                             (\"2\",OneHotEncoder(sparse=False),make_column_selector(pattern = 'dayofweek')),\n",
    "                             (\"3\",OneHotEncoder(sparse=False),make_column_selector(pattern = 'Delivery Hour')),\n",
    "                             #(\"4\",OneHotEncoder(sparse=False),make_column_selector(pattern = 'Delivery Interval')),\n",
    "                             #(\"6\",OneHotEncoder(sparse=False),make_column_selector(pattern = 'DayStatus')),\n",
    "                             (\"7\",StandardScaler(copy=True), make_column_selector(pattern = 'Temperature in F')),\n",
    "                             (\"8\",StandardScaler(copy=True), make_column_selector(pattern = 'Load in Houston')),\n",
    "                             #(\"9\",StandardScaler(copy=True), make_column_selector(pattern = 'Ercot Load')),\n",
    "                             #(\"10\",StandardScaler(copy=True),make_column_selector(pattern = 'Rise')),\n",
    "                             (\"y\",StandardScaler(copy=True), make_column_selector(pattern = 'Settlement Point Price'))])"
   ]
  },
  {
   "cell_type": "code",
   "execution_count": 29,
   "metadata": {},
   "outputs": [
    {
     "name": "stdout",
     "output_type": "stream",
     "text": [
      "(34638, 46)\n"
     ]
    }
   ],
   "source": [
    "import numpy\n",
    "dataset=load.values\n",
    "#numpy.around(dataset, decimals=2, out=None)\n",
    "normed_data = ct.fit_transform(load)\n",
    "print(normed_data.shape)"
   ]
  },
  {
   "cell_type": "code",
   "execution_count": 30,
   "metadata": {},
   "outputs": [
    {
     "name": "stdout",
     "output_type": "stream",
     "text": [
      "(31174, 46) (3464, 46)\n"
     ]
    }
   ],
   "source": [
    "from sklearn.model_selection import train_test_split\n",
    "\n",
    "# splitting dataset into 'training dataset' and 'validation and test dataset'\n",
    "Train, Test = train_test_split(normed_data, test_size=0.1, shuffle = False)\n",
    "\n",
    "print(Train.shape, Test.shape)"
   ]
  },
  {
   "cell_type": "code",
   "execution_count": 31,
   "metadata": {
    "scrolled": true
   },
   "outputs": [
    {
     "data": {
      "text/plain": [
       "array([ 0.        ,  0.        ,  0.        ,  0.        ,  0.        ,\n",
       "        0.        ,  0.        ,  1.        ,  0.        ,  0.        ,\n",
       "        0.        ,  0.        ,  0.        ,  1.        ,  0.        ,\n",
       "        0.        ,  0.        ,  0.        ,  0.        ,  0.        ,\n",
       "        0.        ,  0.        ,  0.        ,  0.        ,  0.        ,\n",
       "        0.        ,  0.        ,  0.        ,  0.        ,  0.        ,\n",
       "        0.        ,  0.        ,  0.        ,  0.        ,  0.        ,\n",
       "        0.        ,  0.        ,  0.        ,  0.        ,  0.        ,\n",
       "        0.        ,  0.        ,  1.        ,  1.98140551,  0.6878887 ,\n",
       "       -0.17122064])"
      ]
     },
     "execution_count": 31,
     "metadata": {},
     "output_type": "execute_result"
    }
   ],
   "source": [
    "Test[0]"
   ]
  },
  {
   "cell_type": "code",
   "execution_count": 32,
   "metadata": {},
   "outputs": [],
   "source": [
    "train_labels = Train[:,(Train.shape[1]-1)]"
   ]
  },
  {
   "cell_type": "code",
   "execution_count": 33,
   "metadata": {},
   "outputs": [],
   "source": [
    "test_labels = Test[:,(Test.shape[1]-1)]"
   ]
  },
  {
   "cell_type": "code",
   "execution_count": 34,
   "metadata": {},
   "outputs": [
    {
     "name": "stdout",
     "output_type": "stream",
     "text": [
      "(31174,) (3464,)\n"
     ]
    }
   ],
   "source": [
    "print(train_labels.shape, test_labels.shape)"
   ]
  },
  {
   "cell_type": "code",
   "execution_count": 35,
   "metadata": {},
   "outputs": [
    {
     "data": {
      "text/plain": [
       "array([-0.0636385 , -0.07057928, -0.07535107, ...,  0.34716911,\n",
       "        0.1853621 , -0.02416279])"
      ]
     },
     "execution_count": 35,
     "metadata": {},
     "output_type": "execute_result"
    }
   ],
   "source": [
    "train_labels"
   ]
  },
  {
   "cell_type": "code",
   "execution_count": 36,
   "metadata": {},
   "outputs": [
    {
     "data": {
      "text/plain": [
       "array([-0.17122064, -0.22197512, -0.24409887, ..., -0.34257123,\n",
       "       -0.32738827, -0.37120196])"
      ]
     },
     "execution_count": 36,
     "metadata": {},
     "output_type": "execute_result"
    }
   ],
   "source": [
    "test_labels"
   ]
  },
  {
   "cell_type": "code",
   "execution_count": 37,
   "metadata": {},
   "outputs": [
    {
     "data": {
      "text/plain": [
       "array([ 1.        ,  0.        ,  0.        ,  0.        ,  0.        ,\n",
       "        0.        ,  0.        ,  0.        ,  0.        ,  0.        ,\n",
       "        0.        ,  0.        ,  0.        ,  0.        ,  0.        ,\n",
       "        1.        ,  0.        ,  0.        ,  0.        ,  1.        ,\n",
       "        0.        ,  0.        ,  0.        ,  0.        ,  0.        ,\n",
       "        0.        ,  0.        ,  0.        ,  0.        ,  0.        ,\n",
       "        0.        ,  0.        ,  0.        ,  0.        ,  0.        ,\n",
       "        0.        ,  0.        ,  0.        ,  0.        ,  0.        ,\n",
       "        0.        ,  0.        ,  0.        , -1.74483262, -0.75033036])"
      ]
     },
     "execution_count": 37,
     "metadata": {},
     "output_type": "execute_result"
    }
   ],
   "source": [
    "Xtrain = Train[:,0:(Train.shape[1]-1)]\n",
    "Xtrain[0]"
   ]
  },
  {
   "cell_type": "code",
   "execution_count": 38,
   "metadata": {},
   "outputs": [
    {
     "data": {
      "text/plain": [
       "array([0.        , 0.        , 0.        , 0.        , 0.        ,\n",
       "       0.        , 0.        , 1.        , 0.        , 0.        ,\n",
       "       0.        , 0.        , 0.        , 1.        , 0.        ,\n",
       "       0.        , 0.        , 0.        , 0.        , 0.        ,\n",
       "       0.        , 0.        , 0.        , 0.        , 0.        ,\n",
       "       0.        , 0.        , 0.        , 0.        , 0.        ,\n",
       "       0.        , 0.        , 0.        , 0.        , 0.        ,\n",
       "       0.        , 0.        , 0.        , 0.        , 0.        ,\n",
       "       0.        , 0.        , 1.        , 1.98140551, 0.6878887 ])"
      ]
     },
     "execution_count": 38,
     "metadata": {},
     "output_type": "execute_result"
    }
   ],
   "source": [
    "Xtest = Test[:,0:(Test.shape[1]-1)]\n",
    "Xtest[0]"
   ]
  },
  {
   "cell_type": "code",
   "execution_count": 39,
   "metadata": {},
   "outputs": [
    {
     "name": "stdout",
     "output_type": "stream",
     "text": [
      "2021-12-03 00:51:29.960701\n",
      "2021-12-03 00:53:05.157023\n"
     ]
    }
   ],
   "source": [
    "from sklearn import svm\n",
    "start=datetime.datetime.now()\n",
    "print(start)\n",
    "clf = svm.SVR()\n",
    "clf.fit(Xtrain,train_labels)\n",
    "stop=datetime.datetime.now()\n",
    "print(stop)"
   ]
  },
  {
   "cell_type": "code",
   "execution_count": null,
   "metadata": {},
   "outputs": [],
   "source": []
  },
  {
   "cell_type": "code",
   "execution_count": null,
   "metadata": {},
   "outputs": [],
   "source": []
  },
  {
   "cell_type": "code",
   "execution_count": null,
   "metadata": {},
   "outputs": [],
   "source": []
  },
  {
   "cell_type": "code",
   "execution_count": null,
   "metadata": {},
   "outputs": [],
   "source": []
  },
  {
   "cell_type": "code",
   "execution_count": null,
   "metadata": {},
   "outputs": [],
   "source": []
  },
  {
   "cell_type": "code",
   "execution_count": null,
   "metadata": {},
   "outputs": [],
   "source": []
  },
  {
   "cell_type": "code",
   "execution_count": null,
   "metadata": {},
   "outputs": [],
   "source": []
  },
  {
   "cell_type": "code",
   "execution_count": null,
   "metadata": {},
   "outputs": [],
   "source": [
    "\n"
   ]
  },
  {
   "cell_type": "code",
   "execution_count": null,
   "metadata": {},
   "outputs": [],
   "source": []
  },
  {
   "cell_type": "code",
   "execution_count": 40,
   "metadata": {},
   "outputs": [
    {
     "name": "stdout",
     "output_type": "stream",
     "text": [
      "2021-12-03 02:38:51.328493\n"
     ]
    },
    {
     "data": {
      "text/plain": [
       "3464"
      ]
     },
     "execution_count": 40,
     "metadata": {},
     "output_type": "execute_result"
    }
   ],
   "source": [
    "import datetime\n",
    "c=datetime.datetime.now()\n",
    "print(c)\n",
    "test_predictions = clf.predict(Xtest)\n",
    "op_list= []\n",
    "for i in range (0, len(test_predictions)):\n",
    "  op_list.append((test_predictions[i]))\n",
    "len(op_list)"
   ]
  },
  {
   "cell_type": "code",
   "execution_count": null,
   "metadata": {},
   "outputs": [],
   "source": []
  },
  {
   "cell_type": "code",
   "execution_count": 41,
   "metadata": {},
   "outputs": [
    {
     "data": {
      "text/plain": [
       "0       19.99\n",
       "1       18.82\n",
       "2       18.31\n",
       "3       17.84\n",
       "4       17.73\n",
       "        ...  \n",
       "3459    21.45\n",
       "3460    18.50\n",
       "3461    16.04\n",
       "3462    16.39\n",
       "3463    15.38\n",
       "Name: actual, Length: 3464, dtype: float64"
      ]
     },
     "execution_count": 41,
     "metadata": {},
     "output_type": "execute_result"
    }
   ],
   "source": [
    "mm= []\n",
    "for i in range (0, len(test_labels)):\n",
    "  mm.append((test_labels[i]))\n",
    "test_labels=pd.DataFrame({'actual':mm})\n",
    "test_labels['actual']=ct.named_transformers_['y'].inverse_transform(test_labels)\n",
    "test_labels['actual']"
   ]
  },
  {
   "cell_type": "code",
   "execution_count": 42,
   "metadata": {},
   "outputs": [],
   "source": [
    "predictions=pd.DataFrame({'predict':op_list})\n",
    "predictions['predict'] = ct.named_transformers_['y'].inverse_transform(predictions)"
   ]
  },
  {
   "cell_type": "code",
   "execution_count": null,
   "metadata": {},
   "outputs": [],
   "source": []
  },
  {
   "cell_type": "code",
   "execution_count": 43,
   "metadata": {
    "scrolled": true
   },
   "outputs": [
    {
     "data": {
      "image/png": "[encoded data removed]",
      "text/plain": [
       "<Figure size 1800x1080 with 1 Axes>"
      ]
     },
     "metadata": {
      "needs_background": "light"
     },
     "output_type": "display_data"
    }
   ],
   "source": [
    "import matplotlib.pyplot as plt\n",
    "plt.figure(figsize=(25,15))\n",
    "a = plt.axes(aspect='equal')\n",
    "plt.scatter(test_labels['actual'], predictions)\n",
    "plt.xlabel('True Value')\n",
    "plt.ylabel('Predictions')\n",
    "lims = [0, 200]\n",
    "plt.xlim(lims)\n",
    "plt.ylim(lims)\n",
    "_ = plt.plot(lims, lims)"
   ]
  },
  {
   "cell_type": "code",
   "execution_count": null,
   "metadata": {},
   "outputs": [],
   "source": []
  },
  {
   "cell_type": "code",
   "execution_count": 44,
   "metadata": {},
   "outputs": [
    {
     "data": {
      "image/png": "[encoded data removed]",
      "text/plain": [
       "<Figure size 1800x1080 with 1 Axes>"
      ]
     },
     "metadata": {
      "needs_background": "light"
     },
     "output_type": "display_data"
    }
   ],
   "source": [
    "error =predictions['predict']- test_labels['actual']\n",
    "plt.figure(figsize=(25,15))\n",
    "plt.hist(error, bins = 50)\n",
    "plt.xlabel(\"Prediction Error\")\n",
    "_ = plt.ylabel(\"Count\")"
   ]
  },
  {
   "cell_type": "code",
   "execution_count": 45,
   "metadata": {},
   "outputs": [
    {
     "name": "stdout",
     "output_type": "stream",
     "text": [
      "     predict\n",
      "0  21.514736\n",
      "1  19.491181\n",
      "2  18.800231\n",
      "3  18.410109\n",
      "4  17.760088\n",
      "5  18.194665\n",
      "6  19.936911\n",
      "7  21.312757\n",
      "8  21.112501\n",
      "9  21.911441 0    19.99\n",
      "1    18.82\n",
      "2    18.31\n",
      "3    17.84\n",
      "4    17.73\n",
      "5    17.59\n",
      "6    18.22\n",
      "7    19.18\n",
      "8    19.51\n",
      "9    20.30\n",
      "Name: actual, dtype: float64 0    1.524736\n",
      "1    0.671181\n",
      "2    0.490231\n",
      "3    0.570109\n",
      "4    0.030088\n",
      "5    0.604665\n",
      "6    1.716911\n",
      "7    2.132757\n",
      "8    1.602501\n",
      "9    1.611441\n",
      "dtype: float64\n"
     ]
    }
   ],
   "source": [
    "print(predictions[0:10], test_labels['actual'][0:10], error[0:10])"
   ]
  },
  {
   "cell_type": "code",
   "execution_count": 46,
   "metadata": {},
   "outputs": [
    {
     "name": "stdout",
     "output_type": "stream",
     "text": [
      "2015\n"
     ]
    }
   ],
   "source": [
    "i=0\n",
    "count=0\n",
    "for i in range(len(error)):\n",
    "    if ((error[i])>3) or ((error[i]<-3)):\n",
    "        count=count+1\n",
    "print(count)"
   ]
  },
  {
   "cell_type": "code",
   "execution_count": 47,
   "metadata": {},
   "outputs": [
    {
     "name": "stdout",
     "output_type": "stream",
     "text": [
      "accuracy: 41.830254041570434\n"
     ]
    }
   ],
   "source": [
    "a = len(test_predictions) - count\n",
    "a\n",
    "accuracy = (a/len(test_predictions))*100\n",
    "print('accuracy:', accuracy)"
   ]
  },
  {
   "cell_type": "code",
   "execution_count": 48,
   "metadata": {},
   "outputs": [
    {
     "name": "stdout",
     "output_type": "stream",
     "text": [
      "Mean of error in test data: -6.069568296861225\n",
      "Standard deviation of error in test data: 11.609358005162495\n"
     ]
    }
   ],
   "source": [
    "from statistics import mean, stdev\n",
    "print('Mean of error in test data:', mean(error))\n",
    "print('Standard deviation of error in test data:', stdev(error))"
   ]
  },
  {
   "cell_type": "code",
   "execution_count": 49,
   "metadata": {},
   "outputs": [
    {
     "name": "stdout",
     "output_type": "stream",
     "text": [
      "Mean of error in test data: 7.4048371081179205\n",
      "Standard deviation of error in test data: 171.57794463656242\n"
     ]
    }
   ],
   "source": [
    "from statistics import mean, stdev\n",
    "print('Mean of error in test data:', mean(np.abs(error)))\n",
    "print('Standard deviation of error in test data:', mean(np.square(error)))"
   ]
  },
  {
   "cell_type": "code",
   "execution_count": 50,
   "metadata": {},
   "outputs": [
    {
     "name": "stdout",
     "output_type": "stream",
     "text": [
      "2021-12-03 02:38:57.380642\n"
     ]
    }
   ],
   "source": [
    "import datetime\n",
    "stop=datetime.datetime.now()\n",
    "print(stop)"
   ]
  },
  {
   "cell_type": "code",
   "execution_count": 51,
   "metadata": {},
   "outputs": [
    {
     "name": "stdout",
     "output_type": "stream",
     "text": [
      "1:47:27.419941\n"
     ]
    }
   ],
   "source": [
    "print(stop-start)"
   ]
  },
  {
   "cell_type": "code",
   "execution_count": 52,
   "metadata": {},
   "outputs": [
    {
     "name": "stdout",
     "output_type": "stream",
     "text": [
      "Mean of test data: 27.91680427251732\n",
      "Standard deviation of test data: 13.839937893298302\n"
     ]
    }
   ],
   "source": [
    "from statistics import mean, stdev\n",
    "print('Mean of test data:', mean(test_labels['actual']))\n",
    "print('Standard deviation of test data:', stdev(test_labels['actual']))"
   ]
  },
  {
   "cell_type": "code",
   "execution_count": 53,
   "metadata": {},
   "outputs": [
    {
     "name": "stdout",
     "output_type": "stream",
     "text": [
      "accuracy: with threshold of 1  is 16.31\n",
      "accuracy: with threshold of 2  is 30.66\n",
      "accuracy: with threshold of 3  is 41.83\n",
      "accuracy: with threshold of 4  is 50.35\n",
      "accuracy: with threshold of 5  is 57.39\n",
      "accuracy: with threshold of 6  is 62.70\n",
      "accuracy: with threshold of 7  is 67.32\n",
      "accuracy: with threshold of 8  is 71.54\n",
      "accuracy: with threshold of 9  is 74.60\n",
      "accuracy: with threshold of 10  is 77.34\n"
     ]
    }
   ],
   "source": [
    "for j in range(1,11):\n",
    "    i=0\n",
    "    count=0\n",
    "    for i in range(len(error)):\n",
    "        if ((error[i])>j) or ((error[i]<-j)):\n",
    "            count=count+1\n",
    "    a = len(predictions) - count\n",
    "    accuracy = (a/len(predictions))*100\n",
    "    print(\"accuracy: with threshold of %i\"%j,\" is %.2f\"%accuracy)"
   ]
  },
  {
   "cell_type": "code",
   "execution_count": null,
   "metadata": {},
   "outputs": [],
   "source": []
  }
 ],
 "metadata": {
  "kernelspec": {
   "display_name": "Python 3 (ipykernel)",
   "language": "python",
   "name": "python3"
  },
  "language_info": {
   "codemirror_mode": {
    "name": "ipython",
    "version": 3
   },
   "file_extension": ".py",
   "mimetype": "text/x-python",
   "name": "python",
   "nbconvert_exporter": "python",
   "pygments_lexer": "ipython3",
   "version": "3.7.11"
  }
 },
 "nbformat": 4,
 "nbformat_minor": 4
}
